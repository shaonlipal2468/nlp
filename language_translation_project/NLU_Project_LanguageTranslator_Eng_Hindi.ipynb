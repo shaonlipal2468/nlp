{
  "nbformat": 4,
  "nbformat_minor": 0,
  "metadata": {
    "colab": {
      "provenance": []
    },
    "kernelspec": {
      "name": "python3",
      "display_name": "Python 3"
    },
    "language_info": {
      "name": "python"
    },
    "widgets": {
      "application/vnd.jupyter.widget-state+json": {
        "6692154252834ba8bb81cfa37dab9b7b": {
          "model_module": "@jupyter-widgets/controls",
          "model_name": "HBoxModel",
          "model_module_version": "1.5.0",
          "state": {
            "_dom_classes": [],
            "_model_module": "@jupyter-widgets/controls",
            "_model_module_version": "1.5.0",
            "_model_name": "HBoxModel",
            "_view_count": null,
            "_view_module": "@jupyter-widgets/controls",
            "_view_module_version": "1.5.0",
            "_view_name": "HBoxView",
            "box_style": "",
            "children": [
              "IPY_MODEL_942c9ad17b5c4701982ddb98c3d159ee",
              "IPY_MODEL_a9e4d7d94ade4500a56c2e43542d767d",
              "IPY_MODEL_c6975dc988764d408356b909efd9c999"
            ],
            "layout": "IPY_MODEL_973298637aee49649118c53efd81f595"
          }
        },
        "942c9ad17b5c4701982ddb98c3d159ee": {
          "model_module": "@jupyter-widgets/controls",
          "model_name": "HTMLModel",
          "model_module_version": "1.5.0",
          "state": {
            "_dom_classes": [],
            "_model_module": "@jupyter-widgets/controls",
            "_model_module_version": "1.5.0",
            "_model_name": "HTMLModel",
            "_view_count": null,
            "_view_module": "@jupyter-widgets/controls",
            "_view_module_version": "1.5.0",
            "_view_name": "HTMLView",
            "description": "",
            "description_tooltip": null,
            "layout": "IPY_MODEL_c65dd3b58a214ef09343b3c04b6ff494",
            "placeholder": "​",
            "style": "IPY_MODEL_b9bad3be53494ff58518b725134e8329",
            "value": "Downloading: 100%"
          }
        },
        "a9e4d7d94ade4500a56c2e43542d767d": {
          "model_module": "@jupyter-widgets/controls",
          "model_name": "FloatProgressModel",
          "model_module_version": "1.5.0",
          "state": {
            "_dom_classes": [],
            "_model_module": "@jupyter-widgets/controls",
            "_model_module_version": "1.5.0",
            "_model_name": "FloatProgressModel",
            "_view_count": null,
            "_view_module": "@jupyter-widgets/controls",
            "_view_module_version": "1.5.0",
            "_view_name": "ProgressView",
            "bar_style": "success",
            "description": "",
            "description_tooltip": null,
            "layout": "IPY_MODEL_317b87f9d41f4e01ba7722718c9503d1",
            "max": 1428,
            "min": 0,
            "orientation": "horizontal",
            "style": "IPY_MODEL_f0a0938b34e84b83ba7707a2719ad286",
            "value": 1428
          }
        },
        "c6975dc988764d408356b909efd9c999": {
          "model_module": "@jupyter-widgets/controls",
          "model_name": "HTMLModel",
          "model_module_version": "1.5.0",
          "state": {
            "_dom_classes": [],
            "_model_module": "@jupyter-widgets/controls",
            "_model_module_version": "1.5.0",
            "_model_name": "HTMLModel",
            "_view_count": null,
            "_view_module": "@jupyter-widgets/controls",
            "_view_module_version": "1.5.0",
            "_view_name": "HTMLView",
            "description": "",
            "description_tooltip": null,
            "layout": "IPY_MODEL_511fdd65c89c4122836522440c1bd4c8",
            "placeholder": "​",
            "style": "IPY_MODEL_9b83ff18692c43e2bb8dc4030e6a277a",
            "value": " 1.39k/1.39k [00:00&lt;00:00, 32.6kB/s]"
          }
        },
        "973298637aee49649118c53efd81f595": {
          "model_module": "@jupyter-widgets/base",
          "model_name": "LayoutModel",
          "model_module_version": "1.2.0",
          "state": {
            "_model_module": "@jupyter-widgets/base",
            "_model_module_version": "1.2.0",
            "_model_name": "LayoutModel",
            "_view_count": null,
            "_view_module": "@jupyter-widgets/base",
            "_view_module_version": "1.2.0",
            "_view_name": "LayoutView",
            "align_content": null,
            "align_items": null,
            "align_self": null,
            "border": null,
            "bottom": null,
            "display": null,
            "flex": null,
            "flex_flow": null,
            "grid_area": null,
            "grid_auto_columns": null,
            "grid_auto_flow": null,
            "grid_auto_rows": null,
            "grid_column": null,
            "grid_gap": null,
            "grid_row": null,
            "grid_template_areas": null,
            "grid_template_columns": null,
            "grid_template_rows": null,
            "height": null,
            "justify_content": null,
            "justify_items": null,
            "left": null,
            "margin": null,
            "max_height": null,
            "max_width": null,
            "min_height": null,
            "min_width": null,
            "object_fit": null,
            "object_position": null,
            "order": null,
            "overflow": null,
            "overflow_x": null,
            "overflow_y": null,
            "padding": null,
            "right": null,
            "top": null,
            "visibility": null,
            "width": null
          }
        },
        "c65dd3b58a214ef09343b3c04b6ff494": {
          "model_module": "@jupyter-widgets/base",
          "model_name": "LayoutModel",
          "model_module_version": "1.2.0",
          "state": {
            "_model_module": "@jupyter-widgets/base",
            "_model_module_version": "1.2.0",
            "_model_name": "LayoutModel",
            "_view_count": null,
            "_view_module": "@jupyter-widgets/base",
            "_view_module_version": "1.2.0",
            "_view_name": "LayoutView",
            "align_content": null,
            "align_items": null,
            "align_self": null,
            "border": null,
            "bottom": null,
            "display": null,
            "flex": null,
            "flex_flow": null,
            "grid_area": null,
            "grid_auto_columns": null,
            "grid_auto_flow": null,
            "grid_auto_rows": null,
            "grid_column": null,
            "grid_gap": null,
            "grid_row": null,
            "grid_template_areas": null,
            "grid_template_columns": null,
            "grid_template_rows": null,
            "height": null,
            "justify_content": null,
            "justify_items": null,
            "left": null,
            "margin": null,
            "max_height": null,
            "max_width": null,
            "min_height": null,
            "min_width": null,
            "object_fit": null,
            "object_position": null,
            "order": null,
            "overflow": null,
            "overflow_x": null,
            "overflow_y": null,
            "padding": null,
            "right": null,
            "top": null,
            "visibility": null,
            "width": null
          }
        },
        "b9bad3be53494ff58518b725134e8329": {
          "model_module": "@jupyter-widgets/controls",
          "model_name": "DescriptionStyleModel",
          "model_module_version": "1.5.0",
          "state": {
            "_model_module": "@jupyter-widgets/controls",
            "_model_module_version": "1.5.0",
            "_model_name": "DescriptionStyleModel",
            "_view_count": null,
            "_view_module": "@jupyter-widgets/base",
            "_view_module_version": "1.2.0",
            "_view_name": "StyleView",
            "description_width": ""
          }
        },
        "317b87f9d41f4e01ba7722718c9503d1": {
          "model_module": "@jupyter-widgets/base",
          "model_name": "LayoutModel",
          "model_module_version": "1.2.0",
          "state": {
            "_model_module": "@jupyter-widgets/base",
            "_model_module_version": "1.2.0",
            "_model_name": "LayoutModel",
            "_view_count": null,
            "_view_module": "@jupyter-widgets/base",
            "_view_module_version": "1.2.0",
            "_view_name": "LayoutView",
            "align_content": null,
            "align_items": null,
            "align_self": null,
            "border": null,
            "bottom": null,
            "display": null,
            "flex": null,
            "flex_flow": null,
            "grid_area": null,
            "grid_auto_columns": null,
            "grid_auto_flow": null,
            "grid_auto_rows": null,
            "grid_column": null,
            "grid_gap": null,
            "grid_row": null,
            "grid_template_areas": null,
            "grid_template_columns": null,
            "grid_template_rows": null,
            "height": null,
            "justify_content": null,
            "justify_items": null,
            "left": null,
            "margin": null,
            "max_height": null,
            "max_width": null,
            "min_height": null,
            "min_width": null,
            "object_fit": null,
            "object_position": null,
            "order": null,
            "overflow": null,
            "overflow_x": null,
            "overflow_y": null,
            "padding": null,
            "right": null,
            "top": null,
            "visibility": null,
            "width": null
          }
        },
        "f0a0938b34e84b83ba7707a2719ad286": {
          "model_module": "@jupyter-widgets/controls",
          "model_name": "ProgressStyleModel",
          "model_module_version": "1.5.0",
          "state": {
            "_model_module": "@jupyter-widgets/controls",
            "_model_module_version": "1.5.0",
            "_model_name": "ProgressStyleModel",
            "_view_count": null,
            "_view_module": "@jupyter-widgets/base",
            "_view_module_version": "1.2.0",
            "_view_name": "StyleView",
            "bar_color": null,
            "description_width": ""
          }
        },
        "511fdd65c89c4122836522440c1bd4c8": {
          "model_module": "@jupyter-widgets/base",
          "model_name": "LayoutModel",
          "model_module_version": "1.2.0",
          "state": {
            "_model_module": "@jupyter-widgets/base",
            "_model_module_version": "1.2.0",
            "_model_name": "LayoutModel",
            "_view_count": null,
            "_view_module": "@jupyter-widgets/base",
            "_view_module_version": "1.2.0",
            "_view_name": "LayoutView",
            "align_content": null,
            "align_items": null,
            "align_self": null,
            "border": null,
            "bottom": null,
            "display": null,
            "flex": null,
            "flex_flow": null,
            "grid_area": null,
            "grid_auto_columns": null,
            "grid_auto_flow": null,
            "grid_auto_rows": null,
            "grid_column": null,
            "grid_gap": null,
            "grid_row": null,
            "grid_template_areas": null,
            "grid_template_columns": null,
            "grid_template_rows": null,
            "height": null,
            "justify_content": null,
            "justify_items": null,
            "left": null,
            "margin": null,
            "max_height": null,
            "max_width": null,
            "min_height": null,
            "min_width": null,
            "object_fit": null,
            "object_position": null,
            "order": null,
            "overflow": null,
            "overflow_x": null,
            "overflow_y": null,
            "padding": null,
            "right": null,
            "top": null,
            "visibility": null,
            "width": null
          }
        },
        "9b83ff18692c43e2bb8dc4030e6a277a": {
          "model_module": "@jupyter-widgets/controls",
          "model_name": "DescriptionStyleModel",
          "model_module_version": "1.5.0",
          "state": {
            "_model_module": "@jupyter-widgets/controls",
            "_model_module_version": "1.5.0",
            "_model_name": "DescriptionStyleModel",
            "_view_count": null,
            "_view_module": "@jupyter-widgets/base",
            "_view_module_version": "1.2.0",
            "_view_name": "StyleView",
            "description_width": ""
          }
        },
        "382a1948227d4acf955acd09a88bcf6c": {
          "model_module": "@jupyter-widgets/controls",
          "model_name": "HBoxModel",
          "model_module_version": "1.5.0",
          "state": {
            "_dom_classes": [],
            "_model_module": "@jupyter-widgets/controls",
            "_model_module_version": "1.5.0",
            "_model_name": "HBoxModel",
            "_view_count": null,
            "_view_module": "@jupyter-widgets/controls",
            "_view_module_version": "1.5.0",
            "_view_name": "HBoxView",
            "box_style": "",
            "children": [
              "IPY_MODEL_afa45f0e51dc40aa8e1be0b8810957d9",
              "IPY_MODEL_9cc59d727679463f92fe1f5a62de73c7",
              "IPY_MODEL_463e878ec48c4ce583ed2dbbd82c73ff"
            ],
            "layout": "IPY_MODEL_203b90324a924fb1a8f343c922b29013"
          }
        },
        "afa45f0e51dc40aa8e1be0b8810957d9": {
          "model_module": "@jupyter-widgets/controls",
          "model_name": "HTMLModel",
          "model_module_version": "1.5.0",
          "state": {
            "_dom_classes": [],
            "_model_module": "@jupyter-widgets/controls",
            "_model_module_version": "1.5.0",
            "_model_name": "HTMLModel",
            "_view_count": null,
            "_view_module": "@jupyter-widgets/controls",
            "_view_module_version": "1.5.0",
            "_view_name": "HTMLView",
            "description": "",
            "description_tooltip": null,
            "layout": "IPY_MODEL_dc30f20e4fd84236a760108dc8ed0f5f",
            "placeholder": "​",
            "style": "IPY_MODEL_5a8f3f4d826841f5981c38db4ae03726",
            "value": "Downloading: 100%"
          }
        },
        "9cc59d727679463f92fe1f5a62de73c7": {
          "model_module": "@jupyter-widgets/controls",
          "model_name": "FloatProgressModel",
          "model_module_version": "1.5.0",
          "state": {
            "_dom_classes": [],
            "_model_module": "@jupyter-widgets/controls",
            "_model_module_version": "1.5.0",
            "_model_name": "FloatProgressModel",
            "_view_count": null,
            "_view_module": "@jupyter-widgets/controls",
            "_view_module_version": "1.5.0",
            "_view_name": "ProgressView",
            "bar_style": "success",
            "description": "",
            "description_tooltip": null,
            "layout": "IPY_MODEL_9fb0f6b9f60c446b8ea66e7938121e83",
            "max": 2444714899,
            "min": 0,
            "orientation": "horizontal",
            "style": "IPY_MODEL_0d8fab68ffda4d73923dc90025d6335b",
            "value": 2444714899
          }
        },
        "463e878ec48c4ce583ed2dbbd82c73ff": {
          "model_module": "@jupyter-widgets/controls",
          "model_name": "HTMLModel",
          "model_module_version": "1.5.0",
          "state": {
            "_dom_classes": [],
            "_model_module": "@jupyter-widgets/controls",
            "_model_module_version": "1.5.0",
            "_model_name": "HTMLModel",
            "_view_count": null,
            "_view_module": "@jupyter-widgets/controls",
            "_view_module_version": "1.5.0",
            "_view_name": "HTMLView",
            "description": "",
            "description_tooltip": null,
            "layout": "IPY_MODEL_d8d1cf147f8845f992ace6bfe268fcad",
            "placeholder": "​",
            "style": "IPY_MODEL_17206bc359614ac7a2a59c8852f21edc",
            "value": " 2.28G/2.28G [00:54&lt;00:00, 52.3MB/s]"
          }
        },
        "203b90324a924fb1a8f343c922b29013": {
          "model_module": "@jupyter-widgets/base",
          "model_name": "LayoutModel",
          "model_module_version": "1.2.0",
          "state": {
            "_model_module": "@jupyter-widgets/base",
            "_model_module_version": "1.2.0",
            "_model_name": "LayoutModel",
            "_view_count": null,
            "_view_module": "@jupyter-widgets/base",
            "_view_module_version": "1.2.0",
            "_view_name": "LayoutView",
            "align_content": null,
            "align_items": null,
            "align_self": null,
            "border": null,
            "bottom": null,
            "display": null,
            "flex": null,
            "flex_flow": null,
            "grid_area": null,
            "grid_auto_columns": null,
            "grid_auto_flow": null,
            "grid_auto_rows": null,
            "grid_column": null,
            "grid_gap": null,
            "grid_row": null,
            "grid_template_areas": null,
            "grid_template_columns": null,
            "grid_template_rows": null,
            "height": null,
            "justify_content": null,
            "justify_items": null,
            "left": null,
            "margin": null,
            "max_height": null,
            "max_width": null,
            "min_height": null,
            "min_width": null,
            "object_fit": null,
            "object_position": null,
            "order": null,
            "overflow": null,
            "overflow_x": null,
            "overflow_y": null,
            "padding": null,
            "right": null,
            "top": null,
            "visibility": null,
            "width": null
          }
        },
        "dc30f20e4fd84236a760108dc8ed0f5f": {
          "model_module": "@jupyter-widgets/base",
          "model_name": "LayoutModel",
          "model_module_version": "1.2.0",
          "state": {
            "_model_module": "@jupyter-widgets/base",
            "_model_module_version": "1.2.0",
            "_model_name": "LayoutModel",
            "_view_count": null,
            "_view_module": "@jupyter-widgets/base",
            "_view_module_version": "1.2.0",
            "_view_name": "LayoutView",
            "align_content": null,
            "align_items": null,
            "align_self": null,
            "border": null,
            "bottom": null,
            "display": null,
            "flex": null,
            "flex_flow": null,
            "grid_area": null,
            "grid_auto_columns": null,
            "grid_auto_flow": null,
            "grid_auto_rows": null,
            "grid_column": null,
            "grid_gap": null,
            "grid_row": null,
            "grid_template_areas": null,
            "grid_template_columns": null,
            "grid_template_rows": null,
            "height": null,
            "justify_content": null,
            "justify_items": null,
            "left": null,
            "margin": null,
            "max_height": null,
            "max_width": null,
            "min_height": null,
            "min_width": null,
            "object_fit": null,
            "object_position": null,
            "order": null,
            "overflow": null,
            "overflow_x": null,
            "overflow_y": null,
            "padding": null,
            "right": null,
            "top": null,
            "visibility": null,
            "width": null
          }
        },
        "5a8f3f4d826841f5981c38db4ae03726": {
          "model_module": "@jupyter-widgets/controls",
          "model_name": "DescriptionStyleModel",
          "model_module_version": "1.5.0",
          "state": {
            "_model_module": "@jupyter-widgets/controls",
            "_model_module_version": "1.5.0",
            "_model_name": "DescriptionStyleModel",
            "_view_count": null,
            "_view_module": "@jupyter-widgets/base",
            "_view_module_version": "1.2.0",
            "_view_name": "StyleView",
            "description_width": ""
          }
        },
        "9fb0f6b9f60c446b8ea66e7938121e83": {
          "model_module": "@jupyter-widgets/base",
          "model_name": "LayoutModel",
          "model_module_version": "1.2.0",
          "state": {
            "_model_module": "@jupyter-widgets/base",
            "_model_module_version": "1.2.0",
            "_model_name": "LayoutModel",
            "_view_count": null,
            "_view_module": "@jupyter-widgets/base",
            "_view_module_version": "1.2.0",
            "_view_name": "LayoutView",
            "align_content": null,
            "align_items": null,
            "align_self": null,
            "border": null,
            "bottom": null,
            "display": null,
            "flex": null,
            "flex_flow": null,
            "grid_area": null,
            "grid_auto_columns": null,
            "grid_auto_flow": null,
            "grid_auto_rows": null,
            "grid_column": null,
            "grid_gap": null,
            "grid_row": null,
            "grid_template_areas": null,
            "grid_template_columns": null,
            "grid_template_rows": null,
            "height": null,
            "justify_content": null,
            "justify_items": null,
            "left": null,
            "margin": null,
            "max_height": null,
            "max_width": null,
            "min_height": null,
            "min_width": null,
            "object_fit": null,
            "object_position": null,
            "order": null,
            "overflow": null,
            "overflow_x": null,
            "overflow_y": null,
            "padding": null,
            "right": null,
            "top": null,
            "visibility": null,
            "width": null
          }
        },
        "0d8fab68ffda4d73923dc90025d6335b": {
          "model_module": "@jupyter-widgets/controls",
          "model_name": "ProgressStyleModel",
          "model_module_version": "1.5.0",
          "state": {
            "_model_module": "@jupyter-widgets/controls",
            "_model_module_version": "1.5.0",
            "_model_name": "ProgressStyleModel",
            "_view_count": null,
            "_view_module": "@jupyter-widgets/base",
            "_view_module_version": "1.2.0",
            "_view_name": "StyleView",
            "bar_color": null,
            "description_width": ""
          }
        },
        "d8d1cf147f8845f992ace6bfe268fcad": {
          "model_module": "@jupyter-widgets/base",
          "model_name": "LayoutModel",
          "model_module_version": "1.2.0",
          "state": {
            "_model_module": "@jupyter-widgets/base",
            "_model_module_version": "1.2.0",
            "_model_name": "LayoutModel",
            "_view_count": null,
            "_view_module": "@jupyter-widgets/base",
            "_view_module_version": "1.2.0",
            "_view_name": "LayoutView",
            "align_content": null,
            "align_items": null,
            "align_self": null,
            "border": null,
            "bottom": null,
            "display": null,
            "flex": null,
            "flex_flow": null,
            "grid_area": null,
            "grid_auto_columns": null,
            "grid_auto_flow": null,
            "grid_auto_rows": null,
            "grid_column": null,
            "grid_gap": null,
            "grid_row": null,
            "grid_template_areas": null,
            "grid_template_columns": null,
            "grid_template_rows": null,
            "height": null,
            "justify_content": null,
            "justify_items": null,
            "left": null,
            "margin": null,
            "max_height": null,
            "max_width": null,
            "min_height": null,
            "min_width": null,
            "object_fit": null,
            "object_position": null,
            "order": null,
            "overflow": null,
            "overflow_x": null,
            "overflow_y": null,
            "padding": null,
            "right": null,
            "top": null,
            "visibility": null,
            "width": null
          }
        },
        "17206bc359614ac7a2a59c8852f21edc": {
          "model_module": "@jupyter-widgets/controls",
          "model_name": "DescriptionStyleModel",
          "model_module_version": "1.5.0",
          "state": {
            "_model_module": "@jupyter-widgets/controls",
            "_model_module_version": "1.5.0",
            "_model_name": "DescriptionStyleModel",
            "_view_count": null,
            "_view_module": "@jupyter-widgets/base",
            "_view_module_version": "1.2.0",
            "_view_name": "StyleView",
            "description_width": ""
          }
        },
        "ed5672f6f38d4971ba1b9c5355587f02": {
          "model_module": "@jupyter-widgets/controls",
          "model_name": "HBoxModel",
          "model_module_version": "1.5.0",
          "state": {
            "_dom_classes": [],
            "_model_module": "@jupyter-widgets/controls",
            "_model_module_version": "1.5.0",
            "_model_name": "HBoxModel",
            "_view_count": null,
            "_view_module": "@jupyter-widgets/controls",
            "_view_module_version": "1.5.0",
            "_view_name": "HBoxView",
            "box_style": "",
            "children": [
              "IPY_MODEL_a81502f146dd42af908b1a6d497fb4c4",
              "IPY_MODEL_d3b572f172a54128a23216cfa59a52ec",
              "IPY_MODEL_5d034dae990b48a69e39548398907b4a"
            ],
            "layout": "IPY_MODEL_1bf0b800637c47588b08cb610f9f4eda"
          }
        },
        "a81502f146dd42af908b1a6d497fb4c4": {
          "model_module": "@jupyter-widgets/controls",
          "model_name": "HTMLModel",
          "model_module_version": "1.5.0",
          "state": {
            "_dom_classes": [],
            "_model_module": "@jupyter-widgets/controls",
            "_model_module_version": "1.5.0",
            "_model_name": "HTMLModel",
            "_view_count": null,
            "_view_module": "@jupyter-widgets/controls",
            "_view_module_version": "1.5.0",
            "_view_name": "HTMLView",
            "description": "",
            "description_tooltip": null,
            "layout": "IPY_MODEL_1d4132c7b4104cf3b73960a01d5b0756",
            "placeholder": "​",
            "style": "IPY_MODEL_9c38d7b95d694217b0b367d22fa0c157",
            "value": "Downloading: 100%"
          }
        },
        "d3b572f172a54128a23216cfa59a52ec": {
          "model_module": "@jupyter-widgets/controls",
          "model_name": "FloatProgressModel",
          "model_module_version": "1.5.0",
          "state": {
            "_dom_classes": [],
            "_model_module": "@jupyter-widgets/controls",
            "_model_module_version": "1.5.0",
            "_model_name": "FloatProgressModel",
            "_view_count": null,
            "_view_module": "@jupyter-widgets/controls",
            "_view_module_version": "1.5.0",
            "_view_name": "ProgressView",
            "bar_style": "success",
            "description": "",
            "description_tooltip": null,
            "layout": "IPY_MODEL_352e875bab1e4654823ab582f9cc93d3",
            "max": 528,
            "min": 0,
            "orientation": "horizontal",
            "style": "IPY_MODEL_d91ce9177a714f57bf0a9b81705beb51",
            "value": 528
          }
        },
        "5d034dae990b48a69e39548398907b4a": {
          "model_module": "@jupyter-widgets/controls",
          "model_name": "HTMLModel",
          "model_module_version": "1.5.0",
          "state": {
            "_dom_classes": [],
            "_model_module": "@jupyter-widgets/controls",
            "_model_module_version": "1.5.0",
            "_model_name": "HTMLModel",
            "_view_count": null,
            "_view_module": "@jupyter-widgets/controls",
            "_view_module_version": "1.5.0",
            "_view_name": "HTMLView",
            "description": "",
            "description_tooltip": null,
            "layout": "IPY_MODEL_1f2340e5021449e0856799432501ddaf",
            "placeholder": "​",
            "style": "IPY_MODEL_0b16242902c24e48901cb6b18af6e461",
            "value": " 528/528 [00:00&lt;00:00, 12.2kB/s]"
          }
        },
        "1bf0b800637c47588b08cb610f9f4eda": {
          "model_module": "@jupyter-widgets/base",
          "model_name": "LayoutModel",
          "model_module_version": "1.2.0",
          "state": {
            "_model_module": "@jupyter-widgets/base",
            "_model_module_version": "1.2.0",
            "_model_name": "LayoutModel",
            "_view_count": null,
            "_view_module": "@jupyter-widgets/base",
            "_view_module_version": "1.2.0",
            "_view_name": "LayoutView",
            "align_content": null,
            "align_items": null,
            "align_self": null,
            "border": null,
            "bottom": null,
            "display": null,
            "flex": null,
            "flex_flow": null,
            "grid_area": null,
            "grid_auto_columns": null,
            "grid_auto_flow": null,
            "grid_auto_rows": null,
            "grid_column": null,
            "grid_gap": null,
            "grid_row": null,
            "grid_template_areas": null,
            "grid_template_columns": null,
            "grid_template_rows": null,
            "height": null,
            "justify_content": null,
            "justify_items": null,
            "left": null,
            "margin": null,
            "max_height": null,
            "max_width": null,
            "min_height": null,
            "min_width": null,
            "object_fit": null,
            "object_position": null,
            "order": null,
            "overflow": null,
            "overflow_x": null,
            "overflow_y": null,
            "padding": null,
            "right": null,
            "top": null,
            "visibility": null,
            "width": null
          }
        },
        "1d4132c7b4104cf3b73960a01d5b0756": {
          "model_module": "@jupyter-widgets/base",
          "model_name": "LayoutModel",
          "model_module_version": "1.2.0",
          "state": {
            "_model_module": "@jupyter-widgets/base",
            "_model_module_version": "1.2.0",
            "_model_name": "LayoutModel",
            "_view_count": null,
            "_view_module": "@jupyter-widgets/base",
            "_view_module_version": "1.2.0",
            "_view_name": "LayoutView",
            "align_content": null,
            "align_items": null,
            "align_self": null,
            "border": null,
            "bottom": null,
            "display": null,
            "flex": null,
            "flex_flow": null,
            "grid_area": null,
            "grid_auto_columns": null,
            "grid_auto_flow": null,
            "grid_auto_rows": null,
            "grid_column": null,
            "grid_gap": null,
            "grid_row": null,
            "grid_template_areas": null,
            "grid_template_columns": null,
            "grid_template_rows": null,
            "height": null,
            "justify_content": null,
            "justify_items": null,
            "left": null,
            "margin": null,
            "max_height": null,
            "max_width": null,
            "min_height": null,
            "min_width": null,
            "object_fit": null,
            "object_position": null,
            "order": null,
            "overflow": null,
            "overflow_x": null,
            "overflow_y": null,
            "padding": null,
            "right": null,
            "top": null,
            "visibility": null,
            "width": null
          }
        },
        "9c38d7b95d694217b0b367d22fa0c157": {
          "model_module": "@jupyter-widgets/controls",
          "model_name": "DescriptionStyleModel",
          "model_module_version": "1.5.0",
          "state": {
            "_model_module": "@jupyter-widgets/controls",
            "_model_module_version": "1.5.0",
            "_model_name": "DescriptionStyleModel",
            "_view_count": null,
            "_view_module": "@jupyter-widgets/base",
            "_view_module_version": "1.2.0",
            "_view_name": "StyleView",
            "description_width": ""
          }
        },
        "352e875bab1e4654823ab582f9cc93d3": {
          "model_module": "@jupyter-widgets/base",
          "model_name": "LayoutModel",
          "model_module_version": "1.2.0",
          "state": {
            "_model_module": "@jupyter-widgets/base",
            "_model_module_version": "1.2.0",
            "_model_name": "LayoutModel",
            "_view_count": null,
            "_view_module": "@jupyter-widgets/base",
            "_view_module_version": "1.2.0",
            "_view_name": "LayoutView",
            "align_content": null,
            "align_items": null,
            "align_self": null,
            "border": null,
            "bottom": null,
            "display": null,
            "flex": null,
            "flex_flow": null,
            "grid_area": null,
            "grid_auto_columns": null,
            "grid_auto_flow": null,
            "grid_auto_rows": null,
            "grid_column": null,
            "grid_gap": null,
            "grid_row": null,
            "grid_template_areas": null,
            "grid_template_columns": null,
            "grid_template_rows": null,
            "height": null,
            "justify_content": null,
            "justify_items": null,
            "left": null,
            "margin": null,
            "max_height": null,
            "max_width": null,
            "min_height": null,
            "min_width": null,
            "object_fit": null,
            "object_position": null,
            "order": null,
            "overflow": null,
            "overflow_x": null,
            "overflow_y": null,
            "padding": null,
            "right": null,
            "top": null,
            "visibility": null,
            "width": null
          }
        },
        "d91ce9177a714f57bf0a9b81705beb51": {
          "model_module": "@jupyter-widgets/controls",
          "model_name": "ProgressStyleModel",
          "model_module_version": "1.5.0",
          "state": {
            "_model_module": "@jupyter-widgets/controls",
            "_model_module_version": "1.5.0",
            "_model_name": "ProgressStyleModel",
            "_view_count": null,
            "_view_module": "@jupyter-widgets/base",
            "_view_module_version": "1.2.0",
            "_view_name": "StyleView",
            "bar_color": null,
            "description_width": ""
          }
        },
        "1f2340e5021449e0856799432501ddaf": {
          "model_module": "@jupyter-widgets/base",
          "model_name": "LayoutModel",
          "model_module_version": "1.2.0",
          "state": {
            "_model_module": "@jupyter-widgets/base",
            "_model_module_version": "1.2.0",
            "_model_name": "LayoutModel",
            "_view_count": null,
            "_view_module": "@jupyter-widgets/base",
            "_view_module_version": "1.2.0",
            "_view_name": "LayoutView",
            "align_content": null,
            "align_items": null,
            "align_self": null,
            "border": null,
            "bottom": null,
            "display": null,
            "flex": null,
            "flex_flow": null,
            "grid_area": null,
            "grid_auto_columns": null,
            "grid_auto_flow": null,
            "grid_auto_rows": null,
            "grid_column": null,
            "grid_gap": null,
            "grid_row": null,
            "grid_template_areas": null,
            "grid_template_columns": null,
            "grid_template_rows": null,
            "height": null,
            "justify_content": null,
            "justify_items": null,
            "left": null,
            "margin": null,
            "max_height": null,
            "max_width": null,
            "min_height": null,
            "min_width": null,
            "object_fit": null,
            "object_position": null,
            "order": null,
            "overflow": null,
            "overflow_x": null,
            "overflow_y": null,
            "padding": null,
            "right": null,
            "top": null,
            "visibility": null,
            "width": null
          }
        },
        "0b16242902c24e48901cb6b18af6e461": {
          "model_module": "@jupyter-widgets/controls",
          "model_name": "DescriptionStyleModel",
          "model_module_version": "1.5.0",
          "state": {
            "_model_module": "@jupyter-widgets/controls",
            "_model_module_version": "1.5.0",
            "_model_name": "DescriptionStyleModel",
            "_view_count": null,
            "_view_module": "@jupyter-widgets/base",
            "_view_module_version": "1.2.0",
            "_view_name": "StyleView",
            "description_width": ""
          }
        },
        "5a13c5c66a78493880ca2e2c42fc6e17": {
          "model_module": "@jupyter-widgets/controls",
          "model_name": "HBoxModel",
          "model_module_version": "1.5.0",
          "state": {
            "_dom_classes": [],
            "_model_module": "@jupyter-widgets/controls",
            "_model_module_version": "1.5.0",
            "_model_name": "HBoxModel",
            "_view_count": null,
            "_view_module": "@jupyter-widgets/controls",
            "_view_module_version": "1.5.0",
            "_view_name": "HBoxView",
            "box_style": "",
            "children": [
              "IPY_MODEL_a1f09749c7ec4b0583436ea5fd56ddd3",
              "IPY_MODEL_40cfea713095416c8adc0c93ff859077",
              "IPY_MODEL_a8acc574f46f4f52938fb4b078561a60"
            ],
            "layout": "IPY_MODEL_fcd5902a0acf46288d7a13b4ab2632e3"
          }
        },
        "a1f09749c7ec4b0583436ea5fd56ddd3": {
          "model_module": "@jupyter-widgets/controls",
          "model_name": "HTMLModel",
          "model_module_version": "1.5.0",
          "state": {
            "_dom_classes": [],
            "_model_module": "@jupyter-widgets/controls",
            "_model_module_version": "1.5.0",
            "_model_name": "HTMLModel",
            "_view_count": null,
            "_view_module": "@jupyter-widgets/controls",
            "_view_module_version": "1.5.0",
            "_view_name": "HTMLView",
            "description": "",
            "description_tooltip": null,
            "layout": "IPY_MODEL_32c6722d745945e3b6367a5343afcd0c",
            "placeholder": "​",
            "style": "IPY_MODEL_cf79fbe6802b4b85828ed0676d9da34e",
            "value": "Downloading: 100%"
          }
        },
        "40cfea713095416c8adc0c93ff859077": {
          "model_module": "@jupyter-widgets/controls",
          "model_name": "FloatProgressModel",
          "model_module_version": "1.5.0",
          "state": {
            "_dom_classes": [],
            "_model_module": "@jupyter-widgets/controls",
            "_model_module_version": "1.5.0",
            "_model_name": "FloatProgressModel",
            "_view_count": null,
            "_view_module": "@jupyter-widgets/controls",
            "_view_module_version": "1.5.0",
            "_view_name": "ProgressView",
            "bar_style": "success",
            "description": "",
            "description_tooltip": null,
            "layout": "IPY_MODEL_47ec141ccbf14273a3c1a95464a093f8",
            "max": 5069051,
            "min": 0,
            "orientation": "horizontal",
            "style": "IPY_MODEL_c10686a323de4e01ad5ffac0a0e5177f",
            "value": 5069051
          }
        },
        "a8acc574f46f4f52938fb4b078561a60": {
          "model_module": "@jupyter-widgets/controls",
          "model_name": "HTMLModel",
          "model_module_version": "1.5.0",
          "state": {
            "_dom_classes": [],
            "_model_module": "@jupyter-widgets/controls",
            "_model_module_version": "1.5.0",
            "_model_name": "HTMLModel",
            "_view_count": null,
            "_view_module": "@jupyter-widgets/controls",
            "_view_module_version": "1.5.0",
            "_view_name": "HTMLView",
            "description": "",
            "description_tooltip": null,
            "layout": "IPY_MODEL_790dc86b90b343feb4138c83a8b3c8d7",
            "placeholder": "​",
            "style": "IPY_MODEL_ab53ab30599b4211962f9ff2e8bc8443",
            "value": " 4.83M/4.83M [00:00&lt;00:00, 13.9MB/s]"
          }
        },
        "fcd5902a0acf46288d7a13b4ab2632e3": {
          "model_module": "@jupyter-widgets/base",
          "model_name": "LayoutModel",
          "model_module_version": "1.2.0",
          "state": {
            "_model_module": "@jupyter-widgets/base",
            "_model_module_version": "1.2.0",
            "_model_name": "LayoutModel",
            "_view_count": null,
            "_view_module": "@jupyter-widgets/base",
            "_view_module_version": "1.2.0",
            "_view_name": "LayoutView",
            "align_content": null,
            "align_items": null,
            "align_self": null,
            "border": null,
            "bottom": null,
            "display": null,
            "flex": null,
            "flex_flow": null,
            "grid_area": null,
            "grid_auto_columns": null,
            "grid_auto_flow": null,
            "grid_auto_rows": null,
            "grid_column": null,
            "grid_gap": null,
            "grid_row": null,
            "grid_template_areas": null,
            "grid_template_columns": null,
            "grid_template_rows": null,
            "height": null,
            "justify_content": null,
            "justify_items": null,
            "left": null,
            "margin": null,
            "max_height": null,
            "max_width": null,
            "min_height": null,
            "min_width": null,
            "object_fit": null,
            "object_position": null,
            "order": null,
            "overflow": null,
            "overflow_x": null,
            "overflow_y": null,
            "padding": null,
            "right": null,
            "top": null,
            "visibility": null,
            "width": null
          }
        },
        "32c6722d745945e3b6367a5343afcd0c": {
          "model_module": "@jupyter-widgets/base",
          "model_name": "LayoutModel",
          "model_module_version": "1.2.0",
          "state": {
            "_model_module": "@jupyter-widgets/base",
            "_model_module_version": "1.2.0",
            "_model_name": "LayoutModel",
            "_view_count": null,
            "_view_module": "@jupyter-widgets/base",
            "_view_module_version": "1.2.0",
            "_view_name": "LayoutView",
            "align_content": null,
            "align_items": null,
            "align_self": null,
            "border": null,
            "bottom": null,
            "display": null,
            "flex": null,
            "flex_flow": null,
            "grid_area": null,
            "grid_auto_columns": null,
            "grid_auto_flow": null,
            "grid_auto_rows": null,
            "grid_column": null,
            "grid_gap": null,
            "grid_row": null,
            "grid_template_areas": null,
            "grid_template_columns": null,
            "grid_template_rows": null,
            "height": null,
            "justify_content": null,
            "justify_items": null,
            "left": null,
            "margin": null,
            "max_height": null,
            "max_width": null,
            "min_height": null,
            "min_width": null,
            "object_fit": null,
            "object_position": null,
            "order": null,
            "overflow": null,
            "overflow_x": null,
            "overflow_y": null,
            "padding": null,
            "right": null,
            "top": null,
            "visibility": null,
            "width": null
          }
        },
        "cf79fbe6802b4b85828ed0676d9da34e": {
          "model_module": "@jupyter-widgets/controls",
          "model_name": "DescriptionStyleModel",
          "model_module_version": "1.5.0",
          "state": {
            "_model_module": "@jupyter-widgets/controls",
            "_model_module_version": "1.5.0",
            "_model_name": "DescriptionStyleModel",
            "_view_count": null,
            "_view_module": "@jupyter-widgets/base",
            "_view_module_version": "1.2.0",
            "_view_name": "StyleView",
            "description_width": ""
          }
        },
        "47ec141ccbf14273a3c1a95464a093f8": {
          "model_module": "@jupyter-widgets/base",
          "model_name": "LayoutModel",
          "model_module_version": "1.2.0",
          "state": {
            "_model_module": "@jupyter-widgets/base",
            "_model_module_version": "1.2.0",
            "_model_name": "LayoutModel",
            "_view_count": null,
            "_view_module": "@jupyter-widgets/base",
            "_view_module_version": "1.2.0",
            "_view_name": "LayoutView",
            "align_content": null,
            "align_items": null,
            "align_self": null,
            "border": null,
            "bottom": null,
            "display": null,
            "flex": null,
            "flex_flow": null,
            "grid_area": null,
            "grid_auto_columns": null,
            "grid_auto_flow": null,
            "grid_auto_rows": null,
            "grid_column": null,
            "grid_gap": null,
            "grid_row": null,
            "grid_template_areas": null,
            "grid_template_columns": null,
            "grid_template_rows": null,
            "height": null,
            "justify_content": null,
            "justify_items": null,
            "left": null,
            "margin": null,
            "max_height": null,
            "max_width": null,
            "min_height": null,
            "min_width": null,
            "object_fit": null,
            "object_position": null,
            "order": null,
            "overflow": null,
            "overflow_x": null,
            "overflow_y": null,
            "padding": null,
            "right": null,
            "top": null,
            "visibility": null,
            "width": null
          }
        },
        "c10686a323de4e01ad5ffac0a0e5177f": {
          "model_module": "@jupyter-widgets/controls",
          "model_name": "ProgressStyleModel",
          "model_module_version": "1.5.0",
          "state": {
            "_model_module": "@jupyter-widgets/controls",
            "_model_module_version": "1.5.0",
            "_model_name": "ProgressStyleModel",
            "_view_count": null,
            "_view_module": "@jupyter-widgets/base",
            "_view_module_version": "1.2.0",
            "_view_name": "StyleView",
            "bar_color": null,
            "description_width": ""
          }
        },
        "790dc86b90b343feb4138c83a8b3c8d7": {
          "model_module": "@jupyter-widgets/base",
          "model_name": "LayoutModel",
          "model_module_version": "1.2.0",
          "state": {
            "_model_module": "@jupyter-widgets/base",
            "_model_module_version": "1.2.0",
            "_model_name": "LayoutModel",
            "_view_count": null,
            "_view_module": "@jupyter-widgets/base",
            "_view_module_version": "1.2.0",
            "_view_name": "LayoutView",
            "align_content": null,
            "align_items": null,
            "align_self": null,
            "border": null,
            "bottom": null,
            "display": null,
            "flex": null,
            "flex_flow": null,
            "grid_area": null,
            "grid_auto_columns": null,
            "grid_auto_flow": null,
            "grid_auto_rows": null,
            "grid_column": null,
            "grid_gap": null,
            "grid_row": null,
            "grid_template_areas": null,
            "grid_template_columns": null,
            "grid_template_rows": null,
            "height": null,
            "justify_content": null,
            "justify_items": null,
            "left": null,
            "margin": null,
            "max_height": null,
            "max_width": null,
            "min_height": null,
            "min_width": null,
            "object_fit": null,
            "object_position": null,
            "order": null,
            "overflow": null,
            "overflow_x": null,
            "overflow_y": null,
            "padding": null,
            "right": null,
            "top": null,
            "visibility": null,
            "width": null
          }
        },
        "ab53ab30599b4211962f9ff2e8bc8443": {
          "model_module": "@jupyter-widgets/controls",
          "model_name": "DescriptionStyleModel",
          "model_module_version": "1.5.0",
          "state": {
            "_model_module": "@jupyter-widgets/controls",
            "_model_module_version": "1.5.0",
            "_model_name": "DescriptionStyleModel",
            "_view_count": null,
            "_view_module": "@jupyter-widgets/base",
            "_view_module_version": "1.2.0",
            "_view_name": "StyleView",
            "description_width": ""
          }
        },
        "06c6a6900dce4d09a89501ba63f0dfa2": {
          "model_module": "@jupyter-widgets/controls",
          "model_name": "HBoxModel",
          "model_module_version": "1.5.0",
          "state": {
            "_dom_classes": [],
            "_model_module": "@jupyter-widgets/controls",
            "_model_module_version": "1.5.0",
            "_model_name": "HBoxModel",
            "_view_count": null,
            "_view_module": "@jupyter-widgets/controls",
            "_view_module_version": "1.5.0",
            "_view_name": "HBoxView",
            "box_style": "",
            "children": [
              "IPY_MODEL_0ae15064ac3e4d1db87677b47fcb7de9",
              "IPY_MODEL_a3f7e383eb2a4a2498ec182eb2214daf",
              "IPY_MODEL_6373250a654a485e978427af5d039587"
            ],
            "layout": "IPY_MODEL_9e162068c1b04d90bf63f71719a8a3d6"
          }
        },
        "0ae15064ac3e4d1db87677b47fcb7de9": {
          "model_module": "@jupyter-widgets/controls",
          "model_name": "HTMLModel",
          "model_module_version": "1.5.0",
          "state": {
            "_dom_classes": [],
            "_model_module": "@jupyter-widgets/controls",
            "_model_module_version": "1.5.0",
            "_model_name": "HTMLModel",
            "_view_count": null,
            "_view_module": "@jupyter-widgets/controls",
            "_view_module_version": "1.5.0",
            "_view_name": "HTMLView",
            "description": "",
            "description_tooltip": null,
            "layout": "IPY_MODEL_f25dd7f4332b4486b8f0ef73d51cf54e",
            "placeholder": "​",
            "style": "IPY_MODEL_8c0dceff862b4fd1b6d6574e8fb0aa84",
            "value": "Downloading: 100%"
          }
        },
        "a3f7e383eb2a4a2498ec182eb2214daf": {
          "model_module": "@jupyter-widgets/controls",
          "model_name": "FloatProgressModel",
          "model_module_version": "1.5.0",
          "state": {
            "_dom_classes": [],
            "_model_module": "@jupyter-widgets/controls",
            "_model_module_version": "1.5.0",
            "_model_name": "FloatProgressModel",
            "_view_count": null,
            "_view_module": "@jupyter-widgets/controls",
            "_view_module_version": "1.5.0",
            "_view_name": "ProgressView",
            "bar_style": "success",
            "description": "",
            "description_tooltip": null,
            "layout": "IPY_MODEL_58fc6e3611d042f08b0195600a2170fe",
            "max": 717,
            "min": 0,
            "orientation": "horizontal",
            "style": "IPY_MODEL_e52213029c3a48e78dc85976edc61034",
            "value": 717
          }
        },
        "6373250a654a485e978427af5d039587": {
          "model_module": "@jupyter-widgets/controls",
          "model_name": "HTMLModel",
          "model_module_version": "1.5.0",
          "state": {
            "_dom_classes": [],
            "_model_module": "@jupyter-widgets/controls",
            "_model_module_version": "1.5.0",
            "_model_name": "HTMLModel",
            "_view_count": null,
            "_view_module": "@jupyter-widgets/controls",
            "_view_module_version": "1.5.0",
            "_view_name": "HTMLView",
            "description": "",
            "description_tooltip": null,
            "layout": "IPY_MODEL_9bf3d77df9e749f1843a4cf4bc82dfea",
            "placeholder": "​",
            "style": "IPY_MODEL_00584374a5fb4d47a5924244954e269e",
            "value": " 717/717 [00:00&lt;00:00, 18.3kB/s]"
          }
        },
        "9e162068c1b04d90bf63f71719a8a3d6": {
          "model_module": "@jupyter-widgets/base",
          "model_name": "LayoutModel",
          "model_module_version": "1.2.0",
          "state": {
            "_model_module": "@jupyter-widgets/base",
            "_model_module_version": "1.2.0",
            "_model_name": "LayoutModel",
            "_view_count": null,
            "_view_module": "@jupyter-widgets/base",
            "_view_module_version": "1.2.0",
            "_view_name": "LayoutView",
            "align_content": null,
            "align_items": null,
            "align_self": null,
            "border": null,
            "bottom": null,
            "display": null,
            "flex": null,
            "flex_flow": null,
            "grid_area": null,
            "grid_auto_columns": null,
            "grid_auto_flow": null,
            "grid_auto_rows": null,
            "grid_column": null,
            "grid_gap": null,
            "grid_row": null,
            "grid_template_areas": null,
            "grid_template_columns": null,
            "grid_template_rows": null,
            "height": null,
            "justify_content": null,
            "justify_items": null,
            "left": null,
            "margin": null,
            "max_height": null,
            "max_width": null,
            "min_height": null,
            "min_width": null,
            "object_fit": null,
            "object_position": null,
            "order": null,
            "overflow": null,
            "overflow_x": null,
            "overflow_y": null,
            "padding": null,
            "right": null,
            "top": null,
            "visibility": null,
            "width": null
          }
        },
        "f25dd7f4332b4486b8f0ef73d51cf54e": {
          "model_module": "@jupyter-widgets/base",
          "model_name": "LayoutModel",
          "model_module_version": "1.2.0",
          "state": {
            "_model_module": "@jupyter-widgets/base",
            "_model_module_version": "1.2.0",
            "_model_name": "LayoutModel",
            "_view_count": null,
            "_view_module": "@jupyter-widgets/base",
            "_view_module_version": "1.2.0",
            "_view_name": "LayoutView",
            "align_content": null,
            "align_items": null,
            "align_self": null,
            "border": null,
            "bottom": null,
            "display": null,
            "flex": null,
            "flex_flow": null,
            "grid_area": null,
            "grid_auto_columns": null,
            "grid_auto_flow": null,
            "grid_auto_rows": null,
            "grid_column": null,
            "grid_gap": null,
            "grid_row": null,
            "grid_template_areas": null,
            "grid_template_columns": null,
            "grid_template_rows": null,
            "height": null,
            "justify_content": null,
            "justify_items": null,
            "left": null,
            "margin": null,
            "max_height": null,
            "max_width": null,
            "min_height": null,
            "min_width": null,
            "object_fit": null,
            "object_position": null,
            "order": null,
            "overflow": null,
            "overflow_x": null,
            "overflow_y": null,
            "padding": null,
            "right": null,
            "top": null,
            "visibility": null,
            "width": null
          }
        },
        "8c0dceff862b4fd1b6d6574e8fb0aa84": {
          "model_module": "@jupyter-widgets/controls",
          "model_name": "DescriptionStyleModel",
          "model_module_version": "1.5.0",
          "state": {
            "_model_module": "@jupyter-widgets/controls",
            "_model_module_version": "1.5.0",
            "_model_name": "DescriptionStyleModel",
            "_view_count": null,
            "_view_module": "@jupyter-widgets/base",
            "_view_module_version": "1.2.0",
            "_view_name": "StyleView",
            "description_width": ""
          }
        },
        "58fc6e3611d042f08b0195600a2170fe": {
          "model_module": "@jupyter-widgets/base",
          "model_name": "LayoutModel",
          "model_module_version": "1.2.0",
          "state": {
            "_model_module": "@jupyter-widgets/base",
            "_model_module_version": "1.2.0",
            "_model_name": "LayoutModel",
            "_view_count": null,
            "_view_module": "@jupyter-widgets/base",
            "_view_module_version": "1.2.0",
            "_view_name": "LayoutView",
            "align_content": null,
            "align_items": null,
            "align_self": null,
            "border": null,
            "bottom": null,
            "display": null,
            "flex": null,
            "flex_flow": null,
            "grid_area": null,
            "grid_auto_columns": null,
            "grid_auto_flow": null,
            "grid_auto_rows": null,
            "grid_column": null,
            "grid_gap": null,
            "grid_row": null,
            "grid_template_areas": null,
            "grid_template_columns": null,
            "grid_template_rows": null,
            "height": null,
            "justify_content": null,
            "justify_items": null,
            "left": null,
            "margin": null,
            "max_height": null,
            "max_width": null,
            "min_height": null,
            "min_width": null,
            "object_fit": null,
            "object_position": null,
            "order": null,
            "overflow": null,
            "overflow_x": null,
            "overflow_y": null,
            "padding": null,
            "right": null,
            "top": null,
            "visibility": null,
            "width": null
          }
        },
        "e52213029c3a48e78dc85976edc61034": {
          "model_module": "@jupyter-widgets/controls",
          "model_name": "ProgressStyleModel",
          "model_module_version": "1.5.0",
          "state": {
            "_model_module": "@jupyter-widgets/controls",
            "_model_module_version": "1.5.0",
            "_model_name": "ProgressStyleModel",
            "_view_count": null,
            "_view_module": "@jupyter-widgets/base",
            "_view_module_version": "1.2.0",
            "_view_name": "StyleView",
            "bar_color": null,
            "description_width": ""
          }
        },
        "9bf3d77df9e749f1843a4cf4bc82dfea": {
          "model_module": "@jupyter-widgets/base",
          "model_name": "LayoutModel",
          "model_module_version": "1.2.0",
          "state": {
            "_model_module": "@jupyter-widgets/base",
            "_model_module_version": "1.2.0",
            "_model_name": "LayoutModel",
            "_view_count": null,
            "_view_module": "@jupyter-widgets/base",
            "_view_module_version": "1.2.0",
            "_view_name": "LayoutView",
            "align_content": null,
            "align_items": null,
            "align_self": null,
            "border": null,
            "bottom": null,
            "display": null,
            "flex": null,
            "flex_flow": null,
            "grid_area": null,
            "grid_auto_columns": null,
            "grid_auto_flow": null,
            "grid_auto_rows": null,
            "grid_column": null,
            "grid_gap": null,
            "grid_row": null,
            "grid_template_areas": null,
            "grid_template_columns": null,
            "grid_template_rows": null,
            "height": null,
            "justify_content": null,
            "justify_items": null,
            "left": null,
            "margin": null,
            "max_height": null,
            "max_width": null,
            "min_height": null,
            "min_width": null,
            "object_fit": null,
            "object_position": null,
            "order": null,
            "overflow": null,
            "overflow_x": null,
            "overflow_y": null,
            "padding": null,
            "right": null,
            "top": null,
            "visibility": null,
            "width": null
          }
        },
        "00584374a5fb4d47a5924244954e269e": {
          "model_module": "@jupyter-widgets/controls",
          "model_name": "DescriptionStyleModel",
          "model_module_version": "1.5.0",
          "state": {
            "_model_module": "@jupyter-widgets/controls",
            "_model_module_version": "1.5.0",
            "_model_name": "DescriptionStyleModel",
            "_view_count": null,
            "_view_module": "@jupyter-widgets/base",
            "_view_module_version": "1.2.0",
            "_view_name": "StyleView",
            "description_width": ""
          }
        }
      }
    }
  },
  "cells": [
    {
      "cell_type": "markdown",
      "source": [
        "## Installing Required Libraries"
      ],
      "metadata": {
        "id": "7PUifZjKBmuA"
      }
    },
    {
      "cell_type": "code",
      "metadata": {
        "id": "FvUJtayxBsGg",
        "colab": {
          "base_uri": "https://localhost:8080/"
        },
        "outputId": "67d14cce-1017-4785-937e-a37aea84bb47"
      },
      "source": [
        "!pip install transformers -U -q"
      ],
      "execution_count": null,
      "outputs": [
        {
          "output_type": "stream",
          "name": "stdout",
          "text": [
            "\u001b[K     |████████████████████████████████| 4.0 MB 8.8 MB/s \n",
            "\u001b[K     |████████████████████████████████| 596 kB 30.7 MB/s \n",
            "\u001b[K     |████████████████████████████████| 6.6 MB 34.5 MB/s \n",
            "\u001b[K     |████████████████████████████████| 77 kB 5.0 MB/s \n",
            "\u001b[K     |████████████████████████████████| 880 kB 53.7 MB/s \n",
            "\u001b[?25h  Building wheel for sacremoses (setup.py) ... \u001b[?25l\u001b[?25hdone\n"
          ]
        }
      ]
    },
    {
      "cell_type": "code",
      "metadata": {
        "colab": {
          "base_uri": "https://localhost:8080/"
        },
        "outputId": "b5bef698-9bb3-4e3a-b2f2-4a9f5dd27bed",
        "id": "J4u5u53cR3Uf"
      },
      "source": [
        "! pip install sentencepiece"
      ],
      "execution_count": null,
      "outputs": [
        {
          "output_type": "stream",
          "name": "stdout",
          "text": [
            "Collecting sentencepiece\n",
            "  Downloading sentencepiece-0.1.96-cp37-cp37m-manylinux_2_17_x86_64.manylinux2014_x86_64.whl (1.2 MB)\n",
            "\u001b[?25l\r\u001b[K     |▎                               | 10 kB 18.5 MB/s eta 0:00:01\r\u001b[K     |▌                               | 20 kB 24.6 MB/s eta 0:00:01\r\u001b[K     |▉                               | 30 kB 18.1 MB/s eta 0:00:01\r\u001b[K     |█                               | 40 kB 7.2 MB/s eta 0:00:01\r\u001b[K     |█▍                              | 51 kB 6.9 MB/s eta 0:00:01\r\u001b[K     |█▋                              | 61 kB 8.0 MB/s eta 0:00:01\r\u001b[K     |██                              | 71 kB 8.1 MB/s eta 0:00:01\r\u001b[K     |██▏                             | 81 kB 7.8 MB/s eta 0:00:01\r\u001b[K     |██▍                             | 92 kB 8.6 MB/s eta 0:00:01\r\u001b[K     |██▊                             | 102 kB 7.6 MB/s eta 0:00:01\r\u001b[K     |███                             | 112 kB 7.6 MB/s eta 0:00:01\r\u001b[K     |███▎                            | 122 kB 7.6 MB/s eta 0:00:01\r\u001b[K     |███▌                            | 133 kB 7.6 MB/s eta 0:00:01\r\u001b[K     |███▉                            | 143 kB 7.6 MB/s eta 0:00:01\r\u001b[K     |████                            | 153 kB 7.6 MB/s eta 0:00:01\r\u001b[K     |████▎                           | 163 kB 7.6 MB/s eta 0:00:01\r\u001b[K     |████▋                           | 174 kB 7.6 MB/s eta 0:00:01\r\u001b[K     |████▉                           | 184 kB 7.6 MB/s eta 0:00:01\r\u001b[K     |█████▏                          | 194 kB 7.6 MB/s eta 0:00:01\r\u001b[K     |█████▍                          | 204 kB 7.6 MB/s eta 0:00:01\r\u001b[K     |█████▊                          | 215 kB 7.6 MB/s eta 0:00:01\r\u001b[K     |██████                          | 225 kB 7.6 MB/s eta 0:00:01\r\u001b[K     |██████▏                         | 235 kB 7.6 MB/s eta 0:00:01\r\u001b[K     |██████▌                         | 245 kB 7.6 MB/s eta 0:00:01\r\u001b[K     |██████▊                         | 256 kB 7.6 MB/s eta 0:00:01\r\u001b[K     |███████                         | 266 kB 7.6 MB/s eta 0:00:01\r\u001b[K     |███████▎                        | 276 kB 7.6 MB/s eta 0:00:01\r\u001b[K     |███████▋                        | 286 kB 7.6 MB/s eta 0:00:01\r\u001b[K     |███████▉                        | 296 kB 7.6 MB/s eta 0:00:01\r\u001b[K     |████████                        | 307 kB 7.6 MB/s eta 0:00:01\r\u001b[K     |████████▍                       | 317 kB 7.6 MB/s eta 0:00:01\r\u001b[K     |████████▋                       | 327 kB 7.6 MB/s eta 0:00:01\r\u001b[K     |█████████                       | 337 kB 7.6 MB/s eta 0:00:01\r\u001b[K     |█████████▏                      | 348 kB 7.6 MB/s eta 0:00:01\r\u001b[K     |█████████▌                      | 358 kB 7.6 MB/s eta 0:00:01\r\u001b[K     |█████████▊                      | 368 kB 7.6 MB/s eta 0:00:01\r\u001b[K     |██████████                      | 378 kB 7.6 MB/s eta 0:00:01\r\u001b[K     |██████████▎                     | 389 kB 7.6 MB/s eta 0:00:01\r\u001b[K     |██████████▌                     | 399 kB 7.6 MB/s eta 0:00:01\r\u001b[K     |██████████▉                     | 409 kB 7.6 MB/s eta 0:00:01\r\u001b[K     |███████████                     | 419 kB 7.6 MB/s eta 0:00:01\r\u001b[K     |███████████▍                    | 430 kB 7.6 MB/s eta 0:00:01\r\u001b[K     |███████████▋                    | 440 kB 7.6 MB/s eta 0:00:01\r\u001b[K     |███████████▉                    | 450 kB 7.6 MB/s eta 0:00:01\r\u001b[K     |████████████▏                   | 460 kB 7.6 MB/s eta 0:00:01\r\u001b[K     |████████████▍                   | 471 kB 7.6 MB/s eta 0:00:01\r\u001b[K     |████████████▊                   | 481 kB 7.6 MB/s eta 0:00:01\r\u001b[K     |█████████████                   | 491 kB 7.6 MB/s eta 0:00:01\r\u001b[K     |█████████████▎                  | 501 kB 7.6 MB/s eta 0:00:01\r\u001b[K     |█████████████▌                  | 512 kB 7.6 MB/s eta 0:00:01\r\u001b[K     |█████████████▊                  | 522 kB 7.6 MB/s eta 0:00:01\r\u001b[K     |██████████████                  | 532 kB 7.6 MB/s eta 0:00:01\r\u001b[K     |██████████████▎                 | 542 kB 7.6 MB/s eta 0:00:01\r\u001b[K     |██████████████▋                 | 552 kB 7.6 MB/s eta 0:00:01\r\u001b[K     |██████████████▉                 | 563 kB 7.6 MB/s eta 0:00:01\r\u001b[K     |███████████████▏                | 573 kB 7.6 MB/s eta 0:00:01\r\u001b[K     |███████████████▍                | 583 kB 7.6 MB/s eta 0:00:01\r\u001b[K     |███████████████▋                | 593 kB 7.6 MB/s eta 0:00:01\r\u001b[K     |████████████████                | 604 kB 7.6 MB/s eta 0:00:01\r\u001b[K     |████████████████▏               | 614 kB 7.6 MB/s eta 0:00:01\r\u001b[K     |████████████████▌               | 624 kB 7.6 MB/s eta 0:00:01\r\u001b[K     |████████████████▊               | 634 kB 7.6 MB/s eta 0:00:01\r\u001b[K     |█████████████████               | 645 kB 7.6 MB/s eta 0:00:01\r\u001b[K     |█████████████████▎              | 655 kB 7.6 MB/s eta 0:00:01\r\u001b[K     |█████████████████▌              | 665 kB 7.6 MB/s eta 0:00:01\r\u001b[K     |█████████████████▉              | 675 kB 7.6 MB/s eta 0:00:01\r\u001b[K     |██████████████████              | 686 kB 7.6 MB/s eta 0:00:01\r\u001b[K     |██████████████████▍             | 696 kB 7.6 MB/s eta 0:00:01\r\u001b[K     |██████████████████▋             | 706 kB 7.6 MB/s eta 0:00:01\r\u001b[K     |███████████████████             | 716 kB 7.6 MB/s eta 0:00:01\r\u001b[K     |███████████████████▏            | 727 kB 7.6 MB/s eta 0:00:01\r\u001b[K     |███████████████████▍            | 737 kB 7.6 MB/s eta 0:00:01\r\u001b[K     |███████████████████▊            | 747 kB 7.6 MB/s eta 0:00:01\r\u001b[K     |████████████████████            | 757 kB 7.6 MB/s eta 0:00:01\r\u001b[K     |████████████████████▎           | 768 kB 7.6 MB/s eta 0:00:01\r\u001b[K     |████████████████████▌           | 778 kB 7.6 MB/s eta 0:00:01\r\u001b[K     |████████████████████▉           | 788 kB 7.6 MB/s eta 0:00:01\r\u001b[K     |█████████████████████           | 798 kB 7.6 MB/s eta 0:00:01\r\u001b[K     |█████████████████████▎          | 808 kB 7.6 MB/s eta 0:00:01\r\u001b[K     |█████████████████████▋          | 819 kB 7.6 MB/s eta 0:00:01\r\u001b[K     |█████████████████████▉          | 829 kB 7.6 MB/s eta 0:00:01\r\u001b[K     |██████████████████████▏         | 839 kB 7.6 MB/s eta 0:00:01\r\u001b[K     |██████████████████████▍         | 849 kB 7.6 MB/s eta 0:00:01\r\u001b[K     |██████████████████████▊         | 860 kB 7.6 MB/s eta 0:00:01\r\u001b[K     |███████████████████████         | 870 kB 7.6 MB/s eta 0:00:01\r\u001b[K     |███████████████████████▏        | 880 kB 7.6 MB/s eta 0:00:01\r\u001b[K     |███████████████████████▌        | 890 kB 7.6 MB/s eta 0:00:01\r\u001b[K     |███████████████████████▊        | 901 kB 7.6 MB/s eta 0:00:01\r\u001b[K     |████████████████████████        | 911 kB 7.6 MB/s eta 0:00:01\r\u001b[K     |████████████████████████▎       | 921 kB 7.6 MB/s eta 0:00:01\r\u001b[K     |████████████████████████▋       | 931 kB 7.6 MB/s eta 0:00:01\r\u001b[K     |████████████████████████▉       | 942 kB 7.6 MB/s eta 0:00:01\r\u001b[K     |█████████████████████████       | 952 kB 7.6 MB/s eta 0:00:01\r\u001b[K     |█████████████████████████▍      | 962 kB 7.6 MB/s eta 0:00:01\r\u001b[K     |█████████████████████████▋      | 972 kB 7.6 MB/s eta 0:00:01\r\u001b[K     |██████████████████████████      | 983 kB 7.6 MB/s eta 0:00:01\r\u001b[K     |██████████████████████████▏     | 993 kB 7.6 MB/s eta 0:00:01\r\u001b[K     |██████████████████████████▌     | 1.0 MB 7.6 MB/s eta 0:00:01\r\u001b[K     |██████████████████████████▊     | 1.0 MB 7.6 MB/s eta 0:00:01\r\u001b[K     |███████████████████████████     | 1.0 MB 7.6 MB/s eta 0:00:01\r\u001b[K     |███████████████████████████▎    | 1.0 MB 7.6 MB/s eta 0:00:01\r\u001b[K     |███████████████████████████▌    | 1.0 MB 7.6 MB/s eta 0:00:01\r\u001b[K     |███████████████████████████▉    | 1.1 MB 7.6 MB/s eta 0:00:01\r\u001b[K     |████████████████████████████    | 1.1 MB 7.6 MB/s eta 0:00:01\r\u001b[K     |████████████████████████████▍   | 1.1 MB 7.6 MB/s eta 0:00:01\r\u001b[K     |████████████████████████████▋   | 1.1 MB 7.6 MB/s eta 0:00:01\r\u001b[K     |████████████████████████████▉   | 1.1 MB 7.6 MB/s eta 0:00:01\r\u001b[K     |█████████████████████████████▏  | 1.1 MB 7.6 MB/s eta 0:00:01\r\u001b[K     |█████████████████████████████▍  | 1.1 MB 7.6 MB/s eta 0:00:01\r\u001b[K     |█████████████████████████████▊  | 1.1 MB 7.6 MB/s eta 0:00:01\r\u001b[K     |██████████████████████████████  | 1.1 MB 7.6 MB/s eta 0:00:01\r\u001b[K     |██████████████████████████████▎ | 1.1 MB 7.6 MB/s eta 0:00:01\r\u001b[K     |██████████████████████████████▌ | 1.2 MB 7.6 MB/s eta 0:00:01\r\u001b[K     |██████████████████████████████▊ | 1.2 MB 7.6 MB/s eta 0:00:01\r\u001b[K     |███████████████████████████████ | 1.2 MB 7.6 MB/s eta 0:00:01\r\u001b[K     |███████████████████████████████▎| 1.2 MB 7.6 MB/s eta 0:00:01\r\u001b[K     |███████████████████████████████▋| 1.2 MB 7.6 MB/s eta 0:00:01\r\u001b[K     |███████████████████████████████▉| 1.2 MB 7.6 MB/s eta 0:00:01\r\u001b[K     |████████████████████████████████| 1.2 MB 7.6 MB/s \n",
            "\u001b[?25hInstalling collected packages: sentencepiece\n",
            "Successfully installed sentencepiece-0.1.96\n"
          ]
        }
      ]
    },
    {
      "cell_type": "code",
      "metadata": {
        "colab": {
          "base_uri": "https://localhost:8080/"
        },
        "outputId": "5f9eabc3-4b7c-47aa-a63f-413ff9f196d0",
        "id": "zLc_jJ8yR3Uf"
      },
      "source": [
        "!pip freeze | grep transformers"
      ],
      "execution_count": null,
      "outputs": [
        {
          "output_type": "stream",
          "name": "stdout",
          "text": [
            "transformers==4.18.0\n"
          ]
        }
      ]
    },
    {
      "cell_type": "code",
      "source": [
        "!pip install datasets\n",
        "!pip install -U nltk"
      ],
      "metadata": {
        "id": "53b0JbkM9AAp",
        "colab": {
          "base_uri": "https://localhost:8080/"
        },
        "outputId": "b3d9d035-6758-41b1-9040-a1b77d854581"
      },
      "execution_count": null,
      "outputs": [
        {
          "output_type": "stream",
          "name": "stdout",
          "text": [
            "Collecting datasets\n",
            "  Downloading datasets-2.1.0-py3-none-any.whl (325 kB)\n",
            "\u001b[K     |████████████████████████████████| 325 kB 8.0 MB/s \n",
            "\u001b[?25hRequirement already satisfied: pandas in /usr/local/lib/python3.7/dist-packages (from datasets) (1.3.5)\n",
            "Collecting aiohttp\n",
            "  Downloading aiohttp-3.8.1-cp37-cp37m-manylinux_2_5_x86_64.manylinux1_x86_64.manylinux_2_12_x86_64.manylinux2010_x86_64.whl (1.1 MB)\n",
            "\u001b[K     |████████████████████████████████| 1.1 MB 60.5 MB/s \n",
            "\u001b[?25hRequirement already satisfied: numpy>=1.17 in /usr/local/lib/python3.7/dist-packages (from datasets) (1.21.6)\n",
            "Requirement already satisfied: tqdm>=4.62.1 in /usr/local/lib/python3.7/dist-packages (from datasets) (4.64.0)\n",
            "Requirement already satisfied: huggingface-hub<1.0.0,>=0.1.0 in /usr/local/lib/python3.7/dist-packages (from datasets) (0.5.1)\n",
            "Requirement already satisfied: multiprocess in /usr/local/lib/python3.7/dist-packages (from datasets) (0.70.12.2)\n",
            "Collecting responses<0.19\n",
            "  Downloading responses-0.18.0-py3-none-any.whl (38 kB)\n",
            "Collecting xxhash\n",
            "  Downloading xxhash-3.0.0-cp37-cp37m-manylinux_2_17_x86_64.manylinux2014_x86_64.whl (212 kB)\n",
            "\u001b[K     |████████████████████████████████| 212 kB 59.1 MB/s \n",
            "\u001b[?25hRequirement already satisfied: importlib-metadata in /usr/local/lib/python3.7/dist-packages (from datasets) (4.11.3)\n",
            "Collecting fsspec[http]>=2021.05.0\n",
            "  Downloading fsspec-2022.3.0-py3-none-any.whl (136 kB)\n",
            "\u001b[K     |████████████████████████████████| 136 kB 49.5 MB/s \n",
            "\u001b[?25hRequirement already satisfied: requests>=2.19.0 in /usr/local/lib/python3.7/dist-packages (from datasets) (2.23.0)\n",
            "Requirement already satisfied: dill in /usr/local/lib/python3.7/dist-packages (from datasets) (0.3.4)\n",
            "Requirement already satisfied: packaging in /usr/local/lib/python3.7/dist-packages (from datasets) (21.3)\n",
            "Requirement already satisfied: pyarrow>=5.0.0 in /usr/local/lib/python3.7/dist-packages (from datasets) (6.0.1)\n",
            "Requirement already satisfied: filelock in /usr/local/lib/python3.7/dist-packages (from huggingface-hub<1.0.0,>=0.1.0->datasets) (3.6.0)\n",
            "Requirement already satisfied: typing-extensions>=3.7.4.3 in /usr/local/lib/python3.7/dist-packages (from huggingface-hub<1.0.0,>=0.1.0->datasets) (4.2.0)\n",
            "Requirement already satisfied: pyyaml in /usr/local/lib/python3.7/dist-packages (from huggingface-hub<1.0.0,>=0.1.0->datasets) (6.0)\n",
            "Requirement already satisfied: pyparsing!=3.0.5,>=2.0.2 in /usr/local/lib/python3.7/dist-packages (from packaging->datasets) (3.0.8)\n",
            "Requirement already satisfied: urllib3!=1.25.0,!=1.25.1,<1.26,>=1.21.1 in /usr/local/lib/python3.7/dist-packages (from requests>=2.19.0->datasets) (1.24.3)\n",
            "Requirement already satisfied: idna<3,>=2.5 in /usr/local/lib/python3.7/dist-packages (from requests>=2.19.0->datasets) (2.10)\n",
            "Requirement already satisfied: chardet<4,>=3.0.2 in /usr/local/lib/python3.7/dist-packages (from requests>=2.19.0->datasets) (3.0.4)\n",
            "Requirement already satisfied: certifi>=2017.4.17 in /usr/local/lib/python3.7/dist-packages (from requests>=2.19.0->datasets) (2021.10.8)\n",
            "Collecting urllib3!=1.25.0,!=1.25.1,<1.26,>=1.21.1\n",
            "  Downloading urllib3-1.25.11-py2.py3-none-any.whl (127 kB)\n",
            "\u001b[K     |████████████████████████████████| 127 kB 62.3 MB/s \n",
            "\u001b[?25hCollecting aiosignal>=1.1.2\n",
            "  Downloading aiosignal-1.2.0-py3-none-any.whl (8.2 kB)\n",
            "Collecting yarl<2.0,>=1.0\n",
            "  Downloading yarl-1.7.2-cp37-cp37m-manylinux_2_5_x86_64.manylinux1_x86_64.manylinux_2_12_x86_64.manylinux2010_x86_64.whl (271 kB)\n",
            "\u001b[K     |████████████████████████████████| 271 kB 36.7 MB/s \n",
            "\u001b[?25hCollecting multidict<7.0,>=4.5\n",
            "  Downloading multidict-6.0.2-cp37-cp37m-manylinux_2_17_x86_64.manylinux2014_x86_64.whl (94 kB)\n",
            "\u001b[K     |████████████████████████████████| 94 kB 3.3 MB/s \n",
            "\u001b[?25hRequirement already satisfied: attrs>=17.3.0 in /usr/local/lib/python3.7/dist-packages (from aiohttp->datasets) (21.4.0)\n",
            "Collecting asynctest==0.13.0\n",
            "  Downloading asynctest-0.13.0-py3-none-any.whl (26 kB)\n",
            "Collecting async-timeout<5.0,>=4.0.0a3\n",
            "  Downloading async_timeout-4.0.2-py3-none-any.whl (5.8 kB)\n",
            "Requirement already satisfied: charset-normalizer<3.0,>=2.0 in /usr/local/lib/python3.7/dist-packages (from aiohttp->datasets) (2.0.12)\n",
            "Collecting frozenlist>=1.1.1\n",
            "  Downloading frozenlist-1.3.0-cp37-cp37m-manylinux_2_5_x86_64.manylinux1_x86_64.manylinux_2_17_x86_64.manylinux2014_x86_64.whl (144 kB)\n",
            "\u001b[K     |████████████████████████████████| 144 kB 54.3 MB/s \n",
            "\u001b[?25hRequirement already satisfied: zipp>=0.5 in /usr/local/lib/python3.7/dist-packages (from importlib-metadata->datasets) (3.8.0)\n",
            "Requirement already satisfied: python-dateutil>=2.7.3 in /usr/local/lib/python3.7/dist-packages (from pandas->datasets) (2.8.2)\n",
            "Requirement already satisfied: pytz>=2017.3 in /usr/local/lib/python3.7/dist-packages (from pandas->datasets) (2022.1)\n",
            "Requirement already satisfied: six>=1.5 in /usr/local/lib/python3.7/dist-packages (from python-dateutil>=2.7.3->pandas->datasets) (1.15.0)\n",
            "Installing collected packages: multidict, frozenlist, yarl, urllib3, asynctest, async-timeout, aiosignal, fsspec, aiohttp, xxhash, responses, datasets\n",
            "  Attempting uninstall: urllib3\n",
            "    Found existing installation: urllib3 1.24.3\n",
            "    Uninstalling urllib3-1.24.3:\n",
            "      Successfully uninstalled urllib3-1.24.3\n",
            "\u001b[31mERROR: pip's dependency resolver does not currently take into account all the packages that are installed. This behaviour is the source of the following dependency conflicts.\n",
            "datascience 0.10.6 requires folium==0.2.1, but you have folium 0.8.3 which is incompatible.\u001b[0m\n",
            "Successfully installed aiohttp-3.8.1 aiosignal-1.2.0 async-timeout-4.0.2 asynctest-0.13.0 datasets-2.1.0 frozenlist-1.3.0 fsspec-2022.3.0 multidict-6.0.2 responses-0.18.0 urllib3-1.25.11 xxhash-3.0.0 yarl-1.7.2\n",
            "Requirement already satisfied: nltk in /usr/local/lib/python3.7/dist-packages (3.2.5)\n",
            "Collecting nltk\n",
            "  Downloading nltk-3.7-py3-none-any.whl (1.5 MB)\n",
            "\u001b[K     |████████████████████████████████| 1.5 MB 6.2 MB/s \n",
            "\u001b[?25hRequirement already satisfied: joblib in /usr/local/lib/python3.7/dist-packages (from nltk) (1.1.0)\n",
            "Collecting regex>=2021.8.3\n",
            "  Downloading regex-2022.4.24-cp37-cp37m-manylinux_2_17_x86_64.manylinux2014_x86_64.whl (749 kB)\n",
            "\u001b[K     |████████████████████████████████| 749 kB 24.1 MB/s \n",
            "\u001b[?25hRequirement already satisfied: click in /usr/local/lib/python3.7/dist-packages (from nltk) (7.1.2)\n",
            "Requirement already satisfied: tqdm in /usr/local/lib/python3.7/dist-packages (from nltk) (4.64.0)\n",
            "Installing collected packages: regex, nltk\n",
            "  Attempting uninstall: regex\n",
            "    Found existing installation: regex 2019.12.20\n",
            "    Uninstalling regex-2019.12.20:\n",
            "      Successfully uninstalled regex-2019.12.20\n",
            "  Attempting uninstall: nltk\n",
            "    Found existing installation: nltk 3.2.5\n",
            "    Uninstalling nltk-3.2.5:\n",
            "      Successfully uninstalled nltk-3.2.5\n",
            "Successfully installed nltk-3.7 regex-2022.4.24\n"
          ]
        }
      ]
    },
    {
      "cell_type": "markdown",
      "source": [
        "#Importing Libraries"
      ],
      "metadata": {
        "id": "WGIFYkc9L2mF"
      }
    },
    {
      "cell_type": "code",
      "source": [
        "from transformers import MBartForConditionalGeneration, MBart50TokenizerFast\n",
        "from sklearn.model_selection import train_test_split\n",
        "import pandas as pd\n",
        "import torch\n",
        "import os, shutil\n",
        "import  nltk.translate.bleu_score as bleu\n",
        "import warnings\n",
        "warnings.filterwarnings('ignore')\n",
        "\n",
        "from nltk.translate.meteor_score import meteor_score\n",
        "from nltk import word_tokenize\n",
        "import itertools"
      ],
      "metadata": {
        "id": "Tu-1wyP2L5Es"
      },
      "execution_count": null,
      "outputs": []
    },
    {
      "cell_type": "markdown",
      "source": [
        "## Google Authentication"
      ],
      "metadata": {
        "id": "oM5papsk_kLd"
      }
    },
    {
      "cell_type": "code",
      "source": [
        "!pip install -U -q PyDrive\n",
        "from pydrive.auth import GoogleAuth\n",
        "from pydrive.drive import GoogleDrive\n",
        "from google.colab import auth\n",
        "from oauth2client.client import GoogleCredentials\n",
        "\n",
        "auth.authenticate_user()\n",
        "gauth = GoogleAuth()\n",
        "gauth.credentials = GoogleCredentials.get_application_default()\n",
        "drive = GoogleDrive(gauth)"
      ],
      "metadata": {
        "id": "xfDN5Xj6_mSD"
      },
      "execution_count": null,
      "outputs": []
    },
    {
      "cell_type": "code",
      "source": [
        "from google.colab import drive\n",
        "drive.mount('/content/drive')"
      ],
      "metadata": {
        "colab": {
          "base_uri": "https://localhost:8080/"
        },
        "id": "xhxa-1em_rJc",
        "outputId": "98860115-7029-4cdd-9558-9b439a82ded0"
      },
      "execution_count": null,
      "outputs": [
        {
          "output_type": "stream",
          "name": "stdout",
          "text": [
            "Mounted at /content/drive\n"
          ]
        }
      ]
    },
    {
      "cell_type": "markdown",
      "source": [
        "#Accessing the Dataset"
      ],
      "metadata": {
        "id": "Xv6dgF9nB3ht"
      }
    },
    {
      "cell_type": "code",
      "source": [
        "path = '/content/drive/MyDrive/My Documents/NLU/Project/dataset_for_nlu_project'\n",
        "path_en_bn ='/content/drive/MyDrive/My Documents/NLU/Project/dataset_for_nlu_project/en-bn'\n",
        "path_en_hi = '/content/drive/MyDrive/My Documents/NLU/Project/dataset_for_nlu_project/en-hi'"
      ],
      "metadata": {
        "id": "ClVJ-oP5Ak6b"
      },
      "execution_count": null,
      "outputs": []
    },
    {
      "cell_type": "markdown",
      "source": [
        "Total count of sentences in the dataset for English and corresponding Hindi Translations are 8466307 each. It was taking a long time to train the model on such a large dataset, every time the session was crashing while computation. So for our project we have used the first 200000 data points for traing the model. "
      ],
      "metadata": {
        "id": "Rre8llpw2bOq"
      }
    },
    {
      "cell_type": "markdown",
      "source": [
        "#Data preprocessing  (Run only once)"
      ],
      "metadata": {
        "id": "rxwKdjCXCbQu"
      }
    },
    {
      "cell_type": "markdown",
      "source": [
        "Stored the first 200000 data of english and corresponding hindi label in a dataframe and exported it to a csv file, which will later be used for train test split (One time task, no need to run this code again)"
      ],
      "metadata": {
        "id": "OedtabCsChlD"
      }
    },
    {
      "cell_type": "markdown",
      "source": [
        "En-Hi Data"
      ],
      "metadata": {
        "id": "BhnscemFNtel"
      }
    },
    {
      "cell_type": "code",
      "source": [
        "#@title English-Hindi Data\n",
        "file = open(\"/content/drive/MyDrive/My Documents/NLU/Project/dataset_for_nlu_project/en-hi/train.en\",'r')\n",
        "count = 0\n",
        "en_text = []\n",
        "line = file.readline() \n",
        "while line:\n",
        "  line = line.rstrip() \n",
        "  en_text.append(line)\n",
        "  line = file.readline()\n",
        "  count+=1\n",
        "  if(count>=200000):\n",
        "    break\n",
        "\n",
        "file = open(\"/content/drive/MyDrive/My Documents/NLU/Project/dataset_for_nlu_project/en-hi/train.hi\",'r')\n",
        "hi_text = []\n",
        "count = 0\n",
        "line = file.readline()\n",
        "while line:\n",
        "  line = line.rstrip() \n",
        "  hi_text.append(line)\n",
        "  line = file.readline()\n",
        "  count+=1\n",
        "  if(count>=200000):\n",
        "    break\n"
      ],
      "metadata": {
        "id": "q5mCmTaZN3h-",
        "cellView": "form"
      },
      "execution_count": null,
      "outputs": []
    },
    {
      "cell_type": "code",
      "source": [
        "print(len(en_text))\n",
        "print(len(hi_text))"
      ],
      "metadata": {
        "colab": {
          "base_uri": "https://localhost:8080/"
        },
        "id": "YRicig56C_Xi",
        "outputId": "abc3d876-9289-4c8d-85d6-18f20a54e7cd"
      },
      "execution_count": null,
      "outputs": [
        {
          "output_type": "stream",
          "name": "stdout",
          "text": [
            "200000\n",
            "200000\n"
          ]
        }
      ]
    },
    {
      "cell_type": "code",
      "source": [
        "print(en_text[1])\n",
        "print(hi_text[1])"
      ],
      "metadata": {
        "colab": {
          "base_uri": "https://localhost:8080/"
        },
        "id": "V7IsJbKpPK6k",
        "outputId": "ff5cde0a-8d83-414d-e5c6-d24073a03db1"
      },
      "execution_count": null,
      "outputs": [
        {
          "output_type": "stream",
          "name": "stdout",
          "text": [
            "The European Union has seven principal decision-making bodies, its institutions: the European Parliament, the European Council, the Council of the European Union, the European Commission, the Court of Justice of the European Union, the European Central Bank and the European Court of Auditors.\n",
            "यूरोपीय संघ के महत्वपूर्ण संस्थानों में यूरोपियन कमीशन, यूरोपीय संसद, यूरोपीय संघ परिषद, यूरोपीय न्यायलय एवं यूरोपियन सेंट्रल बैंक इत्यादि शामिल हैं।\n"
          ]
        }
      ]
    },
    {
      "cell_type": "code",
      "source": [
        "import pandas as pd\n",
        "df = pd.DataFrame(list(zip(en_text, hi_text)),\n",
        "               columns =['english', 'hindi'])"
      ],
      "metadata": {
        "id": "phADX9ISDS_w"
      },
      "execution_count": null,
      "outputs": []
    },
    {
      "cell_type": "code",
      "source": [
        "df.to_csv(\"nlu_dataset.csv\")"
      ],
      "metadata": {
        "id": "5W_QEOofDYHt"
      },
      "execution_count": null,
      "outputs": []
    },
    {
      "cell_type": "markdown",
      "source": [
        "# Reading the dataset"
      ],
      "metadata": {
        "id": "9E38zfDPDhVr"
      }
    },
    {
      "cell_type": "code",
      "source": [
        "dataset_path =\"/content/drive/MyDrive/My Documents/NLU/Project/nlu_dataset.csv\"\n",
        "data = pd.read_csv(dataset_path)\n",
        "del data[\"Unnamed: 0\"]"
      ],
      "metadata": {
        "id": "43hy2idODeQj"
      },
      "execution_count": null,
      "outputs": []
    },
    {
      "cell_type": "code",
      "source": [
        "X = list(data[\"english\"])\n",
        "Y = list(data[\"hindi\"])"
      ],
      "metadata": {
        "id": "g5YwypBuELZM"
      },
      "execution_count": null,
      "outputs": []
    },
    {
      "cell_type": "markdown",
      "source": [
        "Train Test Split (80:20)"
      ],
      "metadata": {
        "id": "hgzly4jKPLkl"
      }
    },
    {
      "cell_type": "code",
      "source": [
        "trainData,testData,trainLabel,testLabel = train_test_split(X,Y,test_size=0.2,random_state=0)"
      ],
      "metadata": {
        "id": "oVDH4T-nPWPa"
      },
      "execution_count": null,
      "outputs": []
    },
    {
      "cell_type": "code",
      "source": [
        "print(len(trainData),\":\",len(trainLabel))\n",
        "print(len(testData),\":\",len(testLabel))"
      ],
      "metadata": {
        "colab": {
          "base_uri": "https://localhost:8080/"
        },
        "id": "XIWHTOVkPnB7",
        "outputId": "1986a0ff-be8f-44ff-9191-eb5c93fe94a2"
      },
      "execution_count": null,
      "outputs": [
        {
          "output_type": "stream",
          "name": "stdout",
          "text": [
            "160000 : 160000\n",
            "40000 : 40000\n"
          ]
        }
      ]
    },
    {
      "cell_type": "markdown",
      "source": [
        "Moving data and labels to GPU if available"
      ],
      "metadata": {
        "id": "sU-pONFtbeGy"
      }
    },
    {
      "cell_type": "code",
      "source": [
        "device=torch.device('cuda' if torch.cuda.is_available() else 'cpu')\n",
        "print(device)"
      ],
      "metadata": {
        "colab": {
          "base_uri": "https://localhost:8080/"
        },
        "id": "ztJPFWxhbc5V",
        "outputId": "35cf33cf-c6fb-4c30-e007-c437dc96f6dd"
      },
      "execution_count": null,
      "outputs": [
        {
          "output_type": "stream",
          "name": "stdout",
          "text": [
            "cpu\n"
          ]
        }
      ]
    },
    {
      "cell_type": "markdown",
      "source": [
        "MBart Pretrained Transformer Model"
      ],
      "metadata": {
        "id": "aPZTDk4O3PVy"
      }
    },
    {
      "cell_type": "code",
      "metadata": {
        "id": "fM71yfka3PVz",
        "colab": {
          "base_uri": "https://localhost:8080/",
          "height": 81,
          "referenced_widgets": [
            "6692154252834ba8bb81cfa37dab9b7b",
            "942c9ad17b5c4701982ddb98c3d159ee",
            "a9e4d7d94ade4500a56c2e43542d767d",
            "c6975dc988764d408356b909efd9c999",
            "973298637aee49649118c53efd81f595",
            "c65dd3b58a214ef09343b3c04b6ff494",
            "b9bad3be53494ff58518b725134e8329",
            "317b87f9d41f4e01ba7722718c9503d1",
            "f0a0938b34e84b83ba7707a2719ad286",
            "511fdd65c89c4122836522440c1bd4c8",
            "9b83ff18692c43e2bb8dc4030e6a277a",
            "382a1948227d4acf955acd09a88bcf6c",
            "afa45f0e51dc40aa8e1be0b8810957d9",
            "9cc59d727679463f92fe1f5a62de73c7",
            "463e878ec48c4ce583ed2dbbd82c73ff",
            "203b90324a924fb1a8f343c922b29013",
            "dc30f20e4fd84236a760108dc8ed0f5f",
            "5a8f3f4d826841f5981c38db4ae03726",
            "9fb0f6b9f60c446b8ea66e7938121e83",
            "0d8fab68ffda4d73923dc90025d6335b",
            "d8d1cf147f8845f992ace6bfe268fcad",
            "17206bc359614ac7a2a59c8852f21edc"
          ]
        },
        "outputId": "0f510f5a-f474-4a23-bd6b-d624de159cfd"
      },
      "source": [
        "model_pretrained = MBartForConditionalGeneration.from_pretrained(\"facebook/mbart-large-50-one-to-many-mmt\")\n",
        "#model_pretrained = model_pretrained.to(device)"
      ],
      "execution_count": null,
      "outputs": [
        {
          "output_type": "display_data",
          "data": {
            "text/plain": [
              "Downloading:   0%|          | 0.00/1.39k [00:00<?, ?B/s]"
            ],
            "application/vnd.jupyter.widget-view+json": {
              "version_major": 2,
              "version_minor": 0,
              "model_id": "6692154252834ba8bb81cfa37dab9b7b"
            }
          },
          "metadata": {}
        },
        {
          "output_type": "display_data",
          "data": {
            "text/plain": [
              "Downloading:   0%|          | 0.00/2.28G [00:00<?, ?B/s]"
            ],
            "application/vnd.jupyter.widget-view+json": {
              "version_major": 2,
              "version_minor": 0,
              "model_id": "382a1948227d4acf955acd09a88bcf6c"
            }
          },
          "metadata": {}
        }
      ]
    },
    {
      "cell_type": "code",
      "source": [
        "#print(model_pretrained)\n",
        "type(model_pretrained)"
      ],
      "metadata": {
        "colab": {
          "base_uri": "https://localhost:8080/"
        },
        "id": "oz2UF0bb3PVz",
        "outputId": "fc594a9b-d7be-4095-b1ee-54e5776b0bcb"
      },
      "execution_count": null,
      "outputs": [
        {
          "output_type": "execute_result",
          "data": {
            "text/plain": [
              "transformers.models.mbart.modeling_mbart.MBartForConditionalGeneration"
            ]
          },
          "metadata": {},
          "execution_count": 23
        }
      ]
    },
    {
      "cell_type": "code",
      "source": [
        "print(model_pretrained.model.encoder)"
      ],
      "metadata": {
        "id": "ThWJpWtDf3Dg"
      },
      "execution_count": null,
      "outputs": []
    },
    {
      "cell_type": "code",
      "source": [
        "#Encoder\n",
        "print(model_pretrained.model.encoder)"
      ],
      "metadata": {
        "colab": {
          "base_uri": "https://localhost:8080/"
        },
        "id": "9KzbaD_yYPvE",
        "outputId": "e96bcffa-5aed-4495-e869-a30fe4fd90c5"
      },
      "execution_count": null,
      "outputs": [
        {
          "output_type": "stream",
          "name": "stdout",
          "text": [
            "MBartEncoder(\n",
            "  (embed_tokens): Embedding(250054, 1024, padding_idx=1)\n",
            "  (embed_positions): MBartLearnedPositionalEmbedding(1026, 1024)\n",
            "  (layers): ModuleList(\n",
            "    (0): MBartEncoderLayer(\n",
            "      (self_attn): MBartAttention(\n",
            "        (k_proj): Linear(in_features=1024, out_features=1024, bias=True)\n",
            "        (v_proj): Linear(in_features=1024, out_features=1024, bias=True)\n",
            "        (q_proj): Linear(in_features=1024, out_features=1024, bias=True)\n",
            "        (out_proj): Linear(in_features=1024, out_features=1024, bias=True)\n",
            "      )\n",
            "      (self_attn_layer_norm): LayerNorm((1024,), eps=1e-05, elementwise_affine=True)\n",
            "      (activation_fn): ReLU()\n",
            "      (fc1): Linear(in_features=1024, out_features=4096, bias=True)\n",
            "      (fc2): Linear(in_features=4096, out_features=1024, bias=True)\n",
            "      (final_layer_norm): LayerNorm((1024,), eps=1e-05, elementwise_affine=True)\n",
            "    )\n",
            "    (1): MBartEncoderLayer(\n",
            "      (self_attn): MBartAttention(\n",
            "        (k_proj): Linear(in_features=1024, out_features=1024, bias=True)\n",
            "        (v_proj): Linear(in_features=1024, out_features=1024, bias=True)\n",
            "        (q_proj): Linear(in_features=1024, out_features=1024, bias=True)\n",
            "        (out_proj): Linear(in_features=1024, out_features=1024, bias=True)\n",
            "      )\n",
            "      (self_attn_layer_norm): LayerNorm((1024,), eps=1e-05, elementwise_affine=True)\n",
            "      (activation_fn): ReLU()\n",
            "      (fc1): Linear(in_features=1024, out_features=4096, bias=True)\n",
            "      (fc2): Linear(in_features=4096, out_features=1024, bias=True)\n",
            "      (final_layer_norm): LayerNorm((1024,), eps=1e-05, elementwise_affine=True)\n",
            "    )\n",
            "    (2): MBartEncoderLayer(\n",
            "      (self_attn): MBartAttention(\n",
            "        (k_proj): Linear(in_features=1024, out_features=1024, bias=True)\n",
            "        (v_proj): Linear(in_features=1024, out_features=1024, bias=True)\n",
            "        (q_proj): Linear(in_features=1024, out_features=1024, bias=True)\n",
            "        (out_proj): Linear(in_features=1024, out_features=1024, bias=True)\n",
            "      )\n",
            "      (self_attn_layer_norm): LayerNorm((1024,), eps=1e-05, elementwise_affine=True)\n",
            "      (activation_fn): ReLU()\n",
            "      (fc1): Linear(in_features=1024, out_features=4096, bias=True)\n",
            "      (fc2): Linear(in_features=4096, out_features=1024, bias=True)\n",
            "      (final_layer_norm): LayerNorm((1024,), eps=1e-05, elementwise_affine=True)\n",
            "    )\n",
            "    (3): MBartEncoderLayer(\n",
            "      (self_attn): MBartAttention(\n",
            "        (k_proj): Linear(in_features=1024, out_features=1024, bias=True)\n",
            "        (v_proj): Linear(in_features=1024, out_features=1024, bias=True)\n",
            "        (q_proj): Linear(in_features=1024, out_features=1024, bias=True)\n",
            "        (out_proj): Linear(in_features=1024, out_features=1024, bias=True)\n",
            "      )\n",
            "      (self_attn_layer_norm): LayerNorm((1024,), eps=1e-05, elementwise_affine=True)\n",
            "      (activation_fn): ReLU()\n",
            "      (fc1): Linear(in_features=1024, out_features=4096, bias=True)\n",
            "      (fc2): Linear(in_features=4096, out_features=1024, bias=True)\n",
            "      (final_layer_norm): LayerNorm((1024,), eps=1e-05, elementwise_affine=True)\n",
            "    )\n",
            "    (4): MBartEncoderLayer(\n",
            "      (self_attn): MBartAttention(\n",
            "        (k_proj): Linear(in_features=1024, out_features=1024, bias=True)\n",
            "        (v_proj): Linear(in_features=1024, out_features=1024, bias=True)\n",
            "        (q_proj): Linear(in_features=1024, out_features=1024, bias=True)\n",
            "        (out_proj): Linear(in_features=1024, out_features=1024, bias=True)\n",
            "      )\n",
            "      (self_attn_layer_norm): LayerNorm((1024,), eps=1e-05, elementwise_affine=True)\n",
            "      (activation_fn): ReLU()\n",
            "      (fc1): Linear(in_features=1024, out_features=4096, bias=True)\n",
            "      (fc2): Linear(in_features=4096, out_features=1024, bias=True)\n",
            "      (final_layer_norm): LayerNorm((1024,), eps=1e-05, elementwise_affine=True)\n",
            "    )\n",
            "    (5): MBartEncoderLayer(\n",
            "      (self_attn): MBartAttention(\n",
            "        (k_proj): Linear(in_features=1024, out_features=1024, bias=True)\n",
            "        (v_proj): Linear(in_features=1024, out_features=1024, bias=True)\n",
            "        (q_proj): Linear(in_features=1024, out_features=1024, bias=True)\n",
            "        (out_proj): Linear(in_features=1024, out_features=1024, bias=True)\n",
            "      )\n",
            "      (self_attn_layer_norm): LayerNorm((1024,), eps=1e-05, elementwise_affine=True)\n",
            "      (activation_fn): ReLU()\n",
            "      (fc1): Linear(in_features=1024, out_features=4096, bias=True)\n",
            "      (fc2): Linear(in_features=4096, out_features=1024, bias=True)\n",
            "      (final_layer_norm): LayerNorm((1024,), eps=1e-05, elementwise_affine=True)\n",
            "    )\n",
            "    (6): MBartEncoderLayer(\n",
            "      (self_attn): MBartAttention(\n",
            "        (k_proj): Linear(in_features=1024, out_features=1024, bias=True)\n",
            "        (v_proj): Linear(in_features=1024, out_features=1024, bias=True)\n",
            "        (q_proj): Linear(in_features=1024, out_features=1024, bias=True)\n",
            "        (out_proj): Linear(in_features=1024, out_features=1024, bias=True)\n",
            "      )\n",
            "      (self_attn_layer_norm): LayerNorm((1024,), eps=1e-05, elementwise_affine=True)\n",
            "      (activation_fn): ReLU()\n",
            "      (fc1): Linear(in_features=1024, out_features=4096, bias=True)\n",
            "      (fc2): Linear(in_features=4096, out_features=1024, bias=True)\n",
            "      (final_layer_norm): LayerNorm((1024,), eps=1e-05, elementwise_affine=True)\n",
            "    )\n",
            "    (7): MBartEncoderLayer(\n",
            "      (self_attn): MBartAttention(\n",
            "        (k_proj): Linear(in_features=1024, out_features=1024, bias=True)\n",
            "        (v_proj): Linear(in_features=1024, out_features=1024, bias=True)\n",
            "        (q_proj): Linear(in_features=1024, out_features=1024, bias=True)\n",
            "        (out_proj): Linear(in_features=1024, out_features=1024, bias=True)\n",
            "      )\n",
            "      (self_attn_layer_norm): LayerNorm((1024,), eps=1e-05, elementwise_affine=True)\n",
            "      (activation_fn): ReLU()\n",
            "      (fc1): Linear(in_features=1024, out_features=4096, bias=True)\n",
            "      (fc2): Linear(in_features=4096, out_features=1024, bias=True)\n",
            "      (final_layer_norm): LayerNorm((1024,), eps=1e-05, elementwise_affine=True)\n",
            "    )\n",
            "    (8): MBartEncoderLayer(\n",
            "      (self_attn): MBartAttention(\n",
            "        (k_proj): Linear(in_features=1024, out_features=1024, bias=True)\n",
            "        (v_proj): Linear(in_features=1024, out_features=1024, bias=True)\n",
            "        (q_proj): Linear(in_features=1024, out_features=1024, bias=True)\n",
            "        (out_proj): Linear(in_features=1024, out_features=1024, bias=True)\n",
            "      )\n",
            "      (self_attn_layer_norm): LayerNorm((1024,), eps=1e-05, elementwise_affine=True)\n",
            "      (activation_fn): ReLU()\n",
            "      (fc1): Linear(in_features=1024, out_features=4096, bias=True)\n",
            "      (fc2): Linear(in_features=4096, out_features=1024, bias=True)\n",
            "      (final_layer_norm): LayerNorm((1024,), eps=1e-05, elementwise_affine=True)\n",
            "    )\n",
            "    (9): MBartEncoderLayer(\n",
            "      (self_attn): MBartAttention(\n",
            "        (k_proj): Linear(in_features=1024, out_features=1024, bias=True)\n",
            "        (v_proj): Linear(in_features=1024, out_features=1024, bias=True)\n",
            "        (q_proj): Linear(in_features=1024, out_features=1024, bias=True)\n",
            "        (out_proj): Linear(in_features=1024, out_features=1024, bias=True)\n",
            "      )\n",
            "      (self_attn_layer_norm): LayerNorm((1024,), eps=1e-05, elementwise_affine=True)\n",
            "      (activation_fn): ReLU()\n",
            "      (fc1): Linear(in_features=1024, out_features=4096, bias=True)\n",
            "      (fc2): Linear(in_features=4096, out_features=1024, bias=True)\n",
            "      (final_layer_norm): LayerNorm((1024,), eps=1e-05, elementwise_affine=True)\n",
            "    )\n",
            "    (10): MBartEncoderLayer(\n",
            "      (self_attn): MBartAttention(\n",
            "        (k_proj): Linear(in_features=1024, out_features=1024, bias=True)\n",
            "        (v_proj): Linear(in_features=1024, out_features=1024, bias=True)\n",
            "        (q_proj): Linear(in_features=1024, out_features=1024, bias=True)\n",
            "        (out_proj): Linear(in_features=1024, out_features=1024, bias=True)\n",
            "      )\n",
            "      (self_attn_layer_norm): LayerNorm((1024,), eps=1e-05, elementwise_affine=True)\n",
            "      (activation_fn): ReLU()\n",
            "      (fc1): Linear(in_features=1024, out_features=4096, bias=True)\n",
            "      (fc2): Linear(in_features=4096, out_features=1024, bias=True)\n",
            "      (final_layer_norm): LayerNorm((1024,), eps=1e-05, elementwise_affine=True)\n",
            "    )\n",
            "    (11): MBartEncoderLayer(\n",
            "      (self_attn): MBartAttention(\n",
            "        (k_proj): Linear(in_features=1024, out_features=1024, bias=True)\n",
            "        (v_proj): Linear(in_features=1024, out_features=1024, bias=True)\n",
            "        (q_proj): Linear(in_features=1024, out_features=1024, bias=True)\n",
            "        (out_proj): Linear(in_features=1024, out_features=1024, bias=True)\n",
            "      )\n",
            "      (self_attn_layer_norm): LayerNorm((1024,), eps=1e-05, elementwise_affine=True)\n",
            "      (activation_fn): ReLU()\n",
            "      (fc1): Linear(in_features=1024, out_features=4096, bias=True)\n",
            "      (fc2): Linear(in_features=4096, out_features=1024, bias=True)\n",
            "      (final_layer_norm): LayerNorm((1024,), eps=1e-05, elementwise_affine=True)\n",
            "    )\n",
            "  )\n",
            "  (layernorm_embedding): LayerNorm((1024,), eps=1e-05, elementwise_affine=True)\n",
            "  (layer_norm): LayerNorm((1024,), eps=1e-05, elementwise_affine=True)\n",
            ")\n"
          ]
        }
      ]
    },
    {
      "cell_type": "code",
      "source": [
        "#Decoder\n",
        "print(model_pretrained.model.decoder)"
      ],
      "metadata": {
        "colab": {
          "base_uri": "https://localhost:8080/"
        },
        "id": "Q7ooSD5uYhR_",
        "outputId": "e2161bc5-0a0e-4c4c-b9e5-3bff0d61440d"
      },
      "execution_count": null,
      "outputs": [
        {
          "output_type": "stream",
          "name": "stdout",
          "text": [
            "MBartDecoder(\n",
            "  (embed_tokens): Embedding(250054, 1024, padding_idx=1)\n",
            "  (embed_positions): MBartLearnedPositionalEmbedding(1026, 1024)\n",
            "  (layers): ModuleList(\n",
            "    (0): MBartDecoderLayer(\n",
            "      (self_attn): MBartAttention(\n",
            "        (k_proj): Linear(in_features=1024, out_features=1024, bias=True)\n",
            "        (v_proj): Linear(in_features=1024, out_features=1024, bias=True)\n",
            "        (q_proj): Linear(in_features=1024, out_features=1024, bias=True)\n",
            "        (out_proj): Linear(in_features=1024, out_features=1024, bias=True)\n",
            "      )\n",
            "      (activation_fn): ReLU()\n",
            "      (self_attn_layer_norm): LayerNorm((1024,), eps=1e-05, elementwise_affine=True)\n",
            "      (encoder_attn): MBartAttention(\n",
            "        (k_proj): Linear(in_features=1024, out_features=1024, bias=True)\n",
            "        (v_proj): Linear(in_features=1024, out_features=1024, bias=True)\n",
            "        (q_proj): Linear(in_features=1024, out_features=1024, bias=True)\n",
            "        (out_proj): Linear(in_features=1024, out_features=1024, bias=True)\n",
            "      )\n",
            "      (encoder_attn_layer_norm): LayerNorm((1024,), eps=1e-05, elementwise_affine=True)\n",
            "      (fc1): Linear(in_features=1024, out_features=4096, bias=True)\n",
            "      (fc2): Linear(in_features=4096, out_features=1024, bias=True)\n",
            "      (final_layer_norm): LayerNorm((1024,), eps=1e-05, elementwise_affine=True)\n",
            "    )\n",
            "    (1): MBartDecoderLayer(\n",
            "      (self_attn): MBartAttention(\n",
            "        (k_proj): Linear(in_features=1024, out_features=1024, bias=True)\n",
            "        (v_proj): Linear(in_features=1024, out_features=1024, bias=True)\n",
            "        (q_proj): Linear(in_features=1024, out_features=1024, bias=True)\n",
            "        (out_proj): Linear(in_features=1024, out_features=1024, bias=True)\n",
            "      )\n",
            "      (activation_fn): ReLU()\n",
            "      (self_attn_layer_norm): LayerNorm((1024,), eps=1e-05, elementwise_affine=True)\n",
            "      (encoder_attn): MBartAttention(\n",
            "        (k_proj): Linear(in_features=1024, out_features=1024, bias=True)\n",
            "        (v_proj): Linear(in_features=1024, out_features=1024, bias=True)\n",
            "        (q_proj): Linear(in_features=1024, out_features=1024, bias=True)\n",
            "        (out_proj): Linear(in_features=1024, out_features=1024, bias=True)\n",
            "      )\n",
            "      (encoder_attn_layer_norm): LayerNorm((1024,), eps=1e-05, elementwise_affine=True)\n",
            "      (fc1): Linear(in_features=1024, out_features=4096, bias=True)\n",
            "      (fc2): Linear(in_features=4096, out_features=1024, bias=True)\n",
            "      (final_layer_norm): LayerNorm((1024,), eps=1e-05, elementwise_affine=True)\n",
            "    )\n",
            "    (2): MBartDecoderLayer(\n",
            "      (self_attn): MBartAttention(\n",
            "        (k_proj): Linear(in_features=1024, out_features=1024, bias=True)\n",
            "        (v_proj): Linear(in_features=1024, out_features=1024, bias=True)\n",
            "        (q_proj): Linear(in_features=1024, out_features=1024, bias=True)\n",
            "        (out_proj): Linear(in_features=1024, out_features=1024, bias=True)\n",
            "      )\n",
            "      (activation_fn): ReLU()\n",
            "      (self_attn_layer_norm): LayerNorm((1024,), eps=1e-05, elementwise_affine=True)\n",
            "      (encoder_attn): MBartAttention(\n",
            "        (k_proj): Linear(in_features=1024, out_features=1024, bias=True)\n",
            "        (v_proj): Linear(in_features=1024, out_features=1024, bias=True)\n",
            "        (q_proj): Linear(in_features=1024, out_features=1024, bias=True)\n",
            "        (out_proj): Linear(in_features=1024, out_features=1024, bias=True)\n",
            "      )\n",
            "      (encoder_attn_layer_norm): LayerNorm((1024,), eps=1e-05, elementwise_affine=True)\n",
            "      (fc1): Linear(in_features=1024, out_features=4096, bias=True)\n",
            "      (fc2): Linear(in_features=4096, out_features=1024, bias=True)\n",
            "      (final_layer_norm): LayerNorm((1024,), eps=1e-05, elementwise_affine=True)\n",
            "    )\n",
            "    (3): MBartDecoderLayer(\n",
            "      (self_attn): MBartAttention(\n",
            "        (k_proj): Linear(in_features=1024, out_features=1024, bias=True)\n",
            "        (v_proj): Linear(in_features=1024, out_features=1024, bias=True)\n",
            "        (q_proj): Linear(in_features=1024, out_features=1024, bias=True)\n",
            "        (out_proj): Linear(in_features=1024, out_features=1024, bias=True)\n",
            "      )\n",
            "      (activation_fn): ReLU()\n",
            "      (self_attn_layer_norm): LayerNorm((1024,), eps=1e-05, elementwise_affine=True)\n",
            "      (encoder_attn): MBartAttention(\n",
            "        (k_proj): Linear(in_features=1024, out_features=1024, bias=True)\n",
            "        (v_proj): Linear(in_features=1024, out_features=1024, bias=True)\n",
            "        (q_proj): Linear(in_features=1024, out_features=1024, bias=True)\n",
            "        (out_proj): Linear(in_features=1024, out_features=1024, bias=True)\n",
            "      )\n",
            "      (encoder_attn_layer_norm): LayerNorm((1024,), eps=1e-05, elementwise_affine=True)\n",
            "      (fc1): Linear(in_features=1024, out_features=4096, bias=True)\n",
            "      (fc2): Linear(in_features=4096, out_features=1024, bias=True)\n",
            "      (final_layer_norm): LayerNorm((1024,), eps=1e-05, elementwise_affine=True)\n",
            "    )\n",
            "    (4): MBartDecoderLayer(\n",
            "      (self_attn): MBartAttention(\n",
            "        (k_proj): Linear(in_features=1024, out_features=1024, bias=True)\n",
            "        (v_proj): Linear(in_features=1024, out_features=1024, bias=True)\n",
            "        (q_proj): Linear(in_features=1024, out_features=1024, bias=True)\n",
            "        (out_proj): Linear(in_features=1024, out_features=1024, bias=True)\n",
            "      )\n",
            "      (activation_fn): ReLU()\n",
            "      (self_attn_layer_norm): LayerNorm((1024,), eps=1e-05, elementwise_affine=True)\n",
            "      (encoder_attn): MBartAttention(\n",
            "        (k_proj): Linear(in_features=1024, out_features=1024, bias=True)\n",
            "        (v_proj): Linear(in_features=1024, out_features=1024, bias=True)\n",
            "        (q_proj): Linear(in_features=1024, out_features=1024, bias=True)\n",
            "        (out_proj): Linear(in_features=1024, out_features=1024, bias=True)\n",
            "      )\n",
            "      (encoder_attn_layer_norm): LayerNorm((1024,), eps=1e-05, elementwise_affine=True)\n",
            "      (fc1): Linear(in_features=1024, out_features=4096, bias=True)\n",
            "      (fc2): Linear(in_features=4096, out_features=1024, bias=True)\n",
            "      (final_layer_norm): LayerNorm((1024,), eps=1e-05, elementwise_affine=True)\n",
            "    )\n",
            "    (5): MBartDecoderLayer(\n",
            "      (self_attn): MBartAttention(\n",
            "        (k_proj): Linear(in_features=1024, out_features=1024, bias=True)\n",
            "        (v_proj): Linear(in_features=1024, out_features=1024, bias=True)\n",
            "        (q_proj): Linear(in_features=1024, out_features=1024, bias=True)\n",
            "        (out_proj): Linear(in_features=1024, out_features=1024, bias=True)\n",
            "      )\n",
            "      (activation_fn): ReLU()\n",
            "      (self_attn_layer_norm): LayerNorm((1024,), eps=1e-05, elementwise_affine=True)\n",
            "      (encoder_attn): MBartAttention(\n",
            "        (k_proj): Linear(in_features=1024, out_features=1024, bias=True)\n",
            "        (v_proj): Linear(in_features=1024, out_features=1024, bias=True)\n",
            "        (q_proj): Linear(in_features=1024, out_features=1024, bias=True)\n",
            "        (out_proj): Linear(in_features=1024, out_features=1024, bias=True)\n",
            "      )\n",
            "      (encoder_attn_layer_norm): LayerNorm((1024,), eps=1e-05, elementwise_affine=True)\n",
            "      (fc1): Linear(in_features=1024, out_features=4096, bias=True)\n",
            "      (fc2): Linear(in_features=4096, out_features=1024, bias=True)\n",
            "      (final_layer_norm): LayerNorm((1024,), eps=1e-05, elementwise_affine=True)\n",
            "    )\n",
            "    (6): MBartDecoderLayer(\n",
            "      (self_attn): MBartAttention(\n",
            "        (k_proj): Linear(in_features=1024, out_features=1024, bias=True)\n",
            "        (v_proj): Linear(in_features=1024, out_features=1024, bias=True)\n",
            "        (q_proj): Linear(in_features=1024, out_features=1024, bias=True)\n",
            "        (out_proj): Linear(in_features=1024, out_features=1024, bias=True)\n",
            "      )\n",
            "      (activation_fn): ReLU()\n",
            "      (self_attn_layer_norm): LayerNorm((1024,), eps=1e-05, elementwise_affine=True)\n",
            "      (encoder_attn): MBartAttention(\n",
            "        (k_proj): Linear(in_features=1024, out_features=1024, bias=True)\n",
            "        (v_proj): Linear(in_features=1024, out_features=1024, bias=True)\n",
            "        (q_proj): Linear(in_features=1024, out_features=1024, bias=True)\n",
            "        (out_proj): Linear(in_features=1024, out_features=1024, bias=True)\n",
            "      )\n",
            "      (encoder_attn_layer_norm): LayerNorm((1024,), eps=1e-05, elementwise_affine=True)\n",
            "      (fc1): Linear(in_features=1024, out_features=4096, bias=True)\n",
            "      (fc2): Linear(in_features=4096, out_features=1024, bias=True)\n",
            "      (final_layer_norm): LayerNorm((1024,), eps=1e-05, elementwise_affine=True)\n",
            "    )\n",
            "    (7): MBartDecoderLayer(\n",
            "      (self_attn): MBartAttention(\n",
            "        (k_proj): Linear(in_features=1024, out_features=1024, bias=True)\n",
            "        (v_proj): Linear(in_features=1024, out_features=1024, bias=True)\n",
            "        (q_proj): Linear(in_features=1024, out_features=1024, bias=True)\n",
            "        (out_proj): Linear(in_features=1024, out_features=1024, bias=True)\n",
            "      )\n",
            "      (activation_fn): ReLU()\n",
            "      (self_attn_layer_norm): LayerNorm((1024,), eps=1e-05, elementwise_affine=True)\n",
            "      (encoder_attn): MBartAttention(\n",
            "        (k_proj): Linear(in_features=1024, out_features=1024, bias=True)\n",
            "        (v_proj): Linear(in_features=1024, out_features=1024, bias=True)\n",
            "        (q_proj): Linear(in_features=1024, out_features=1024, bias=True)\n",
            "        (out_proj): Linear(in_features=1024, out_features=1024, bias=True)\n",
            "      )\n",
            "      (encoder_attn_layer_norm): LayerNorm((1024,), eps=1e-05, elementwise_affine=True)\n",
            "      (fc1): Linear(in_features=1024, out_features=4096, bias=True)\n",
            "      (fc2): Linear(in_features=4096, out_features=1024, bias=True)\n",
            "      (final_layer_norm): LayerNorm((1024,), eps=1e-05, elementwise_affine=True)\n",
            "    )\n",
            "    (8): MBartDecoderLayer(\n",
            "      (self_attn): MBartAttention(\n",
            "        (k_proj): Linear(in_features=1024, out_features=1024, bias=True)\n",
            "        (v_proj): Linear(in_features=1024, out_features=1024, bias=True)\n",
            "        (q_proj): Linear(in_features=1024, out_features=1024, bias=True)\n",
            "        (out_proj): Linear(in_features=1024, out_features=1024, bias=True)\n",
            "      )\n",
            "      (activation_fn): ReLU()\n",
            "      (self_attn_layer_norm): LayerNorm((1024,), eps=1e-05, elementwise_affine=True)\n",
            "      (encoder_attn): MBartAttention(\n",
            "        (k_proj): Linear(in_features=1024, out_features=1024, bias=True)\n",
            "        (v_proj): Linear(in_features=1024, out_features=1024, bias=True)\n",
            "        (q_proj): Linear(in_features=1024, out_features=1024, bias=True)\n",
            "        (out_proj): Linear(in_features=1024, out_features=1024, bias=True)\n",
            "      )\n",
            "      (encoder_attn_layer_norm): LayerNorm((1024,), eps=1e-05, elementwise_affine=True)\n",
            "      (fc1): Linear(in_features=1024, out_features=4096, bias=True)\n",
            "      (fc2): Linear(in_features=4096, out_features=1024, bias=True)\n",
            "      (final_layer_norm): LayerNorm((1024,), eps=1e-05, elementwise_affine=True)\n",
            "    )\n",
            "    (9): MBartDecoderLayer(\n",
            "      (self_attn): MBartAttention(\n",
            "        (k_proj): Linear(in_features=1024, out_features=1024, bias=True)\n",
            "        (v_proj): Linear(in_features=1024, out_features=1024, bias=True)\n",
            "        (q_proj): Linear(in_features=1024, out_features=1024, bias=True)\n",
            "        (out_proj): Linear(in_features=1024, out_features=1024, bias=True)\n",
            "      )\n",
            "      (activation_fn): ReLU()\n",
            "      (self_attn_layer_norm): LayerNorm((1024,), eps=1e-05, elementwise_affine=True)\n",
            "      (encoder_attn): MBartAttention(\n",
            "        (k_proj): Linear(in_features=1024, out_features=1024, bias=True)\n",
            "        (v_proj): Linear(in_features=1024, out_features=1024, bias=True)\n",
            "        (q_proj): Linear(in_features=1024, out_features=1024, bias=True)\n",
            "        (out_proj): Linear(in_features=1024, out_features=1024, bias=True)\n",
            "      )\n",
            "      (encoder_attn_layer_norm): LayerNorm((1024,), eps=1e-05, elementwise_affine=True)\n",
            "      (fc1): Linear(in_features=1024, out_features=4096, bias=True)\n",
            "      (fc2): Linear(in_features=4096, out_features=1024, bias=True)\n",
            "      (final_layer_norm): LayerNorm((1024,), eps=1e-05, elementwise_affine=True)\n",
            "    )\n",
            "    (10): MBartDecoderLayer(\n",
            "      (self_attn): MBartAttention(\n",
            "        (k_proj): Linear(in_features=1024, out_features=1024, bias=True)\n",
            "        (v_proj): Linear(in_features=1024, out_features=1024, bias=True)\n",
            "        (q_proj): Linear(in_features=1024, out_features=1024, bias=True)\n",
            "        (out_proj): Linear(in_features=1024, out_features=1024, bias=True)\n",
            "      )\n",
            "      (activation_fn): ReLU()\n",
            "      (self_attn_layer_norm): LayerNorm((1024,), eps=1e-05, elementwise_affine=True)\n",
            "      (encoder_attn): MBartAttention(\n",
            "        (k_proj): Linear(in_features=1024, out_features=1024, bias=True)\n",
            "        (v_proj): Linear(in_features=1024, out_features=1024, bias=True)\n",
            "        (q_proj): Linear(in_features=1024, out_features=1024, bias=True)\n",
            "        (out_proj): Linear(in_features=1024, out_features=1024, bias=True)\n",
            "      )\n",
            "      (encoder_attn_layer_norm): LayerNorm((1024,), eps=1e-05, elementwise_affine=True)\n",
            "      (fc1): Linear(in_features=1024, out_features=4096, bias=True)\n",
            "      (fc2): Linear(in_features=4096, out_features=1024, bias=True)\n",
            "      (final_layer_norm): LayerNorm((1024,), eps=1e-05, elementwise_affine=True)\n",
            "    )\n",
            "    (11): MBartDecoderLayer(\n",
            "      (self_attn): MBartAttention(\n",
            "        (k_proj): Linear(in_features=1024, out_features=1024, bias=True)\n",
            "        (v_proj): Linear(in_features=1024, out_features=1024, bias=True)\n",
            "        (q_proj): Linear(in_features=1024, out_features=1024, bias=True)\n",
            "        (out_proj): Linear(in_features=1024, out_features=1024, bias=True)\n",
            "      )\n",
            "      (activation_fn): ReLU()\n",
            "      (self_attn_layer_norm): LayerNorm((1024,), eps=1e-05, elementwise_affine=True)\n",
            "      (encoder_attn): MBartAttention(\n",
            "        (k_proj): Linear(in_features=1024, out_features=1024, bias=True)\n",
            "        (v_proj): Linear(in_features=1024, out_features=1024, bias=True)\n",
            "        (q_proj): Linear(in_features=1024, out_features=1024, bias=True)\n",
            "        (out_proj): Linear(in_features=1024, out_features=1024, bias=True)\n",
            "      )\n",
            "      (encoder_attn_layer_norm): LayerNorm((1024,), eps=1e-05, elementwise_affine=True)\n",
            "      (fc1): Linear(in_features=1024, out_features=4096, bias=True)\n",
            "      (fc2): Linear(in_features=4096, out_features=1024, bias=True)\n",
            "      (final_layer_norm): LayerNorm((1024,), eps=1e-05, elementwise_affine=True)\n",
            "    )\n",
            "  )\n",
            "  (layernorm_embedding): LayerNorm((1024,), eps=1e-05, elementwise_affine=True)\n",
            "  (layer_norm): LayerNorm((1024,), eps=1e-05, elementwise_affine=True)\n",
            ")\n"
          ]
        }
      ]
    },
    {
      "cell_type": "code",
      "metadata": {
        "id": "0cFxSqST3PVz",
        "colab": {
          "base_uri": "https://localhost:8080/",
          "height": 113,
          "referenced_widgets": [
            "ed5672f6f38d4971ba1b9c5355587f02",
            "a81502f146dd42af908b1a6d497fb4c4",
            "d3b572f172a54128a23216cfa59a52ec",
            "5d034dae990b48a69e39548398907b4a",
            "1bf0b800637c47588b08cb610f9f4eda",
            "1d4132c7b4104cf3b73960a01d5b0756",
            "9c38d7b95d694217b0b367d22fa0c157",
            "352e875bab1e4654823ab582f9cc93d3",
            "d91ce9177a714f57bf0a9b81705beb51",
            "1f2340e5021449e0856799432501ddaf",
            "0b16242902c24e48901cb6b18af6e461",
            "5a13c5c66a78493880ca2e2c42fc6e17",
            "a1f09749c7ec4b0583436ea5fd56ddd3",
            "40cfea713095416c8adc0c93ff859077",
            "a8acc574f46f4f52938fb4b078561a60",
            "fcd5902a0acf46288d7a13b4ab2632e3",
            "32c6722d745945e3b6367a5343afcd0c",
            "cf79fbe6802b4b85828ed0676d9da34e",
            "47ec141ccbf14273a3c1a95464a093f8",
            "c10686a323de4e01ad5ffac0a0e5177f",
            "790dc86b90b343feb4138c83a8b3c8d7",
            "ab53ab30599b4211962f9ff2e8bc8443",
            "06c6a6900dce4d09a89501ba63f0dfa2",
            "0ae15064ac3e4d1db87677b47fcb7de9",
            "a3f7e383eb2a4a2498ec182eb2214daf",
            "6373250a654a485e978427af5d039587",
            "9e162068c1b04d90bf63f71719a8a3d6",
            "f25dd7f4332b4486b8f0ef73d51cf54e",
            "8c0dceff862b4fd1b6d6574e8fb0aa84",
            "58fc6e3611d042f08b0195600a2170fe",
            "e52213029c3a48e78dc85976edc61034",
            "9bf3d77df9e749f1843a4cf4bc82dfea",
            "00584374a5fb4d47a5924244954e269e"
          ]
        },
        "outputId": "c140814a-0b37-4c97-bcfa-19da11ede69c"
      },
      "source": [
        "tokenizer = MBart50TokenizerFast.from_pretrained(\"facebook/mbart-large-50-one-to-many-mmt\", src_lang=\"en_XX\")"
      ],
      "execution_count": null,
      "outputs": [
        {
          "output_type": "display_data",
          "data": {
            "text/plain": [
              "Downloading:   0%|          | 0.00/528 [00:00<?, ?B/s]"
            ],
            "application/vnd.jupyter.widget-view+json": {
              "version_major": 2,
              "version_minor": 0,
              "model_id": "ed5672f6f38d4971ba1b9c5355587f02"
            }
          },
          "metadata": {}
        },
        {
          "output_type": "display_data",
          "data": {
            "text/plain": [
              "Downloading:   0%|          | 0.00/4.83M [00:00<?, ?B/s]"
            ],
            "application/vnd.jupyter.widget-view+json": {
              "version_major": 2,
              "version_minor": 0,
              "model_id": "5a13c5c66a78493880ca2e2c42fc6e17"
            }
          },
          "metadata": {}
        },
        {
          "output_type": "display_data",
          "data": {
            "text/plain": [
              "Downloading:   0%|          | 0.00/717 [00:00<?, ?B/s]"
            ],
            "application/vnd.jupyter.widget-view+json": {
              "version_major": 2,
              "version_minor": 0,
              "model_id": "06c6a6900dce4d09a89501ba63f0dfa2"
            }
          },
          "metadata": {}
        }
      ]
    },
    {
      "cell_type": "code",
      "metadata": {
        "colab": {
          "base_uri": "https://localhost:8080/",
          "height": 35
        },
        "outputId": "fae43f1c-c4c6-407a-9548-e73c29b8207c",
        "id": "14BzlJUJR3Uk"
      },
      "source": [
        "article_en = en_text[2]\n",
        "article_en"
      ],
      "execution_count": null,
      "outputs": [
        {
          "output_type": "execute_result",
          "data": {
            "text/plain": [
              "'The Congress leader represents Sivaganga Lok Sabha segment from Tamil Nadu.'"
            ],
            "application/vnd.google.colaboratory.intrinsic+json": {
              "type": "string"
            }
          },
          "metadata": {},
          "execution_count": 29
        }
      ]
    },
    {
      "cell_type": "code",
      "metadata": {
        "id": "PWEXhKBBR3Ul"
      },
      "source": [
        "model_inputs = tokenizer(article_en, return_tensors=\"pt\")\n",
        "#model_inputs =model_inputs.to(device)"
      ],
      "execution_count": null,
      "outputs": []
    },
    {
      "cell_type": "code",
      "metadata": {
        "id": "A4ZUn9ZeR3Ul"
      },
      "source": [
        "# translate from English to Hindi\n",
        "generated_tokens = model_pretrained.generate(\n",
        "    **model_inputs,\n",
        "    forced_bos_token_id=tokenizer.lang_code_to_id[\"hi_IN\"]\n",
        ")\n"
      ],
      "execution_count": null,
      "outputs": []
    },
    {
      "cell_type": "code",
      "metadata": {
        "id": "EcmDz_JTR3Ul"
      },
      "source": [
        "translation = tokenizer.batch_decode(generated_tokens, skip_special_tokens=True)"
      ],
      "execution_count": null,
      "outputs": []
    },
    {
      "cell_type": "code",
      "metadata": {
        "colab": {
          "base_uri": "https://localhost:8080/"
        },
        "outputId": "5cee3c76-fd86-4213-947f-dcddf19aac3f",
        "id": "iWzWk9dlR3Ul"
      },
      "source": [
        "print(\"Translated:\",translation)\n",
        "print(\"Actual:\",hi_text[2])"
      ],
      "execution_count": null,
      "outputs": [
        {
          "output_type": "stream",
          "name": "stdout",
          "text": [
            "Translated: ['कांग्रेस नेता तमिलनाडु से शिवगंगा लोक सभा का प्रतिनिधित्व करते हैं।']\n",
            "Actual: कांग्रेस नेता तमिलनाडु से शिवगंगा लोकसभा क्षेत्र का प्रतिनिधित्व करते हैं.\n"
          ]
        }
      ]
    },
    {
      "cell_type": "markdown",
      "source": [
        "# Training the model on our dataset"
      ],
      "metadata": {
        "id": "ZP_SCB1nGO__"
      }
    },
    {
      "cell_type": "code",
      "source": [
        "model1 = MBartForConditionalGeneration.from_pretrained(\"facebook/mbart-large-50-one-to-many-mmt\")\n",
        "tokenizer1 = MBart50TokenizerFast.from_pretrained(\"facebook/mbart-large-50-one-to-many-mmt\", src_lang=\"en_XX\", tgt_lang=\"hi_IN\")"
      ],
      "metadata": {
        "id": "rIgZNC9dJUNl"
      },
      "execution_count": null,
      "outputs": []
    },
    {
      "cell_type": "markdown",
      "source": [
        "Trained the model on first 200000 data points and stored the pretrained model for Inferencing."
      ],
      "metadata": {
        "id": "idceEw8sFqos"
      }
    },
    {
      "cell_type": "code",
      "source": [
        "#for i in range(len(trainData)):\n",
        "file_english = \"/content/drive/MyDrive/My Documents/NLU/Project/dataset_for_nlu_project/en-hi/train.en\"\n",
        "file_bengali = \"/content/drive/MyDrive/My Documents/NLU/Project/dataset_for_nlu_project/en-hi/train.hi\"\n",
        "\n",
        "count=0\n",
        "with open(file_english,\"r\") as f1, open(file_bengali,\"r\") as f2:\n",
        "  for x, y in zip(f1, f2):\n",
        "     english_text = x.rstrip()\n",
        "     #print(english_text)\n",
        "     hindi_text = y.rstrip()\n",
        "     #print(hindi_text)\n",
        "     count=count+1\n",
        "     model_inputs1 = tokenizer1(english_text, return_tensors=\"pt\") #source text\n",
        "     #model_inputs1 = model_inputs1.to(device)\n",
        "     with tokenizer1.as_target_tokenizer():\n",
        "        labels1 = tokenizer1(hindi_text, return_tensors=\"pt\").input_ids\n",
        "        #labels1 = labels1.to(device)\n",
        "     model1(**model_inputs1, labels=labels1)  # forward pass\n",
        "     if count==200000:\n",
        "        print(\"Training done\")\n",
        "        print(model1(**model_inputs1, labels=labels1))\n",
        "        model1.save_pretrained('/content/drive/MyDrive/My Documents/NLU/Project/model')\n",
        "        break"
      ],
      "metadata": {
        "colab": {
          "base_uri": "https://localhost:8080/"
        },
        "id": "TM5KbX0g8Qv5",
        "outputId": "f3320c83-b3fc-4c77-b54d-6f5fb517074a"
      },
      "execution_count": null,
      "outputs": [
        {
          "output_type": "stream",
          "name": "stdout",
          "text": [
            "Training done\n",
            "Seq2SeqLMOutput(loss=tensor(2.5830, grad_fn=<NllLossBackward0>), logits=tensor([[[ -4.6119,  -4.7208,  -1.5650,  ...,  -1.5015,   0.1512,  -4.7445],\n",
            "         [ -0.4310,  -0.6983,   3.5653,  ...,  -3.4063,  -6.2601,  -0.6753],\n",
            "         [ -0.4609,  -0.5986,   2.5359,  ...,  -6.7224,  -3.8602,  -0.5375],\n",
            "         ...,\n",
            "         [ -0.6985,  -0.6922,   5.7594,  ..., -11.1668,  -5.6468,  -0.6232],\n",
            "         [ -0.2052,  -0.1881,   9.5906,  ...,  -6.3953,  -3.1415,  -0.1763],\n",
            "         [  0.0754,   0.1942,  14.8099,  ...,  -1.4596,  -1.2649,   0.2265]]],\n",
            "       grad_fn=<AddBackward0>), past_key_values=None, decoder_hidden_states=None, decoder_attentions=None, cross_attentions=None, encoder_last_hidden_state=tensor([[[ 9.3228e-03,  2.9559e-03, -3.9491e-03,  ..., -1.5571e-03,\n",
            "           1.8298e-03, -5.0697e-03],\n",
            "         [ 1.2484e-01,  2.7186e-01,  1.7740e-01,  ..., -2.4486e-01,\n",
            "           3.1062e-02, -2.8129e-01],\n",
            "         [ 8.8983e-03, -3.7159e-01,  9.7730e-02,  ..., -9.4952e-01,\n",
            "          -1.4358e-01,  6.6295e-02],\n",
            "         ...,\n",
            "         [-1.5388e-01,  1.7418e-01, -3.0293e-01,  ...,  6.5735e-01,\n",
            "          -3.9250e-01,  6.8943e-01],\n",
            "         [-2.4942e-02,  1.8474e-01,  2.8446e-01,  ..., -3.4610e-01,\n",
            "           3.5915e-01, -2.5468e-01],\n",
            "         [ 1.0554e-02,  3.9218e-03,  1.3171e-02,  ..., -6.1014e-04,\n",
            "           3.6570e-03,  6.4710e-03]]], grad_fn=<NativeLayerNormBackward0>), encoder_hidden_states=None, encoder_attentions=None)\n"
          ]
        }
      ]
    },
    {
      "cell_type": "markdown",
      "source": [
        "#Testing"
      ],
      "metadata": {
        "id": "CklhdIuAqrie"
      }
    },
    {
      "cell_type": "markdown",
      "source": [
        "Accessed the trained model and used that for the langugae translation. Evaluation metric which is used for checking the performance is BLUE Score."
      ],
      "metadata": {
        "id": "nVAnGrr2F56y"
      }
    },
    {
      "cell_type": "code",
      "source": [
        "path = \"/content/drive/MyDrive/My Documents/NLU/Project/model\"\n",
        "model_trained= MBartForConditionalGeneration.from_pretrained(path)"
      ],
      "metadata": {
        "id": "Sd1tL0JhO6Ge",
        "colab": {
          "base_uri": "https://localhost:8080/"
        },
        "outputId": "20ed7252-a5d2-458d-cb4a-db234ee51064"
      },
      "execution_count": null,
      "outputs": [
        {
          "output_type": "stream",
          "name": "stdout",
          "text": [
            "\n"
          ]
        }
      ]
    },
    {
      "cell_type": "code",
      "source": [
        "model_trained.config"
      ],
      "metadata": {
        "colab": {
          "base_uri": "https://localhost:8080/"
        },
        "id": "yV_RxlKtp-v9",
        "outputId": "2e25c6c6-8a63-4daa-eb2e-4ca71cc8076d"
      },
      "execution_count": null,
      "outputs": [
        {
          "output_type": "execute_result",
          "data": {
            "text/plain": [
              "MBartConfig {\n",
              "  \"_name_or_path\": \"/content/drive/MyDrive/My Documents/NLU/Project/model\",\n",
              "  \"_num_labels\": 3,\n",
              "  \"activation_dropout\": 0.0,\n",
              "  \"activation_function\": \"relu\",\n",
              "  \"add_bias_logits\": false,\n",
              "  \"add_final_layer_norm\": true,\n",
              "  \"architectures\": [\n",
              "    \"MBartForConditionalGeneration\"\n",
              "  ],\n",
              "  \"attention_dropout\": 0.0,\n",
              "  \"bos_token_id\": 0,\n",
              "  \"classif_dropout\": 0.0,\n",
              "  \"classifier_dropout\": 0.0,\n",
              "  \"d_model\": 1024,\n",
              "  \"decoder_attention_heads\": 16,\n",
              "  \"decoder_ffn_dim\": 4096,\n",
              "  \"decoder_layerdrop\": 0.0,\n",
              "  \"decoder_layers\": 12,\n",
              "  \"decoder_start_token_id\": 2,\n",
              "  \"dropout\": 0.1,\n",
              "  \"early_stopping\": true,\n",
              "  \"encoder_attention_heads\": 16,\n",
              "  \"encoder_ffn_dim\": 4096,\n",
              "  \"encoder_layerdrop\": 0.0,\n",
              "  \"encoder_layers\": 12,\n",
              "  \"eos_token_id\": 2,\n",
              "  \"forced_eos_token_id\": 2,\n",
              "  \"gradient_checkpointing\": false,\n",
              "  \"id2label\": {\n",
              "    \"0\": \"LABEL_0\",\n",
              "    \"1\": \"LABEL_1\",\n",
              "    \"2\": \"LABEL_2\"\n",
              "  },\n",
              "  \"init_std\": 0.02,\n",
              "  \"is_encoder_decoder\": true,\n",
              "  \"label2id\": {\n",
              "    \"LABEL_0\": 0,\n",
              "    \"LABEL_1\": 1,\n",
              "    \"LABEL_2\": 2\n",
              "  },\n",
              "  \"max_length\": 200,\n",
              "  \"max_position_embeddings\": 1024,\n",
              "  \"model_type\": \"mbart\",\n",
              "  \"normalize_before\": true,\n",
              "  \"normalize_embedding\": true,\n",
              "  \"num_beams\": 5,\n",
              "  \"num_hidden_layers\": 12,\n",
              "  \"output_past\": true,\n",
              "  \"pad_token_id\": 1,\n",
              "  \"scale_embedding\": true,\n",
              "  \"static_position_embeddings\": false,\n",
              "  \"tokenizer_class\": \"MBart50Tokenizer\",\n",
              "  \"torch_dtype\": \"float32\",\n",
              "  \"transformers_version\": \"4.18.0\",\n",
              "  \"use_cache\": true,\n",
              "  \"vocab_size\": 250054\n",
              "}"
            ]
          },
          "metadata": {},
          "execution_count": 9
        }
      ]
    },
    {
      "cell_type": "code",
      "source": [
        "#model_trained.get_encoder"
      ],
      "metadata": {
        "id": "-tCxjZepp-9l"
      },
      "execution_count": null,
      "outputs": []
    },
    {
      "cell_type": "code",
      "source": [
        "#model_trained.get_decoder"
      ],
      "metadata": {
        "id": "21a4oinkqczs"
      },
      "execution_count": null,
      "outputs": []
    },
    {
      "cell_type": "markdown",
      "source": [
        "#BLEU (Bilingual Evaluation Understudy Score) Score"
      ],
      "metadata": {
        "id": "nd181Q-cTrWD"
      }
    },
    {
      "cell_type": "code",
      "source": [
        "def BLEU_calculation(test,predicted):\n",
        "  reference_translation=test.split()\n",
        "  candidate_translation_1=predicted.split()\n",
        "  print(\"BLEU Score: \",bleu.sentence_bleu(reference_translation, candidate_translation_1))"
      ],
      "metadata": {
        "id": "7DrnD5L_Trp1"
      },
      "execution_count": null,
      "outputs": []
    },
    {
      "cell_type": "markdown",
      "source": [
        "#ROUGE (Recall Oriented Understudy for Gisting Evaluation) Score"
      ],
      "metadata": {
        "id": "z_XyuhtctCAg"
      }
    },
    {
      "cell_type": "code",
      "source": [
        "#Split Sentence into Words\n",
        "def sentence_split_into_words(sent):\n",
        "  return list(itertools.chain(*[_.split(\" \") for _ in sent]))\n",
        "\n",
        "#Used to  n-grams for multiple sentences\n",
        "def get_word_ngrams(n, sent_s):\n",
        "\n",
        "  assert len(sent_s) > 0\n",
        "  assert n > 0\n",
        "  w = sentence_split_into_words(sent_s)\n",
        "  return get_ngrams(n, w)\n",
        "\n",
        "\n",
        "#Calcualtes n-grams where n: which n-grams to calculate\n",
        "def get_ngrams(n, text):\n",
        "  ngram_set = set()\n",
        "  text_len = len(text)\n",
        "  max_index_ngram_start = text_len - n\n",
        "  for k in range(max_index_ngram_start + 1):\n",
        "    ngram_set.add(tuple(text[k:k + n]))\n",
        "  return ngram_set\n",
        "\n",
        "#Calculate ROUGE Score of Refrence and Evaluated Sentences,  n: Size of ngram\n",
        "def rouge_n(reference_sentences, evaluated_sentences, n=2):\n",
        "  if len(evaluated_sentences) <= 0 or len(reference_sentences) <= 0:\n",
        "    raise ValueError(\"No word in the sentence\")\n",
        "\n",
        "  eval_ngrams = get_word_ngrams(n, evaluated_sentences)\n",
        "  ref_ngrams = get_word_ngrams(n, reference_sentences)\n",
        "  reference_count = len(ref_ngrams)\n",
        "  eval_count = len(eval_ngrams)\n",
        "\n",
        "  # Gets the overlapping ngrams between evaluated and reference\n",
        "  overlap_count = len(eval_ngrams.intersection(ref_ngrams))\n",
        "\n",
        "  if eval_count == 0:\n",
        "    precision = 0.0\n",
        "  else:\n",
        "    precision = overlap_count / eval_count\n",
        "\n",
        "  if reference_count == 0:\n",
        "    recall = 0.0\n",
        "  else:\n",
        "    recall = overlap_count / reference_count\n",
        "\n",
        "  f1_score = 2.0 * ((precision * recall) / (precision + recall + 1e-8))\n",
        "\n",
        "  return recall\n"
      ],
      "metadata": {
        "id": "RbEDNjDGt09M"
      },
      "execution_count": null,
      "outputs": []
    },
    {
      "cell_type": "markdown",
      "source": [
        "#First testing for 10 test data"
      ],
      "metadata": {
        "id": "3cw9dLXnMg0l"
      }
    },
    {
      "cell_type": "code",
      "source": [
        "testData1 = testData[:10]\n",
        "predicted_trans = []\n",
        "blue_score =[]\n",
        "rogue_score = []\n",
        "#meteor_score = []\n",
        "m_score =[]\n",
        "for i in range(len(testData1)):\n",
        "  text = testData1[i]\n",
        "  model2_inputs = tokenizer(text, return_tensors=\"pt\")\n",
        "  #model2_inputs = model2_inputs.to(device)\n",
        "  generated_tokens2 = model_trained.generate(**model2_inputs,forced_bos_token_id=tokenizer.lang_code_to_id[\"hi_IN\"])\n",
        "  translation = tokenizer.batch_decode(generated_tokens2, skip_special_tokens=True)\n",
        "  reference_translation=testLabel[i]\n",
        "  candidate_translation_1=translation[0]\n",
        "\n",
        "  #METEOR Score\n",
        "  ms = round(meteor_score([word_tokenize(reference_translation)],word_tokenize(candidate_translation_1)), 3)\n",
        "  m_score.append(ms)\n",
        "\n",
        " #BLEU Score\n",
        "  bs = bleu.sentence_bleu(reference_translation, candidate_translation_1)\n",
        "  blue_score.append(bs)\n",
        "\n",
        " #ROUGE Score\n",
        "  rs = rouge_n(reference_translation,candidate_translation_1)\n",
        "  rogue_score.append(rs)\n",
        "\n",
        "  predicted_trans.append(translation[0])\n",
        "\n",
        "  if (i% 2 == 0):\n",
        "    print(testData[i])\n",
        "    print(\"Hindi Predicted Translation: \", translation[0])\n",
        "    print(\"Ground Truth: \", testLabel[i])\n",
        "    print(\"BLEU Score: \",bs)\n",
        "    print(\"ROUGE Score:\",rs)\n",
        "    print(\"METEOR Score:\",ms)\n",
        "    print()\n",
        "    print(\"*************************************************************************\")\n",
        "    print()"
      ],
      "metadata": {
        "colab": {
          "base_uri": "https://localhost:8080/"
        },
        "id": "eGotN4pEt6cw",
        "outputId": "adac8358-e1f8-4444-ea4e-1bc2679fe3f9"
      },
      "execution_count": null,
      "outputs": [
        {
          "output_type": "stream",
          "name": "stdout",
          "text": [
            "This reflects the fact that in many programming languages these are the characters that may be used in identifiers.\n",
            "Hindi Predicted Translation:  यह इस तथ्य को प्रतिबिंबित करता है कि कई प्रोग्रामिंग भाषाओं में ये वे अक्षर हैं जिन्हें पहचानकर्ताओं में प्रयोग किया जा सकता है।\n",
            "Ground Truth:  यह इस तथ्य को उद्भासित करता है कि कई प्रोग्रामिंग भाषाओँ में ये ही वे अक्षर हैं जिनका प्रयोग पहचान चिह्न के रूप में किया जा सकता है।\n",
            "BLEU Score:  0.6899172552679737\n",
            "ROUGE Score: 0.7777777777777778\n",
            "METEOR Score: 0.709\n",
            "\n",
            "*************************************************************************\n",
            "\n",
            "Lance nematode parasitize many types of plants.\n",
            "Hindi Predicted Translation:  लांस सूत्रकृमि अनेक प्रकार के पौधों को परजीवी बनाती है.\n",
            "Ground Truth:  बल्लमनुमा सूत्रकृमी अनेक प्रकार के पादपों में पराश्रयी होते हैं\n",
            "BLEU Score:  0.7860753021519787\n",
            "ROUGE Score: 0.5185185185185185\n",
            "METEOR Score: 0.292\n",
            "\n",
            "*************************************************************************\n",
            "\n",
            "All devotees of the mutt have backed Sharief to be made pontiff.\n",
            "Hindi Predicted Translation:  मुट के सभी भक्तों ने शरीफ को पोन्टिफ़ बनाने के लिए समर्थन दिया है।\n",
            "Ground Truth:  ” उन्होंने कहा, “मठ के सभी भक्तों ने शरीफ को पुजारी बनाने का समर्थन किया है।\n",
            "BLEU Score:  0.7845109654406773\n",
            "ROUGE Score: 0.6774193548387096\n",
            "METEOR Score: 0.468\n",
            "\n",
            "*************************************************************************\n",
            "\n",
            "India imports 40 percent of its pulses and 25 percent of its potash requirements from Canada.\n",
            "Hindi Predicted Translation:  भारत कनाडा से 40 प्रतिशत दालों और 25 प्रतिशत पोटाश की आवश्यकताओं का आयात करता है।\n",
            "Ground Truth:  भारत 40 प्रतिशत दलहन और 25 प्रतिशत पोटाश की आवश्‍यकता कनाडा से आयात करके पूरी करता है।\n",
            "BLEU Score:  0.7801157731069053\n",
            "ROUGE Score: 0.8225806451612904\n",
            "METEOR Score: 0.731\n",
            "\n",
            "*************************************************************************\n",
            "\n",
            "Had it gone the other way he would have died.\n",
            "Hindi Predicted Translation:  अगर यह दूसरी तरफ होता तो वह मर जाता।\n",
            "Ground Truth:  यदि उसे किसी अन्य मानव से जोड़ा जाता तो वह क्ले जैसे रूप में बदल जाता था।\n",
            "BLEU Score:  0.816496580927726\n",
            "ROUGE Score: 0.25862068965517243\n",
            "METEOR Score: 0.116\n",
            "\n",
            "*************************************************************************\n",
            "\n"
          ]
        }
      ]
    },
    {
      "cell_type": "markdown",
      "source": [
        "#Testing the data for first 200 test data and calculating different Evaluation Scores"
      ],
      "metadata": {
        "id": "dPIffnXAGPF4"
      }
    },
    {
      "cell_type": "code",
      "source": [
        "testData = testData[:200]\n",
        "predicted_trans = []\n",
        "blue_score =[]\n",
        "rogue_score = []\n",
        "#meteor_score = []\n",
        "m_score =[]\n",
        "for i in range(len(testData)):\n",
        "  text = testData[i]\n",
        "  model2_inputs = tokenizer(text, return_tensors=\"pt\")\n",
        "  #model2_inputs = model2_inputs.to(device)\n",
        "  generated_tokens2 = model_trained.generate(**model2_inputs,forced_bos_token_id=tokenizer.lang_code_to_id[\"hi_IN\"])\n",
        "  translation = tokenizer.batch_decode(generated_tokens2, skip_special_tokens=True)\n",
        "  reference_translation=testLabel[i]\n",
        "  candidate_translation_1=translation[0]\n",
        "\n",
        "  #METEOR Score\n",
        "  ms = round(meteor_score([word_tokenize(reference_translation)],word_tokenize(candidate_translation_1)), 3)\n",
        "  m_score.append(ms)\n",
        "\n",
        " #BLEU Score\n",
        "  bs = bleu.sentence_bleu(reference_translation, candidate_translation_1)\n",
        "  blue_score.append(bs)\n",
        "\n",
        " #ROUGE Score\n",
        "  rs = rouge_n(reference_translation,candidate_translation_1)\n",
        "  rogue_score.append(rs)\n",
        "\n",
        "  predicted_trans.append(translation[0])\n",
        "\n",
        "  if (i% 20 == 0):\n",
        "    print(testData[i])\n",
        "    print(\"Hindi Predicted Translation: \", translation[0])\n",
        "    print(\"Ground Truth: \", testLabel[i])\n",
        "    print(\"BLEU Score: \",bs)\n",
        "    print(\"ROUGE Score:\",rs)\n",
        "    print(\"METEOR Score:\",ms)\n",
        "    print()\n",
        "    print(\"*************************************************************************\")\n",
        "    print()"
      ],
      "metadata": {
        "id": "BfeMSLzpqr2w",
        "colab": {
          "base_uri": "https://localhost:8080/"
        },
        "outputId": "7ba8b77b-27eb-4264-b1b7-e07302168dc4"
      },
      "execution_count": null,
      "outputs": [
        {
          "output_type": "stream",
          "name": "stdout",
          "text": [
            "This reflects the fact that in many programming languages these are the characters that may be used in identifiers.\n",
            "Hindi Predicted Translation:  यह इस तथ्य को प्रतिबिंबित करता है कि कई प्रोग्रामिंग भाषाओं में ये वे अक्षर हैं जिन्हें पहचानकर्ताओं में प्रयोग किया जा सकता है।\n",
            "Ground Truth:  यह इस तथ्य को उद्भासित करता है कि कई प्रोग्रामिंग भाषाओँ में ये ही वे अक्षर हैं जिनका प्रयोग पहचान चिह्न के रूप में किया जा सकता है।\n",
            "BLEU Score:  0.6899172552679737\n",
            "ROUGE Score: 0.7777777777777778\n",
            "METEOR Score: 0.709\n",
            "\n",
            "*************************************************************************\n",
            "\n",
            "Copyright 2006 - 2012 Red Hat, Inc.\n",
            "Hindi Predicted Translation:  कॉपीराइट 2006-2012 रेड हैट, इंक\n",
            "Ground Truth:  कॉपीराइट © 2006-2012 Red Hat, Inc.\n",
            "BLEU Score:  0.8340313804889192\n",
            "ROUGE Score: 0.5757575757575758\n",
            "METEOR Score: 0.192\n",
            "\n",
            "*************************************************************************\n",
            "\n",
            "As a follow up of the decision taken in April, 2018 by the Prime Ministers of India and Nepal to introduce inland waterways connectivity between the two countries, Technical Scoping Missions have visited each others facilities and discussions have been held at Kathmandu and Kolkata in May and September 2018, respectively\n",
            "Hindi Predicted Translation:  भारत और नेपाल के प्रधानमंत्री द्वारा अप्रैल, 2018 में दोनों देशों के बीच अंतर्देशीय जलमार्गों को जोड़ने के लिए किए गए निर्णय के अनुवर्ती रूप में, तकनीकी विस्तार मिशनों ने एक दूसरे की सुविधाओं की यात्रा की है और क्रमशः मई और सितंबर, 2018 में काठमांडु और कोलकाता में विचार-विमर्श किया गया है।\n",
            "Ground Truth:  भारत और नेपाल दोनों देशों के प्रधानमंत्रियों द्वारा अप्रैल, 2018  को लिए गए फैसले के क्रम में दोनों देशों के बीच अंतर्देशीय जल मार्ग संपर्क पेश किया गया, दोनों देशों के टेक्निकल स्कोपिंग मिशनों ने एक-दूसरे के यहां सुविधाओं का जायजा लेने और विचार विमर्श के लिए क्रमशः मई, 2018 और सितंबर, 2018 में काठमांडू और कोलकाता का दौरा किया\n",
            "BLEU Score:  0.6241136334739701\n",
            "ROUGE Score: 0.7647058823529411\n",
            "METEOR Score: 0.475\n",
            "\n",
            "*************************************************************************\n",
            "\n",
            "The film will have Aamir Khan playing the titular role.\n",
            "Hindi Predicted Translation:  इस फिल्म में अमीर खान का शीर्षक भूमिका निभाया जाएगा।\n",
            "Ground Truth:  फिल्म में आमिर खान मुख्य भूमिका निभा रहे हैं।\n",
            "BLEU Score:  0.7561559858236034\n",
            "ROUGE Score: 0.6190476190476191\n",
            "METEOR Score: 0.347\n",
            "\n",
            "*************************************************************************\n",
            "\n",
            "the Karnataka Administrative Services\n",
            "Hindi Predicted Translation:  कर्नाटक प्रशासनिक सेवा\n",
            "Ground Truth:  कर्नाटक प्रशासनिक सेवा\n",
            "BLEU Score:  0.8767588692370368\n",
            "ROUGE Score: 1.0\n",
            "METEOR Score: 0.981\n",
            "\n",
            "*************************************************************************\n",
            "\n",
            "This resulted in on the spot death of three persons.\n",
            "Hindi Predicted Translation:  इससे तीन व्यक्तियों की तत्काल मृत्यु हुई।\n",
            "Ground Truth:  इससे तीनों की मौके पर ही मौत हो गई।\n",
            "BLEU Score:  0.7644270467420534\n",
            "ROUGE Score: 0.5333333333333333\n",
            "METEOR Score: 0.114\n",
            "\n",
            "*************************************************************************\n",
            "\n",
            "This Annual Athletic Meet gave the students an opportunity to prove their sporting abilities and win laurels.\n",
            "Hindi Predicted Translation:  इस वार्षिक एथलेटिक्स मीट ने विद्यार्थियों को अपने खेल-कूद की क्षमता को सिद्ध करने और लारल जीतने का अवसर दिया।\n",
            "Ground Truth:  इस वार्षिक खेल आयोजन ने छात्रों को अपनी खेल प्रतिभाओं को प्रदर्शित करने और पुरस्कार जीतने का अवसर प्रदान किया।\n",
            "BLEU Score:  0.692035506755669\n",
            "ROUGE Score: 0.569620253164557\n",
            "METEOR Score: 0.446\n",
            "\n",
            "*************************************************************************\n",
            "\n",
            "I enjoy doing my work and I give my best to it.\n",
            "Hindi Predicted Translation:  मैं अपने काम में आनंद लेता हूं और उसमें अपना पूरा प्रयास करता हूं।\n",
            "Ground Truth:  मेहनत और लगन से काम करती हूं और अपने काम को एन्जॉय करती हूं।\n",
            "BLEU Score:  0.7324912081306231\n",
            "ROUGE Score: 0.5238095238095238\n",
            "METEOR Score: 0.319\n",
            "\n",
            "*************************************************************************\n",
            "\n",
            "\"\"\"All evidence has been collected.\"\n",
            "Hindi Predicted Translation:  \"सभी साक्ष्य एकत्र किया गया है।\"\n",
            "Ground Truth:  सारे साक्ष्य एकत्र कर लिए गए हैं।\n",
            "BLEU Score:  0.8274377299117183\n",
            "ROUGE Score: 0.6333333333333333\n",
            "METEOR Score: 0.264\n",
            "\n",
            "*************************************************************************\n",
            "\n",
            "She forces Ram to buy a lottery ticket and he obliges.\n",
            "Hindi Predicted Translation:  वह राम को लाटरी टिकट खरीदने के लिए मजबूर करती है और वह उसे बाध्य करती है।\n",
            "Ground Truth:  वह राम को एक लॉटरी टिकट खरीदने के लिए मजबूर करती है और वह उसकी बात मान जाता है।\n",
            "BLEU Score:  0.7725251409801206\n",
            "ROUGE Score: 0.7538461538461538\n",
            "METEOR Score: 0.672\n",
            "\n",
            "*************************************************************************\n",
            "\n"
          ]
        }
      ]
    },
    {
      "cell_type": "code",
      "source": [
        "print(\"Average Blue Score of 200 test data: \",sum(blue_score)/len(blue_score))\n",
        "print(\"Average ROGUE Score of 200 test data: \",sum(rogue_score)/len(rogue_score))\n",
        "print(\"Average METEOR Score of 200 test data: \",sum(m_score)/len(m_score))"
      ],
      "metadata": {
        "colab": {
          "base_uri": "https://localhost:8080/"
        },
        "id": "RkFs1xmOnQfK",
        "outputId": "1b0463d1-7cb5-41fa-a53c-8bc7187316c8"
      },
      "execution_count": null,
      "outputs": [
        {
          "output_type": "stream",
          "name": "stdout",
          "text": [
            "Average Blue Score of 200 test data:  0.7486066596316231\n",
            "Average ROGUE Score of 200 test data:  0.6139830834830473\n",
            "Average METEOR Score of 200 test data:  0.3700199999999999\n"
          ]
        }
      ]
    },
    {
      "cell_type": "code",
      "source": [
        "df_new = pd.DataFrame(list(zip(testData, testLabel,predicted_trans)),\n",
        "               columns =['english', 'hindi_ground_truth','hindi_translated'])"
      ],
      "metadata": {
        "id": "x1H1U-9lotBX"
      },
      "execution_count": null,
      "outputs": []
    },
    {
      "cell_type": "code",
      "source": [
        "df_new.to_csv(\"Language_Translation.csv\")"
      ],
      "metadata": {
        "id": "9rKFSWEqpRzK"
      },
      "execution_count": null,
      "outputs": []
    },
    {
      "cell_type": "code",
      "source": [
        "df_new.tail(10)"
      ],
      "metadata": {
        "colab": {
          "base_uri": "https://localhost:8080/",
          "height": 363
        },
        "id": "vmf6R-mdpWwA",
        "outputId": "25dadaf4-c7ab-4ca0-82c6-8ac09ab10aa6"
      },
      "execution_count": null,
      "outputs": [
        {
          "output_type": "execute_result",
          "data": {
            "text/plain": [
              "                                               english  \\\n",
              "190  Most of the banks, including State Bank of Ind...   \n",
              "191  This is the thing that we should learn from Au...   \n",
              "192  Pakistan bans Hafiz Saeed-led JuD and its char...   \n",
              "193  Both the Congress and the Aam Aadmi Party (AAP...   \n",
              "194                   But no action was taken on this.   \n",
              "195  Computers and telecommunications have transfor...   \n",
              "196  That is Allah, your Lord, there is no god but ...   \n",
              "197  The complaint against Dravid by Madhya Pradesh...   \n",
              "198  The area falls under the Civil Lines police st...   \n",
              "199  Chairmen of Rajya Sabha and Russias Duma call ...   \n",
              "\n",
              "                                    hindi_ground_truth  \\\n",
              "190  इस हड़ताल को लेकर भारतीय स्टेट बैंक कैनरा बैंक...   \n",
              "191              यह ऑस्ट्रेलिया से सीखने वाला विषय है।   \n",
              "192  चौतरफा दबाव से फिर झुका पाकिस्तान, हाफिज सईद क...   \n",
              "193  कांग्रेस और AAP दोनों ने चुनाव आयोग से मामले क...   \n",
              "194          लेकिन इस केस में कोई कार्रवाई नहीं की गई.   \n",
              "195  कम्प्यूटर एवं इंटरनेट ने पूरी दुनिया की तस्वीर...   \n",
              "196  (लोगों) वही अल्लाह तुम्हारा परवरदिगार है उसके ...   \n",
              "197  द्रविड़ के खिलाफ मध्य प्रदेश क्रिकेट एसोसिएशन ...   \n",
              "198               मामला सिविल लाइन थाना क्षेत्र का है.   \n",
              "199  राज्‍य सभा के सभापति और रूस के ‘ड्यूमा’ के चेय...   \n",
              "\n",
              "                                      hindi_translated  \n",
              "190  स्टेट बैंक ऑफ इंडिया, पंजाब नेशनल बैंक और बैंक...  \n",
              "191           यही बात हमें ऑस्ट्रेलिया से सीखनी चाहिए।  \n",
              "192  पाकिस्तान ने हफीज सईद के नेतृत्व में जुडी और उ...  \n",
              "193  कांग्रेस और अम् अम्मी पार्टी (एएएपी) दोनों ही ...  \n",
              "194         लेकिन इस बारे में कोई कार्रवाई नहीं की गई।  \n",
              "195      कंप्यूटर और दूरसंचार ने विश्व को बदल दिया है।  \n",
              "196  वही अल्लाह तुम्हारा रब है। उसके सिवा कोई पूज्य...  \n",
              "197  मध्य प्रदेश क्रिकेट एसोसिएशन के जीवन सदस्य संज...  \n",
              "198  यह क्षेत्र सिविल लाइन पुलिस स्टेशन के अंतर्गत ...  \n",
              "199  राज्य सभा और रूसी ड्यूमा के अध्यक्षों से एकजुट...  "
            ],
            "text/html": [
              "\n",
              "  <div id=\"df-9eb75c8d-c386-47d1-a05a-5e59bc327612\">\n",
              "    <div class=\"colab-df-container\">\n",
              "      <div>\n",
              "<style scoped>\n",
              "    .dataframe tbody tr th:only-of-type {\n",
              "        vertical-align: middle;\n",
              "    }\n",
              "\n",
              "    .dataframe tbody tr th {\n",
              "        vertical-align: top;\n",
              "    }\n",
              "\n",
              "    .dataframe thead th {\n",
              "        text-align: right;\n",
              "    }\n",
              "</style>\n",
              "<table border=\"1\" class=\"dataframe\">\n",
              "  <thead>\n",
              "    <tr style=\"text-align: right;\">\n",
              "      <th></th>\n",
              "      <th>english</th>\n",
              "      <th>hindi_ground_truth</th>\n",
              "      <th>hindi_translated</th>\n",
              "    </tr>\n",
              "  </thead>\n",
              "  <tbody>\n",
              "    <tr>\n",
              "      <th>190</th>\n",
              "      <td>Most of the banks, including State Bank of Ind...</td>\n",
              "      <td>इस हड़ताल को लेकर भारतीय स्टेट बैंक कैनरा बैंक...</td>\n",
              "      <td>स्टेट बैंक ऑफ इंडिया, पंजाब नेशनल बैंक और बैंक...</td>\n",
              "    </tr>\n",
              "    <tr>\n",
              "      <th>191</th>\n",
              "      <td>This is the thing that we should learn from Au...</td>\n",
              "      <td>यह ऑस्ट्रेलिया से सीखने वाला विषय है।</td>\n",
              "      <td>यही बात हमें ऑस्ट्रेलिया से सीखनी चाहिए।</td>\n",
              "    </tr>\n",
              "    <tr>\n",
              "      <th>192</th>\n",
              "      <td>Pakistan bans Hafiz Saeed-led JuD and its char...</td>\n",
              "      <td>चौतरफा दबाव से फिर झुका पाकिस्तान, हाफिज सईद क...</td>\n",
              "      <td>पाकिस्तान ने हफीज सईद के नेतृत्व में जुडी और उ...</td>\n",
              "    </tr>\n",
              "    <tr>\n",
              "      <th>193</th>\n",
              "      <td>Both the Congress and the Aam Aadmi Party (AAP...</td>\n",
              "      <td>कांग्रेस और AAP दोनों ने चुनाव आयोग से मामले क...</td>\n",
              "      <td>कांग्रेस और अम् अम्मी पार्टी (एएएपी) दोनों ही ...</td>\n",
              "    </tr>\n",
              "    <tr>\n",
              "      <th>194</th>\n",
              "      <td>But no action was taken on this.</td>\n",
              "      <td>लेकिन इस केस में कोई कार्रवाई नहीं की गई.</td>\n",
              "      <td>लेकिन इस बारे में कोई कार्रवाई नहीं की गई।</td>\n",
              "    </tr>\n",
              "    <tr>\n",
              "      <th>195</th>\n",
              "      <td>Computers and telecommunications have transfor...</td>\n",
              "      <td>कम्प्यूटर एवं इंटरनेट ने पूरी दुनिया की तस्वीर...</td>\n",
              "      <td>कंप्यूटर और दूरसंचार ने विश्व को बदल दिया है।</td>\n",
              "    </tr>\n",
              "    <tr>\n",
              "      <th>196</th>\n",
              "      <td>That is Allah, your Lord, there is no god but ...</td>\n",
              "      <td>(लोगों) वही अल्लाह तुम्हारा परवरदिगार है उसके ...</td>\n",
              "      <td>वही अल्लाह तुम्हारा रब है। उसके सिवा कोई पूज्य...</td>\n",
              "    </tr>\n",
              "    <tr>\n",
              "      <th>197</th>\n",
              "      <td>The complaint against Dravid by Madhya Pradesh...</td>\n",
              "      <td>द्रविड़ के खिलाफ मध्य प्रदेश क्रिकेट एसोसिएशन ...</td>\n",
              "      <td>मध्य प्रदेश क्रिकेट एसोसिएशन के जीवन सदस्य संज...</td>\n",
              "    </tr>\n",
              "    <tr>\n",
              "      <th>198</th>\n",
              "      <td>The area falls under the Civil Lines police st...</td>\n",
              "      <td>मामला सिविल लाइन थाना क्षेत्र का है.</td>\n",
              "      <td>यह क्षेत्र सिविल लाइन पुलिस स्टेशन के अंतर्गत ...</td>\n",
              "    </tr>\n",
              "    <tr>\n",
              "      <th>199</th>\n",
              "      <td>Chairmen of Rajya Sabha and Russias Duma call ...</td>\n",
              "      <td>राज्‍य सभा के सभापति और रूस के ‘ड्यूमा’ के चेय...</td>\n",
              "      <td>राज्य सभा और रूसी ड्यूमा के अध्यक्षों से एकजुट...</td>\n",
              "    </tr>\n",
              "  </tbody>\n",
              "</table>\n",
              "</div>\n",
              "      <button class=\"colab-df-convert\" onclick=\"convertToInteractive('df-9eb75c8d-c386-47d1-a05a-5e59bc327612')\"\n",
              "              title=\"Convert this dataframe to an interactive table.\"\n",
              "              style=\"display:none;\">\n",
              "        \n",
              "  <svg xmlns=\"http://www.w3.org/2000/svg\" height=\"24px\"viewBox=\"0 0 24 24\"\n",
              "       width=\"24px\">\n",
              "    <path d=\"M0 0h24v24H0V0z\" fill=\"none\"/>\n",
              "    <path d=\"M18.56 5.44l.94 2.06.94-2.06 2.06-.94-2.06-.94-.94-2.06-.94 2.06-2.06.94zm-11 1L8.5 8.5l.94-2.06 2.06-.94-2.06-.94L8.5 2.5l-.94 2.06-2.06.94zm10 10l.94 2.06.94-2.06 2.06-.94-2.06-.94-.94-2.06-.94 2.06-2.06.94z\"/><path d=\"M17.41 7.96l-1.37-1.37c-.4-.4-.92-.59-1.43-.59-.52 0-1.04.2-1.43.59L10.3 9.45l-7.72 7.72c-.78.78-.78 2.05 0 2.83L4 21.41c.39.39.9.59 1.41.59.51 0 1.02-.2 1.41-.59l7.78-7.78 2.81-2.81c.8-.78.8-2.07 0-2.86zM5.41 20L4 18.59l7.72-7.72 1.47 1.35L5.41 20z\"/>\n",
              "  </svg>\n",
              "      </button>\n",
              "      \n",
              "  <style>\n",
              "    .colab-df-container {\n",
              "      display:flex;\n",
              "      flex-wrap:wrap;\n",
              "      gap: 12px;\n",
              "    }\n",
              "\n",
              "    .colab-df-convert {\n",
              "      background-color: #E8F0FE;\n",
              "      border: none;\n",
              "      border-radius: 50%;\n",
              "      cursor: pointer;\n",
              "      display: none;\n",
              "      fill: #1967D2;\n",
              "      height: 32px;\n",
              "      padding: 0 0 0 0;\n",
              "      width: 32px;\n",
              "    }\n",
              "\n",
              "    .colab-df-convert:hover {\n",
              "      background-color: #E2EBFA;\n",
              "      box-shadow: 0px 1px 2px rgba(60, 64, 67, 0.3), 0px 1px 3px 1px rgba(60, 64, 67, 0.15);\n",
              "      fill: #174EA6;\n",
              "    }\n",
              "\n",
              "    [theme=dark] .colab-df-convert {\n",
              "      background-color: #3B4455;\n",
              "      fill: #D2E3FC;\n",
              "    }\n",
              "\n",
              "    [theme=dark] .colab-df-convert:hover {\n",
              "      background-color: #434B5C;\n",
              "      box-shadow: 0px 1px 3px 1px rgba(0, 0, 0, 0.15);\n",
              "      filter: drop-shadow(0px 1px 2px rgba(0, 0, 0, 0.3));\n",
              "      fill: #FFFFFF;\n",
              "    }\n",
              "  </style>\n",
              "\n",
              "      <script>\n",
              "        const buttonEl =\n",
              "          document.querySelector('#df-9eb75c8d-c386-47d1-a05a-5e59bc327612 button.colab-df-convert');\n",
              "        buttonEl.style.display =\n",
              "          google.colab.kernel.accessAllowed ? 'block' : 'none';\n",
              "\n",
              "        async function convertToInteractive(key) {\n",
              "          const element = document.querySelector('#df-9eb75c8d-c386-47d1-a05a-5e59bc327612');\n",
              "          const dataTable =\n",
              "            await google.colab.kernel.invokeFunction('convertToInteractive',\n",
              "                                                     [key], {});\n",
              "          if (!dataTable) return;\n",
              "\n",
              "          const docLinkHtml = 'Like what you see? Visit the ' +\n",
              "            '<a target=\"_blank\" href=https://colab.research.google.com/notebooks/data_table.ipynb>data table notebook</a>'\n",
              "            + ' to learn more about interactive tables.';\n",
              "          element.innerHTML = '';\n",
              "          dataTable['output_type'] = 'display_data';\n",
              "          await google.colab.output.renderOutput(dataTable, element);\n",
              "          const docLink = document.createElement('div');\n",
              "          docLink.innerHTML = docLinkHtml;\n",
              "          element.appendChild(docLink);\n",
              "        }\n",
              "      </script>\n",
              "    </div>\n",
              "  </div>\n",
              "  "
            ]
          },
          "metadata": {},
          "execution_count": 102
        }
      ]
    },
    {
      "cell_type": "markdown",
      "source": [
        "#Testing on user input"
      ],
      "metadata": {
        "id": "F7ieKyF2oIBa"
      }
    },
    {
      "cell_type": "code",
      "source": [
        "path = \"/content/drive/MyDrive/My Documents/NLU/Project/model\"\n",
        "model_trained= MBartForConditionalGeneration.from_pretrained(path)\n",
        "tokenizer = MBart50TokenizerFast.from_pretrained(\"facebook/mbart-large-50-one-to-many-mmt\", src_lang=\"en_XX\")\n",
        "\n",
        "def english_hindi_translator(eng_text):\n",
        "  mod_inputs = tokenizer(eng_text, return_tensors=\"pt\")\n",
        "  generated_tokens2 = model_trained.generate(**mod_inputs,forced_bos_token_id=tokenizer.lang_code_to_id[\"hi_IN\"])\n",
        "  hindi_translation = tokenizer.batch_decode(generated_tokens2, skip_special_tokens=True)\n",
        "  return hindi_translation[0]\n"
      ],
      "metadata": {
        "id": "F6dQDNgimnaZ"
      },
      "execution_count": null,
      "outputs": []
    },
    {
      "cell_type": "code",
      "source": [
        "eng_t = input(\"Enter your English text: \")\n",
        "hindi_translation = english_hindi_translator(str(eng_t))\n",
        "print(\"Hindi Translation: \",hindi_translation)"
      ],
      "metadata": {
        "id": "p1gfjU_LnZmK",
        "colab": {
          "base_uri": "https://localhost:8080/"
        },
        "outputId": "f6d82c88-8d5a-45bc-8874-266f2e7adf19"
      },
      "execution_count": null,
      "outputs": [
        {
          "output_type": "stream",
          "name": "stdout",
          "text": [
            "Enter your English text: The Khejarli Massacre was an inspiration for the 20th century environmentalist Chipko movement. Several temples and a cenotaph in Khejarli commemorate the massacre, and the village is the site of an annual Bishnoi ceremony held in honor of the event. A fair is organized every year on Shukla Dashmi of Bhadrapad (Hindi month) in September at Khejarli, Jodhpur, to pay homage to the great martyrs of environment protection.\n",
            "Hindi Translation:  खेजरली नरसंहार 20वीं शताब्दी के पर्यावरणवादी चिपको आंदोलन के लिए प्रेरणादायक था। खेजरली में कई मंदिर और एक स्मारक इस नरसंहार को याद करते हैं और गांव में इस समारोह के सम्मान में आयोजित एक वार्षिक बीशनोई समारोह का स्थल है। हर वर्ष सितंबर में खेजरली, जोधपुर में पर्यावरण संरक्षण के महान शहीदों को श्रद्धांजलि अर्पित करने के लिए भाद्रापाद के शुक्ल दासमी पर एक मेला आयोजित किया जाता है।\n"
          ]
        }
      ]
    },
    {
      "cell_type": "code",
      "source": [],
      "metadata": {
        "id": "vF2BMN0eiY9v"
      },
      "execution_count": null,
      "outputs": []
    },
    {
      "cell_type": "code",
      "source": [],
      "metadata": {
        "id": "1zBGNvm6iZAX"
      },
      "execution_count": null,
      "outputs": []
    },
    {
      "cell_type": "code",
      "source": [],
      "metadata": {
        "id": "CGUh9zZjiZC9"
      },
      "execution_count": null,
      "outputs": []
    },
    {
      "cell_type": "code",
      "source": [],
      "metadata": {
        "id": "hZVuVjFbh9AP"
      },
      "execution_count": null,
      "outputs": []
    }
  ]
}