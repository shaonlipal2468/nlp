{
  "nbformat": 4,
  "nbformat_minor": 0,
  "metadata": {
    "colab": {
      "provenance": []
    },
    "kernelspec": {
      "name": "python3",
      "display_name": "Python 3"
    },
    "language_info": {
      "name": "python"
    },
    "accelerator": "GPU"
  },
  "cells": [
    {
      "cell_type": "markdown",
      "source": [
        "#Google Drive Authetication\n",
        "\n"
      ],
      "metadata": {
        "id": "oatRl4-e4OwF"
      }
    },
    {
      "cell_type": "code",
      "source": [
        "!pip install -U -q PyDrive\n",
        "from pydrive.auth import GoogleAuth\n",
        "from pydrive.drive import GoogleDrive\n",
        "from google.colab import auth\n",
        "from oauth2client.client import GoogleCredentials\n",
        "\n",
        "auth.authenticate_user()\n",
        "gauth = GoogleAuth()\n",
        "gauth.credentials = GoogleCredentials.get_application_default()\n",
        "drive = GoogleDrive(gauth)"
      ],
      "metadata": {
        "id": "sk3UDAxcdBZq"
      },
      "execution_count": null,
      "outputs": []
    },
    {
      "cell_type": "code",
      "source": [
        "from google.colab import drive\n",
        "drive.mount('/content/drive')"
      ],
      "metadata": {
        "id": "r0KfWmZJdHrf",
        "colab": {
          "base_uri": "https://localhost:8080/"
        },
        "outputId": "c4635483-172b-4c11-d7be-c5b216592d92"
      },
      "execution_count": null,
      "outputs": [
        {
          "output_type": "stream",
          "name": "stdout",
          "text": [
            "Mounted at /content/drive\n"
          ]
        }
      ]
    },
    {
      "cell_type": "markdown",
      "source": [
        "#Installing Transformers"
      ],
      "metadata": {
        "id": "oEhEocbp4T1R"
      }
    },
    {
      "cell_type": "code",
      "source": [
        "!pip install transformers==3.0.0"
      ],
      "metadata": {
        "id": "QTEL3WijNQAQ",
        "colab": {
          "base_uri": "https://localhost:8080/"
        },
        "outputId": "cab7499a-097a-4f4e-82e4-f6b21c894c93"
      },
      "execution_count": null,
      "outputs": [
        {
          "output_type": "stream",
          "name": "stdout",
          "text": [
            "Collecting transformers==3.0.0\n",
            "  Downloading transformers-3.0.0-py3-none-any.whl (754 kB)\n",
            "\u001b[K     |████████████████████████████████| 754 kB 4.8 MB/s \n",
            "\u001b[?25hRequirement already satisfied: numpy in /usr/local/lib/python3.7/dist-packages (from transformers==3.0.0) (1.21.5)\n",
            "Requirement already satisfied: tqdm>=4.27 in /usr/local/lib/python3.7/dist-packages (from transformers==3.0.0) (4.63.0)\n",
            "Requirement already satisfied: packaging in /usr/local/lib/python3.7/dist-packages (from transformers==3.0.0) (21.3)\n",
            "Collecting tokenizers==0.8.0-rc4\n",
            "  Downloading tokenizers-0.8.0rc4-cp37-cp37m-manylinux1_x86_64.whl (3.0 MB)\n",
            "\u001b[K     |████████████████████████████████| 3.0 MB 20.2 MB/s \n",
            "\u001b[?25hRequirement already satisfied: filelock in /usr/local/lib/python3.7/dist-packages (from transformers==3.0.0) (3.6.0)\n",
            "Collecting sacremoses\n",
            "  Downloading sacremoses-0.0.49-py3-none-any.whl (895 kB)\n",
            "\u001b[K     |████████████████████████████████| 895 kB 41.9 MB/s \n",
            "\u001b[?25hCollecting sentencepiece\n",
            "  Downloading sentencepiece-0.1.96-cp37-cp37m-manylinux_2_17_x86_64.manylinux2014_x86_64.whl (1.2 MB)\n",
            "\u001b[K     |████████████████████████████████| 1.2 MB 35.8 MB/s \n",
            "\u001b[?25hRequirement already satisfied: regex!=2019.12.17 in /usr/local/lib/python3.7/dist-packages (from transformers==3.0.0) (2019.12.20)\n",
            "Requirement already satisfied: requests in /usr/local/lib/python3.7/dist-packages (from transformers==3.0.0) (2.23.0)\n",
            "Requirement already satisfied: pyparsing!=3.0.5,>=2.0.2 in /usr/local/lib/python3.7/dist-packages (from packaging->transformers==3.0.0) (3.0.7)\n",
            "Requirement already satisfied: idna<3,>=2.5 in /usr/local/lib/python3.7/dist-packages (from requests->transformers==3.0.0) (2.10)\n",
            "Requirement already satisfied: certifi>=2017.4.17 in /usr/local/lib/python3.7/dist-packages (from requests->transformers==3.0.0) (2021.10.8)\n",
            "Requirement already satisfied: urllib3!=1.25.0,!=1.25.1,<1.26,>=1.21.1 in /usr/local/lib/python3.7/dist-packages (from requests->transformers==3.0.0) (1.24.3)\n",
            "Requirement already satisfied: chardet<4,>=3.0.2 in /usr/local/lib/python3.7/dist-packages (from requests->transformers==3.0.0) (3.0.4)\n",
            "Requirement already satisfied: six in /usr/local/lib/python3.7/dist-packages (from sacremoses->transformers==3.0.0) (1.15.0)\n",
            "Requirement already satisfied: joblib in /usr/local/lib/python3.7/dist-packages (from sacremoses->transformers==3.0.0) (1.1.0)\n",
            "Requirement already satisfied: click in /usr/local/lib/python3.7/dist-packages (from sacremoses->transformers==3.0.0) (7.1.2)\n",
            "Installing collected packages: tokenizers, sentencepiece, sacremoses, transformers\n",
            "Successfully installed sacremoses-0.0.49 sentencepiece-0.1.96 tokenizers-0.8.0rc4 transformers-3.0.0\n"
          ]
        }
      ]
    },
    {
      "cell_type": "markdown",
      "source": [
        "#Importing Libraries"
      ],
      "metadata": {
        "id": "gIQS2vQ94iPK"
      }
    },
    {
      "cell_type": "code",
      "source": [
        "#@title Importing Libraries\n",
        "\n",
        "import torch\n",
        "import torch.nn as nn\n",
        "import pandas as pd\n",
        "import numpy as np\n",
        "import matplotlib.pyplot as plt\n",
        "import transformers\n",
        "from transformers import BertModel, BertTokenizer, AdamW, get_linear_schedule_with_warmup\n",
        "from torch.optim import lr_scheduler\n",
        "from bs4 import BeautifulSoup \n",
        "\n",
        "import pandas as pd\n",
        "import numpy as np\n",
        "import os\n",
        "import shutil\n",
        "\n",
        "import logging\n",
        "logging.basicConfig(level=logging.ERROR)\n",
        "\n",
        "#import warnings\n",
        "#warnings.filterwarnings(\"ignore\")"
      ],
      "metadata": {
        "id": "BsssU36yPik1"
      },
      "execution_count": null,
      "outputs": []
    },
    {
      "cell_type": "markdown",
      "source": [
        "#GPU device"
      ],
      "metadata": {
        "id": "pANApkVz42Qk"
      }
    },
    {
      "cell_type": "code",
      "source": [
        "device = torch.device(\"cuda:0\" if torch.cuda.is_available() else \"cpu\")\n",
        "print(f\"Device: {device}\")\n"
      ],
      "metadata": {
        "colab": {
          "base_uri": "https://localhost:8080/"
        },
        "id": "vtpfmJBbHNGx",
        "outputId": "d42650d3-b4d3-43b0-b14c-c954fc1a093e"
      },
      "execution_count": null,
      "outputs": [
        {
          "output_type": "stream",
          "name": "stdout",
          "text": [
            "Device: cuda:0\n"
          ]
        }
      ]
    },
    {
      "cell_type": "markdown",
      "source": [
        "#BERT Model"
      ],
      "metadata": {
        "id": "xfDBkcx_5GAv"
      }
    },
    {
      "cell_type": "code",
      "source": [
        "class SentimentClassifier(nn.Module):\n",
        "  \"\"\"\n",
        "  This class defines the model architecture which is simply a fully-connected\n",
        "  layer on top of a pre-trained BERT model. \n",
        "  \"\"\"\n",
        "\n",
        "  def __init__(self, BERT_MODEL):\n",
        "    super(SentimentClassifier, self).__init__()\n",
        "    self.bert = BertModel.from_pretrained(BERT_MODEL)\n",
        "    self.drop = nn.Dropout(p=0.3)\n",
        "    self.out = nn.Linear(self.bert.config.hidden_size, 3) # Number of output classes = 3\n",
        "\n",
        "  def forward(self, ids, mask, token_type_ids):\n",
        "    last_hidden_state, pooled_output = self.bert(ids, attention_mask=mask, token_type_ids=token_type_ids)\n",
        "    output = self.drop(pooled_output)\n",
        "    return self.out(output)"
      ],
      "metadata": {
        "id": "P-8muni8bEMP"
      },
      "execution_count": null,
      "outputs": []
    },
    {
      "cell_type": "code",
      "execution_count": null,
      "metadata": {
        "id": "l3o7I_B7tLFJ"
      },
      "outputs": [],
      "source": [
        "labels_to_sentiment_dict = {\n",
        "    0: 'positive',\n",
        "    1: 'negative',\n",
        "    2: 'neutral'\n",
        "}\n",
        "sentiment_to_labels_dict={\n",
        "    'positive':0,\n",
        "    'negative':1,\n",
        "    'neutral':2\n",
        "\n",
        "}"
      ]
    },
    {
      "cell_type": "code",
      "source": [
        "import os\n",
        "aspects = [\"food\", \"staff\", \"miscellaneous\", \"place\",\"service\",\"menu\",\"ambience\",\"price\"]\n",
        "\n",
        "# models_dict:Is a dictionary containing models corresponding to all the \n",
        "# `location-aspect`.\n",
        "\n",
        "models_dict = {}\n",
        "\n",
        "\n",
        "for aspect in aspects:\n",
        "  path = \"/content/drive/MyDrive/NLU2/\"+str(aspect)+\"/\"\n",
        "  dir_list = os.listdir(path)\n",
        "  path=path+dir_list[0]\n",
        "  model = torch.load(path, map_location='cpu')\n",
        "  model= model.to(device)\n",
        "  models_dict[f\"{aspect}\"] = model"
      ],
      "metadata": {
        "id": "gC4J6sqCAgR2"
      },
      "execution_count": null,
      "outputs": []
    },
    {
      "cell_type": "markdown",
      "source": [
        "#Module 2"
      ],
      "metadata": {
        "id": "c8Ff1q0QxplE"
      }
    },
    {
      "cell_type": "code",
      "source": [
        "file = open(\"/content/drive/MyDrive/1-restaurant-train.csv\",'r')\n",
        "contents = file.read()\n"
      ],
      "metadata": {
        "id": "AN5VojAcxqb5"
      },
      "execution_count": null,
      "outputs": []
    },
    {
      "cell_type": "code",
      "source": [
        "x = contents.split(\"\\n\")\n",
        "print(len(x))\n",
        "x=x[:10001]"
      ],
      "metadata": {
        "id": "kdSRWAxH0Kcb",
        "colab": {
          "base_uri": "https://localhost:8080/"
        },
        "outputId": "f5fc1f6d-e3bb-4777-d21a-ea5f681dbb04"
      },
      "execution_count": null,
      "outputs": [
        {
          "output_type": "stream",
          "name": "stdout",
          "text": [
            "82066\n"
          ]
        }
      ]
    },
    {
      "cell_type": "code",
      "source": [
        "text=[]\n",
        "ratings=[]\n",
        "id=[]\n",
        "count=1\n",
        "for i in range(len(x)-1):\n",
        "  temp = x[i].split(\"\\t\")\n",
        "  text.append(temp[1])\n",
        "  ratings.append(temp[0])\n",
        "  id.append(count)\n",
        "  count=count+1\n",
        "testing_set = pd.DataFrame(list(zip(id,text, ratings)),columns =['id','text', 'Ratings'])"
      ],
      "metadata": {
        "id": "Nawz4Xtv0ZGS"
      },
      "execution_count": null,
      "outputs": []
    },
    {
      "cell_type": "code",
      "source": [
        "testing_set.head()"
      ],
      "metadata": {
        "colab": {
          "base_uri": "https://localhost:8080/",
          "height": 206
        },
        "id": "mr8lfil-09RB",
        "outputId": "61122b44-84ef-49cc-e93b-e29802df0e58"
      },
      "execution_count": null,
      "outputs": [
        {
          "output_type": "execute_result",
          "data": {
            "text/plain": [
              "   id                                               text Ratings\n",
              "0   1  Thank you thank you thank you !! I  want to th...       4\n",
              "1   2  A Humane Society store at the Biltmore?  Inter...       5\n",
              "2   3  Don't buy Nike sneakers if you want to return ...       1\n",
              "3   4  I have to say I love most things about Sprouts...       3\n",
              "4   5  The tire pressure light came on a day or so ag...       5"
            ],
            "text/html": [
              "\n",
              "  <div id=\"df-1b8bb65d-3188-41d7-a94d-5d3a23e08b9c\">\n",
              "    <div class=\"colab-df-container\">\n",
              "      <div>\n",
              "<style scoped>\n",
              "    .dataframe tbody tr th:only-of-type {\n",
              "        vertical-align: middle;\n",
              "    }\n",
              "\n",
              "    .dataframe tbody tr th {\n",
              "        vertical-align: top;\n",
              "    }\n",
              "\n",
              "    .dataframe thead th {\n",
              "        text-align: right;\n",
              "    }\n",
              "</style>\n",
              "<table border=\"1\" class=\"dataframe\">\n",
              "  <thead>\n",
              "    <tr style=\"text-align: right;\">\n",
              "      <th></th>\n",
              "      <th>id</th>\n",
              "      <th>text</th>\n",
              "      <th>Ratings</th>\n",
              "    </tr>\n",
              "  </thead>\n",
              "  <tbody>\n",
              "    <tr>\n",
              "      <th>0</th>\n",
              "      <td>1</td>\n",
              "      <td>Thank you thank you thank you !! I  want to th...</td>\n",
              "      <td>4</td>\n",
              "    </tr>\n",
              "    <tr>\n",
              "      <th>1</th>\n",
              "      <td>2</td>\n",
              "      <td>A Humane Society store at the Biltmore?  Inter...</td>\n",
              "      <td>5</td>\n",
              "    </tr>\n",
              "    <tr>\n",
              "      <th>2</th>\n",
              "      <td>3</td>\n",
              "      <td>Don't buy Nike sneakers if you want to return ...</td>\n",
              "      <td>1</td>\n",
              "    </tr>\n",
              "    <tr>\n",
              "      <th>3</th>\n",
              "      <td>4</td>\n",
              "      <td>I have to say I love most things about Sprouts...</td>\n",
              "      <td>3</td>\n",
              "    </tr>\n",
              "    <tr>\n",
              "      <th>4</th>\n",
              "      <td>5</td>\n",
              "      <td>The tire pressure light came on a day or so ag...</td>\n",
              "      <td>5</td>\n",
              "    </tr>\n",
              "  </tbody>\n",
              "</table>\n",
              "</div>\n",
              "      <button class=\"colab-df-convert\" onclick=\"convertToInteractive('df-1b8bb65d-3188-41d7-a94d-5d3a23e08b9c')\"\n",
              "              title=\"Convert this dataframe to an interactive table.\"\n",
              "              style=\"display:none;\">\n",
              "        \n",
              "  <svg xmlns=\"http://www.w3.org/2000/svg\" height=\"24px\"viewBox=\"0 0 24 24\"\n",
              "       width=\"24px\">\n",
              "    <path d=\"M0 0h24v24H0V0z\" fill=\"none\"/>\n",
              "    <path d=\"M18.56 5.44l.94 2.06.94-2.06 2.06-.94-2.06-.94-.94-2.06-.94 2.06-2.06.94zm-11 1L8.5 8.5l.94-2.06 2.06-.94-2.06-.94L8.5 2.5l-.94 2.06-2.06.94zm10 10l.94 2.06.94-2.06 2.06-.94-2.06-.94-.94-2.06-.94 2.06-2.06.94z\"/><path d=\"M17.41 7.96l-1.37-1.37c-.4-.4-.92-.59-1.43-.59-.52 0-1.04.2-1.43.59L10.3 9.45l-7.72 7.72c-.78.78-.78 2.05 0 2.83L4 21.41c.39.39.9.59 1.41.59.51 0 1.02-.2 1.41-.59l7.78-7.78 2.81-2.81c.8-.78.8-2.07 0-2.86zM5.41 20L4 18.59l7.72-7.72 1.47 1.35L5.41 20z\"/>\n",
              "  </svg>\n",
              "      </button>\n",
              "      \n",
              "  <style>\n",
              "    .colab-df-container {\n",
              "      display:flex;\n",
              "      flex-wrap:wrap;\n",
              "      gap: 12px;\n",
              "    }\n",
              "\n",
              "    .colab-df-convert {\n",
              "      background-color: #E8F0FE;\n",
              "      border: none;\n",
              "      border-radius: 50%;\n",
              "      cursor: pointer;\n",
              "      display: none;\n",
              "      fill: #1967D2;\n",
              "      height: 32px;\n",
              "      padding: 0 0 0 0;\n",
              "      width: 32px;\n",
              "    }\n",
              "\n",
              "    .colab-df-convert:hover {\n",
              "      background-color: #E2EBFA;\n",
              "      box-shadow: 0px 1px 2px rgba(60, 64, 67, 0.3), 0px 1px 3px 1px rgba(60, 64, 67, 0.15);\n",
              "      fill: #174EA6;\n",
              "    }\n",
              "\n",
              "    [theme=dark] .colab-df-convert {\n",
              "      background-color: #3B4455;\n",
              "      fill: #D2E3FC;\n",
              "    }\n",
              "\n",
              "    [theme=dark] .colab-df-convert:hover {\n",
              "      background-color: #434B5C;\n",
              "      box-shadow: 0px 1px 3px 1px rgba(0, 0, 0, 0.15);\n",
              "      filter: drop-shadow(0px 1px 2px rgba(0, 0, 0, 0.3));\n",
              "      fill: #FFFFFF;\n",
              "    }\n",
              "  </style>\n",
              "\n",
              "      <script>\n",
              "        const buttonEl =\n",
              "          document.querySelector('#df-1b8bb65d-3188-41d7-a94d-5d3a23e08b9c button.colab-df-convert');\n",
              "        buttonEl.style.display =\n",
              "          google.colab.kernel.accessAllowed ? 'block' : 'none';\n",
              "\n",
              "        async function convertToInteractive(key) {\n",
              "          const element = document.querySelector('#df-1b8bb65d-3188-41d7-a94d-5d3a23e08b9c');\n",
              "          const dataTable =\n",
              "            await google.colab.kernel.invokeFunction('convertToInteractive',\n",
              "                                                     [key], {});\n",
              "          if (!dataTable) return;\n",
              "\n",
              "          const docLinkHtml = 'Like what you see? Visit the ' +\n",
              "            '<a target=\"_blank\" href=https://colab.research.google.com/notebooks/data_table.ipynb>data table notebook</a>'\n",
              "            + ' to learn more about interactive tables.';\n",
              "          element.innerHTML = '';\n",
              "          dataTable['output_type'] = 'display_data';\n",
              "          await google.colab.output.renderOutput(dataTable, element);\n",
              "          const docLink = document.createElement('div');\n",
              "          docLink.innerHTML = docLinkHtml;\n",
              "          element.appendChild(docLink);\n",
              "        }\n",
              "      </script>\n",
              "    </div>\n",
              "  </div>\n",
              "  "
            ]
          },
          "metadata": {},
          "execution_count": 12
        }
      ]
    },
    {
      "cell_type": "code",
      "source": [
        "compressed_ratings = list(testing_set.Ratings[:10001])"
      ],
      "metadata": {
        "id": "b65mwVbFA-Fu"
      },
      "execution_count": null,
      "outputs": []
    },
    {
      "cell_type": "code",
      "source": [
        "new_rat = [int(i) for i in compressed_ratings]"
      ],
      "metadata": {
        "id": "vgflNu-uBE8S"
      },
      "execution_count": null,
      "outputs": []
    },
    {
      "cell_type": "code",
      "source": [
        "import string, nltk\n",
        "#nltk.download('stopwords')\n",
        "nltk.download('averaged_perceptron_tagger')\n",
        "nltk.download('punkt')\n",
        "nltk.download('wordnet')\n",
        "from bs4 import BeautifulSoup\n",
        "\n",
        "lemmatizer = nltk.stem.WordNetLemmatizer()\n",
        "def preprocess(text):\n",
        "    text = str(text)\n",
        "    soup = BeautifulSoup(text, \"html.parser\")\n",
        "    for data in soup(['script', 'style']):\n",
        "        data.decompose()\n",
        "    text = ' '.join(soup.stripped_strings)\n",
        "    #text = text.lower()\n",
        "    temp = \"\"\n",
        "    for i in text:\n",
        "        if i in string.punctuation:\n",
        "            continue\n",
        "        else:\n",
        "            temp+=i\n",
        "    temp = temp.split()\n",
        "    #temp = [w for w in temp if w not in nltk.corpus.stopwords.words('english')]\n",
        "    for i in range(len(temp)):\n",
        "        temp[i] = lemmatizer.lemmatize(temp[i])\n",
        "    return ' '.join(temp)\n",
        "testing_set['text'] = testing_set['text'].apply(preprocess)"
      ],
      "metadata": {
        "colab": {
          "base_uri": "https://localhost:8080/"
        },
        "id": "4GX8pvCx63-A",
        "outputId": "c0cb0d23-f2a8-480e-a06d-c778bffe8762"
      },
      "execution_count": null,
      "outputs": [
        {
          "output_type": "stream",
          "name": "stdout",
          "text": [
            "[nltk_data] Downloading package averaged_perceptron_tagger to\n",
            "[nltk_data]     /root/nltk_data...\n",
            "[nltk_data]   Package averaged_perceptron_tagger is already up-to-\n",
            "[nltk_data]       date!\n",
            "[nltk_data] Downloading package punkt to /root/nltk_data...\n",
            "[nltk_data]   Package punkt is already up-to-date!\n",
            "[nltk_data] Downloading package wordnet to /root/nltk_data...\n",
            "[nltk_data]   Package wordnet is already up-to-date!\n"
          ]
        }
      ]
    },
    {
      "cell_type": "code",
      "source": [
        "testing_set.head()"
      ],
      "metadata": {
        "colab": {
          "base_uri": "https://localhost:8080/",
          "height": 206
        },
        "id": "Dm5YXGyS7FfY",
        "outputId": "073c0b7e-b70b-4e58-a775-05f78dbda2ad"
      },
      "execution_count": null,
      "outputs": [
        {
          "output_type": "execute_result",
          "data": {
            "text/plain": [
              "   id                                               text Ratings\n",
              "0   1  Thank you thank you thank you I want to thank ...       4\n",
              "1   2  A Humane Society store at the Biltmore Interes...       5\n",
              "2   3  Dont buy Nike sneaker if you want to return or...       1\n",
              "3   4  I have to say I love most thing about Sprouts ...       3\n",
              "4   5  The tire pressure light came on a day or so ag...       5"
            ],
            "text/html": [
              "\n",
              "  <div id=\"df-20ae2321-a9d7-4ec5-bbe4-6ffae15e4dfc\">\n",
              "    <div class=\"colab-df-container\">\n",
              "      <div>\n",
              "<style scoped>\n",
              "    .dataframe tbody tr th:only-of-type {\n",
              "        vertical-align: middle;\n",
              "    }\n",
              "\n",
              "    .dataframe tbody tr th {\n",
              "        vertical-align: top;\n",
              "    }\n",
              "\n",
              "    .dataframe thead th {\n",
              "        text-align: right;\n",
              "    }\n",
              "</style>\n",
              "<table border=\"1\" class=\"dataframe\">\n",
              "  <thead>\n",
              "    <tr style=\"text-align: right;\">\n",
              "      <th></th>\n",
              "      <th>id</th>\n",
              "      <th>text</th>\n",
              "      <th>Ratings</th>\n",
              "    </tr>\n",
              "  </thead>\n",
              "  <tbody>\n",
              "    <tr>\n",
              "      <th>0</th>\n",
              "      <td>1</td>\n",
              "      <td>Thank you thank you thank you I want to thank ...</td>\n",
              "      <td>4</td>\n",
              "    </tr>\n",
              "    <tr>\n",
              "      <th>1</th>\n",
              "      <td>2</td>\n",
              "      <td>A Humane Society store at the Biltmore Interes...</td>\n",
              "      <td>5</td>\n",
              "    </tr>\n",
              "    <tr>\n",
              "      <th>2</th>\n",
              "      <td>3</td>\n",
              "      <td>Dont buy Nike sneaker if you want to return or...</td>\n",
              "      <td>1</td>\n",
              "    </tr>\n",
              "    <tr>\n",
              "      <th>3</th>\n",
              "      <td>4</td>\n",
              "      <td>I have to say I love most thing about Sprouts ...</td>\n",
              "      <td>3</td>\n",
              "    </tr>\n",
              "    <tr>\n",
              "      <th>4</th>\n",
              "      <td>5</td>\n",
              "      <td>The tire pressure light came on a day or so ag...</td>\n",
              "      <td>5</td>\n",
              "    </tr>\n",
              "  </tbody>\n",
              "</table>\n",
              "</div>\n",
              "      <button class=\"colab-df-convert\" onclick=\"convertToInteractive('df-20ae2321-a9d7-4ec5-bbe4-6ffae15e4dfc')\"\n",
              "              title=\"Convert this dataframe to an interactive table.\"\n",
              "              style=\"display:none;\">\n",
              "        \n",
              "  <svg xmlns=\"http://www.w3.org/2000/svg\" height=\"24px\"viewBox=\"0 0 24 24\"\n",
              "       width=\"24px\">\n",
              "    <path d=\"M0 0h24v24H0V0z\" fill=\"none\"/>\n",
              "    <path d=\"M18.56 5.44l.94 2.06.94-2.06 2.06-.94-2.06-.94-.94-2.06-.94 2.06-2.06.94zm-11 1L8.5 8.5l.94-2.06 2.06-.94-2.06-.94L8.5 2.5l-.94 2.06-2.06.94zm10 10l.94 2.06.94-2.06 2.06-.94-2.06-.94-.94-2.06-.94 2.06-2.06.94z\"/><path d=\"M17.41 7.96l-1.37-1.37c-.4-.4-.92-.59-1.43-.59-.52 0-1.04.2-1.43.59L10.3 9.45l-7.72 7.72c-.78.78-.78 2.05 0 2.83L4 21.41c.39.39.9.59 1.41.59.51 0 1.02-.2 1.41-.59l7.78-7.78 2.81-2.81c.8-.78.8-2.07 0-2.86zM5.41 20L4 18.59l7.72-7.72 1.47 1.35L5.41 20z\"/>\n",
              "  </svg>\n",
              "      </button>\n",
              "      \n",
              "  <style>\n",
              "    .colab-df-container {\n",
              "      display:flex;\n",
              "      flex-wrap:wrap;\n",
              "      gap: 12px;\n",
              "    }\n",
              "\n",
              "    .colab-df-convert {\n",
              "      background-color: #E8F0FE;\n",
              "      border: none;\n",
              "      border-radius: 50%;\n",
              "      cursor: pointer;\n",
              "      display: none;\n",
              "      fill: #1967D2;\n",
              "      height: 32px;\n",
              "      padding: 0 0 0 0;\n",
              "      width: 32px;\n",
              "    }\n",
              "\n",
              "    .colab-df-convert:hover {\n",
              "      background-color: #E2EBFA;\n",
              "      box-shadow: 0px 1px 2px rgba(60, 64, 67, 0.3), 0px 1px 3px 1px rgba(60, 64, 67, 0.15);\n",
              "      fill: #174EA6;\n",
              "    }\n",
              "\n",
              "    [theme=dark] .colab-df-convert {\n",
              "      background-color: #3B4455;\n",
              "      fill: #D2E3FC;\n",
              "    }\n",
              "\n",
              "    [theme=dark] .colab-df-convert:hover {\n",
              "      background-color: #434B5C;\n",
              "      box-shadow: 0px 1px 3px 1px rgba(0, 0, 0, 0.15);\n",
              "      filter: drop-shadow(0px 1px 2px rgba(0, 0, 0, 0.3));\n",
              "      fill: #FFFFFF;\n",
              "    }\n",
              "  </style>\n",
              "\n",
              "      <script>\n",
              "        const buttonEl =\n",
              "          document.querySelector('#df-20ae2321-a9d7-4ec5-bbe4-6ffae15e4dfc button.colab-df-convert');\n",
              "        buttonEl.style.display =\n",
              "          google.colab.kernel.accessAllowed ? 'block' : 'none';\n",
              "\n",
              "        async function convertToInteractive(key) {\n",
              "          const element = document.querySelector('#df-20ae2321-a9d7-4ec5-bbe4-6ffae15e4dfc');\n",
              "          const dataTable =\n",
              "            await google.colab.kernel.invokeFunction('convertToInteractive',\n",
              "                                                     [key], {});\n",
              "          if (!dataTable) return;\n",
              "\n",
              "          const docLinkHtml = 'Like what you see? Visit the ' +\n",
              "            '<a target=\"_blank\" href=https://colab.research.google.com/notebooks/data_table.ipynb>data table notebook</a>'\n",
              "            + ' to learn more about interactive tables.';\n",
              "          element.innerHTML = '';\n",
              "          dataTable['output_type'] = 'display_data';\n",
              "          await google.colab.output.renderOutput(dataTable, element);\n",
              "          const docLink = document.createElement('div');\n",
              "          docLink.innerHTML = docLinkHtml;\n",
              "          element.appendChild(docLink);\n",
              "        }\n",
              "      </script>\n",
              "    </div>\n",
              "  </div>\n",
              "  "
            ]
          },
          "metadata": {},
          "execution_count": 18
        }
      ]
    },
    {
      "cell_type": "code",
      "source": [
        "len(testing_set)"
      ],
      "metadata": {
        "colab": {
          "base_uri": "https://localhost:8080/"
        },
        "id": "N_u-i6rj1Wnu",
        "outputId": "69139b27-99b0-4013-cd42-58a6b7659e07"
      },
      "execution_count": null,
      "outputs": [
        {
          "output_type": "execute_result",
          "data": {
            "text/plain": [
              "10000"
            ]
          },
          "metadata": {},
          "execution_count": 19
        }
      ]
    },
    {
      "cell_type": "code",
      "source": [
        "BERT_MODEL = 'bert-base-uncased'\n",
        "MAX_LEN = 160\n",
        "\n",
        "tokenizer = transformers.BertTokenizer.from_pretrained(BERT_MODEL)\n",
        "model_pred=[]\n",
        "score=[]\n",
        "aspect_category=[]\n",
        "text_list=[]\n",
        "test_id=[]\n",
        "polarity=[]\n",
        "\n",
        "count=0\n",
        "for each_example in testing_set.itertuples():\n",
        "  count+=1\n",
        "  id = int(each_example.id)\n",
        "  text_=each_example.text\n",
        "  text = each_example.text.strip()\n",
        "  each_example=list(each_example)\n",
        "\n",
        "\n",
        "  for aspect in aspects:\n",
        "    inputs = tokenizer.encode_plus(\n",
        "        text,\n",
        "        add_special_tokens = True,\n",
        "        max_length = MAX_LEN,\n",
        "        pad_to_max_length = True\n",
        "    )\n",
        "    ids = torch.tensor(inputs[\"input_ids\"], dtype=torch.long).unsqueeze(0)\n",
        "    mask = torch.tensor(inputs[\"attention_mask\"], dtype=torch.long).unsqueeze(0)\n",
        "    token_type_ids = torch.tensor(inputs[\"token_type_ids\"], dtype=torch.long).unsqueeze(0)\n",
        "\n",
        "    ids = ids.to(device, dtype=torch.long)\n",
        "    mask = mask.to(device, dtype=torch.long)\n",
        "    token_type_ids = token_type_ids.to(device, dtype=torch.long)\n",
        "\n",
        "    model = models_dict[f\"{aspect}\"]\n",
        "    outputs = model(ids=ids, mask=mask, token_type_ids=token_type_ids)\n",
        " \n",
        "\n",
        "    _, predicted = torch.max(outputs, 1)\n",
        "\n",
        "    predicted = predicted.detach().cpu().numpy()\n",
        "    predict_polarity=predicted[0]\n",
        "    predict_score=outputs[0][predict_polarity].item()\n",
        "\n",
        "    #append\n",
        "    score.append(predict_score)\n",
        "    test_id.append(id)\n",
        "    aspect_category.append(aspect)\n",
        "    text_list.append(text_)\n",
        "\n",
        "    polarity.append(predicted[0])\n",
        "\n",
        "\n"
      ],
      "metadata": {
        "id": "mH9onCHb2q82"
      },
      "execution_count": null,
      "outputs": []
    },
    {
      "cell_type": "code",
      "source": [
        "dict_ = {'id': test_id, 'text': text_list, 'aspect': aspect_category,'aspect_score':score,'polarity':polarity} \n",
        "df = pd.DataFrame(dict_)"
      ],
      "metadata": {
        "id": "NQVssIM-2q9C"
      },
      "execution_count": null,
      "outputs": []
    },
    {
      "cell_type": "code",
      "source": [
        "df.aspect_score = (df.aspect_score - np.min(df.aspect_score))/(np.max(df.aspect_score)-np.min(df.aspect_score))\n",
        "print(df)"
      ],
      "metadata": {
        "id": "m1XJvNaa2q9C",
        "colab": {
          "base_uri": "https://localhost:8080/"
        },
        "outputId": "8cb96ebf-9447-4e63-cdda-bd51ecca7ef3"
      },
      "execution_count": null,
      "outputs": [
        {
          "output_type": "stream",
          "name": "stdout",
          "text": [
            "          id                                               text  \\\n",
            "0          1  Thank you thank you thank you I want to thank ...   \n",
            "1          1  Thank you thank you thank you I want to thank ...   \n",
            "2          1  Thank you thank you thank you I want to thank ...   \n",
            "3          1  Thank you thank you thank you I want to thank ...   \n",
            "4          1  Thank you thank you thank you I want to thank ...   \n",
            "...      ...                                                ...   \n",
            "79995  10000  I would have to say this is my absolute FAVORI...   \n",
            "79996  10000  I would have to say this is my absolute FAVORI...   \n",
            "79997  10000  I would have to say this is my absolute FAVORI...   \n",
            "79998  10000  I would have to say this is my absolute FAVORI...   \n",
            "79999  10000  I would have to say this is my absolute FAVORI...   \n",
            "\n",
            "              aspect  aspect_score  polarity  \n",
            "0               food      0.927050         0  \n",
            "1              staff      0.292653         2  \n",
            "2      miscellaneous      0.568492         0  \n",
            "3              place      0.463867         0  \n",
            "4            service      0.186245         2  \n",
            "...              ...           ...       ...  \n",
            "79995          place      0.595702         0  \n",
            "79996        service      0.127324         2  \n",
            "79997           menu      0.283392         2  \n",
            "79998       ambience      0.402770         2  \n",
            "79999          price      0.152437         2  \n",
            "\n",
            "[80000 rows x 5 columns]\n"
          ]
        }
      ]
    },
    {
      "cell_type": "code",
      "source": [
        "len(df)"
      ],
      "metadata": {
        "id": "F9i5cqxR5eqL",
        "colab": {
          "base_uri": "https://localhost:8080/"
        },
        "outputId": "f34bb616-c0b4-4584-e693-821b901004b4"
      },
      "execution_count": null,
      "outputs": [
        {
          "output_type": "execute_result",
          "data": {
            "text/plain": [
              "80000"
            ]
          },
          "metadata": {},
          "execution_count": 26
        }
      ]
    },
    {
      "cell_type": "code",
      "source": [
        "'''\n",
        "polarity_new=[]\n",
        "for each_example in df.itertuples():\n",
        "  if each_example.polarity==0:\n",
        "    polarity_new.append(\"positive\")\n",
        "  elif each_example.polarity==1:\n",
        "    polarity_new.append(\"negative\")\n",
        "  else:\n",
        "    polarity_new.append(\"neutral\")\n",
        "\n",
        "df['polarity']=polarity_new'''\n",
        "predicted_df = df\n",
        "#predicted_df= df[df.aspect_score>=0.4]\n",
        "print(predicted_df)"
      ],
      "metadata": {
        "id": "npszjYkE2q9D"
      },
      "execution_count": null,
      "outputs": []
    },
    {
      "cell_type": "code",
      "source": [
        "predicted_df.to_csv(\"hello.csv\",index=False)"
      ],
      "metadata": {
        "id": "M14IxFx62q9D",
        "colab": {
          "base_uri": "https://localhost:8080/",
          "height": 165
        },
        "outputId": "0f2d063e-df92-4ed3-9c05-c8c8570bd29c"
      },
      "execution_count": null,
      "outputs": [
        {
          "output_type": "error",
          "ename": "NameError",
          "evalue": "ignored",
          "traceback": [
            "\u001b[0;31m---------------------------------------------------------------------------\u001b[0m",
            "\u001b[0;31mNameError\u001b[0m                                 Traceback (most recent call last)",
            "\u001b[0;32m<ipython-input-27-5f2876d62ded>\u001b[0m in \u001b[0;36m<module>\u001b[0;34m()\u001b[0m\n\u001b[0;32m----> 1\u001b[0;31m \u001b[0mpredicted_df\u001b[0m\u001b[0;34m.\u001b[0m\u001b[0mto_csv\u001b[0m\u001b[0;34m(\u001b[0m\u001b[0;34m\"hello.csv\"\u001b[0m\u001b[0;34m,\u001b[0m\u001b[0mindex\u001b[0m\u001b[0;34m=\u001b[0m\u001b[0;32mFalse\u001b[0m\u001b[0;34m)\u001b[0m\u001b[0;34m\u001b[0m\u001b[0;34m\u001b[0m\u001b[0m\n\u001b[0m",
            "\u001b[0;31mNameError\u001b[0m: name 'predicted_df' is not defined"
          ]
        }
      ]
    },
    {
      "cell_type": "code",
      "source": [
        "df=pd.read_csv(\"hello.csv\")"
      ],
      "metadata": {
        "id": "Ed9rXVOg2q9D"
      },
      "execution_count": null,
      "outputs": []
    },
    {
      "cell_type": "code",
      "source": [
        "df.head(20)"
      ],
      "metadata": {
        "id": "b2KK2t8Y2q9E",
        "colab": {
          "base_uri": "https://localhost:8080/",
          "height": 677
        },
        "outputId": "5268023c-06c2-4394-ce88-b29572d505c7"
      },
      "execution_count": null,
      "outputs": [
        {
          "output_type": "execute_result",
          "data": {
            "text/plain": [
              "    id                                               text         aspect  \\\n",
              "0    1  Thank you thank you thank you I want to thank ...           food   \n",
              "1    1  Thank you thank you thank you I want to thank ...          staff   \n",
              "2    1  Thank you thank you thank you I want to thank ...  miscellaneous   \n",
              "3    1  Thank you thank you thank you I want to thank ...          place   \n",
              "4    1  Thank you thank you thank you I want to thank ...        service   \n",
              "5    1  Thank you thank you thank you I want to thank ...           menu   \n",
              "6    1  Thank you thank you thank you I want to thank ...       ambience   \n",
              "7    1  Thank you thank you thank you I want to thank ...          price   \n",
              "8    2  A Humane Society store at the Biltmore Interes...           food   \n",
              "9    2  A Humane Society store at the Biltmore Interes...          staff   \n",
              "10   2  A Humane Society store at the Biltmore Interes...  miscellaneous   \n",
              "11   2  A Humane Society store at the Biltmore Interes...          place   \n",
              "12   2  A Humane Society store at the Biltmore Interes...        service   \n",
              "13   2  A Humane Society store at the Biltmore Interes...           menu   \n",
              "14   2  A Humane Society store at the Biltmore Interes...       ambience   \n",
              "15   2  A Humane Society store at the Biltmore Interes...          price   \n",
              "16   3  Dont buy Nike sneaker if you want to return or...           food   \n",
              "17   3  Dont buy Nike sneaker if you want to return or...          staff   \n",
              "18   3  Dont buy Nike sneaker if you want to return or...  miscellaneous   \n",
              "19   3  Dont buy Nike sneaker if you want to return or...          place   \n",
              "\n",
              "    aspect_score  polarity  \n",
              "0       0.927050         0  \n",
              "1       0.292653         2  \n",
              "2       0.568492         0  \n",
              "3       0.463867         0  \n",
              "4       0.186245         2  \n",
              "5       0.188491         1  \n",
              "6       0.457987         2  \n",
              "7       0.165106         2  \n",
              "8       0.325218         2  \n",
              "9       0.578940         0  \n",
              "10      0.520956         2  \n",
              "11      0.476244         0  \n",
              "12      0.301451         2  \n",
              "13      0.232109         2  \n",
              "14      0.477681         2  \n",
              "15      0.182522         2  \n",
              "16      0.638312         2  \n",
              "17      0.620763         1  \n",
              "18      0.483359         2  \n",
              "19      0.358231         0  "
            ],
            "text/html": [
              "\n",
              "  <div id=\"df-bb259e5b-8583-44eb-bf41-f0c4d3825515\">\n",
              "    <div class=\"colab-df-container\">\n",
              "      <div>\n",
              "<style scoped>\n",
              "    .dataframe tbody tr th:only-of-type {\n",
              "        vertical-align: middle;\n",
              "    }\n",
              "\n",
              "    .dataframe tbody tr th {\n",
              "        vertical-align: top;\n",
              "    }\n",
              "\n",
              "    .dataframe thead th {\n",
              "        text-align: right;\n",
              "    }\n",
              "</style>\n",
              "<table border=\"1\" class=\"dataframe\">\n",
              "  <thead>\n",
              "    <tr style=\"text-align: right;\">\n",
              "      <th></th>\n",
              "      <th>id</th>\n",
              "      <th>text</th>\n",
              "      <th>aspect</th>\n",
              "      <th>aspect_score</th>\n",
              "      <th>polarity</th>\n",
              "    </tr>\n",
              "  </thead>\n",
              "  <tbody>\n",
              "    <tr>\n",
              "      <th>0</th>\n",
              "      <td>1</td>\n",
              "      <td>Thank you thank you thank you I want to thank ...</td>\n",
              "      <td>food</td>\n",
              "      <td>0.927050</td>\n",
              "      <td>0</td>\n",
              "    </tr>\n",
              "    <tr>\n",
              "      <th>1</th>\n",
              "      <td>1</td>\n",
              "      <td>Thank you thank you thank you I want to thank ...</td>\n",
              "      <td>staff</td>\n",
              "      <td>0.292653</td>\n",
              "      <td>2</td>\n",
              "    </tr>\n",
              "    <tr>\n",
              "      <th>2</th>\n",
              "      <td>1</td>\n",
              "      <td>Thank you thank you thank you I want to thank ...</td>\n",
              "      <td>miscellaneous</td>\n",
              "      <td>0.568492</td>\n",
              "      <td>0</td>\n",
              "    </tr>\n",
              "    <tr>\n",
              "      <th>3</th>\n",
              "      <td>1</td>\n",
              "      <td>Thank you thank you thank you I want to thank ...</td>\n",
              "      <td>place</td>\n",
              "      <td>0.463867</td>\n",
              "      <td>0</td>\n",
              "    </tr>\n",
              "    <tr>\n",
              "      <th>4</th>\n",
              "      <td>1</td>\n",
              "      <td>Thank you thank you thank you I want to thank ...</td>\n",
              "      <td>service</td>\n",
              "      <td>0.186245</td>\n",
              "      <td>2</td>\n",
              "    </tr>\n",
              "    <tr>\n",
              "      <th>5</th>\n",
              "      <td>1</td>\n",
              "      <td>Thank you thank you thank you I want to thank ...</td>\n",
              "      <td>menu</td>\n",
              "      <td>0.188491</td>\n",
              "      <td>1</td>\n",
              "    </tr>\n",
              "    <tr>\n",
              "      <th>6</th>\n",
              "      <td>1</td>\n",
              "      <td>Thank you thank you thank you I want to thank ...</td>\n",
              "      <td>ambience</td>\n",
              "      <td>0.457987</td>\n",
              "      <td>2</td>\n",
              "    </tr>\n",
              "    <tr>\n",
              "      <th>7</th>\n",
              "      <td>1</td>\n",
              "      <td>Thank you thank you thank you I want to thank ...</td>\n",
              "      <td>price</td>\n",
              "      <td>0.165106</td>\n",
              "      <td>2</td>\n",
              "    </tr>\n",
              "    <tr>\n",
              "      <th>8</th>\n",
              "      <td>2</td>\n",
              "      <td>A Humane Society store at the Biltmore Interes...</td>\n",
              "      <td>food</td>\n",
              "      <td>0.325218</td>\n",
              "      <td>2</td>\n",
              "    </tr>\n",
              "    <tr>\n",
              "      <th>9</th>\n",
              "      <td>2</td>\n",
              "      <td>A Humane Society store at the Biltmore Interes...</td>\n",
              "      <td>staff</td>\n",
              "      <td>0.578940</td>\n",
              "      <td>0</td>\n",
              "    </tr>\n",
              "    <tr>\n",
              "      <th>10</th>\n",
              "      <td>2</td>\n",
              "      <td>A Humane Society store at the Biltmore Interes...</td>\n",
              "      <td>miscellaneous</td>\n",
              "      <td>0.520956</td>\n",
              "      <td>2</td>\n",
              "    </tr>\n",
              "    <tr>\n",
              "      <th>11</th>\n",
              "      <td>2</td>\n",
              "      <td>A Humane Society store at the Biltmore Interes...</td>\n",
              "      <td>place</td>\n",
              "      <td>0.476244</td>\n",
              "      <td>0</td>\n",
              "    </tr>\n",
              "    <tr>\n",
              "      <th>12</th>\n",
              "      <td>2</td>\n",
              "      <td>A Humane Society store at the Biltmore Interes...</td>\n",
              "      <td>service</td>\n",
              "      <td>0.301451</td>\n",
              "      <td>2</td>\n",
              "    </tr>\n",
              "    <tr>\n",
              "      <th>13</th>\n",
              "      <td>2</td>\n",
              "      <td>A Humane Society store at the Biltmore Interes...</td>\n",
              "      <td>menu</td>\n",
              "      <td>0.232109</td>\n",
              "      <td>2</td>\n",
              "    </tr>\n",
              "    <tr>\n",
              "      <th>14</th>\n",
              "      <td>2</td>\n",
              "      <td>A Humane Society store at the Biltmore Interes...</td>\n",
              "      <td>ambience</td>\n",
              "      <td>0.477681</td>\n",
              "      <td>2</td>\n",
              "    </tr>\n",
              "    <tr>\n",
              "      <th>15</th>\n",
              "      <td>2</td>\n",
              "      <td>A Humane Society store at the Biltmore Interes...</td>\n",
              "      <td>price</td>\n",
              "      <td>0.182522</td>\n",
              "      <td>2</td>\n",
              "    </tr>\n",
              "    <tr>\n",
              "      <th>16</th>\n",
              "      <td>3</td>\n",
              "      <td>Dont buy Nike sneaker if you want to return or...</td>\n",
              "      <td>food</td>\n",
              "      <td>0.638312</td>\n",
              "      <td>2</td>\n",
              "    </tr>\n",
              "    <tr>\n",
              "      <th>17</th>\n",
              "      <td>3</td>\n",
              "      <td>Dont buy Nike sneaker if you want to return or...</td>\n",
              "      <td>staff</td>\n",
              "      <td>0.620763</td>\n",
              "      <td>1</td>\n",
              "    </tr>\n",
              "    <tr>\n",
              "      <th>18</th>\n",
              "      <td>3</td>\n",
              "      <td>Dont buy Nike sneaker if you want to return or...</td>\n",
              "      <td>miscellaneous</td>\n",
              "      <td>0.483359</td>\n",
              "      <td>2</td>\n",
              "    </tr>\n",
              "    <tr>\n",
              "      <th>19</th>\n",
              "      <td>3</td>\n",
              "      <td>Dont buy Nike sneaker if you want to return or...</td>\n",
              "      <td>place</td>\n",
              "      <td>0.358231</td>\n",
              "      <td>0</td>\n",
              "    </tr>\n",
              "  </tbody>\n",
              "</table>\n",
              "</div>\n",
              "      <button class=\"colab-df-convert\" onclick=\"convertToInteractive('df-bb259e5b-8583-44eb-bf41-f0c4d3825515')\"\n",
              "              title=\"Convert this dataframe to an interactive table.\"\n",
              "              style=\"display:none;\">\n",
              "        \n",
              "  <svg xmlns=\"http://www.w3.org/2000/svg\" height=\"24px\"viewBox=\"0 0 24 24\"\n",
              "       width=\"24px\">\n",
              "    <path d=\"M0 0h24v24H0V0z\" fill=\"none\"/>\n",
              "    <path d=\"M18.56 5.44l.94 2.06.94-2.06 2.06-.94-2.06-.94-.94-2.06-.94 2.06-2.06.94zm-11 1L8.5 8.5l.94-2.06 2.06-.94-2.06-.94L8.5 2.5l-.94 2.06-2.06.94zm10 10l.94 2.06.94-2.06 2.06-.94-2.06-.94-.94-2.06-.94 2.06-2.06.94z\"/><path d=\"M17.41 7.96l-1.37-1.37c-.4-.4-.92-.59-1.43-.59-.52 0-1.04.2-1.43.59L10.3 9.45l-7.72 7.72c-.78.78-.78 2.05 0 2.83L4 21.41c.39.39.9.59 1.41.59.51 0 1.02-.2 1.41-.59l7.78-7.78 2.81-2.81c.8-.78.8-2.07 0-2.86zM5.41 20L4 18.59l7.72-7.72 1.47 1.35L5.41 20z\"/>\n",
              "  </svg>\n",
              "      </button>\n",
              "      \n",
              "  <style>\n",
              "    .colab-df-container {\n",
              "      display:flex;\n",
              "      flex-wrap:wrap;\n",
              "      gap: 12px;\n",
              "    }\n",
              "\n",
              "    .colab-df-convert {\n",
              "      background-color: #E8F0FE;\n",
              "      border: none;\n",
              "      border-radius: 50%;\n",
              "      cursor: pointer;\n",
              "      display: none;\n",
              "      fill: #1967D2;\n",
              "      height: 32px;\n",
              "      padding: 0 0 0 0;\n",
              "      width: 32px;\n",
              "    }\n",
              "\n",
              "    .colab-df-convert:hover {\n",
              "      background-color: #E2EBFA;\n",
              "      box-shadow: 0px 1px 2px rgba(60, 64, 67, 0.3), 0px 1px 3px 1px rgba(60, 64, 67, 0.15);\n",
              "      fill: #174EA6;\n",
              "    }\n",
              "\n",
              "    [theme=dark] .colab-df-convert {\n",
              "      background-color: #3B4455;\n",
              "      fill: #D2E3FC;\n",
              "    }\n",
              "\n",
              "    [theme=dark] .colab-df-convert:hover {\n",
              "      background-color: #434B5C;\n",
              "      box-shadow: 0px 1px 3px 1px rgba(0, 0, 0, 0.15);\n",
              "      filter: drop-shadow(0px 1px 2px rgba(0, 0, 0, 0.3));\n",
              "      fill: #FFFFFF;\n",
              "    }\n",
              "  </style>\n",
              "\n",
              "      <script>\n",
              "        const buttonEl =\n",
              "          document.querySelector('#df-bb259e5b-8583-44eb-bf41-f0c4d3825515 button.colab-df-convert');\n",
              "        buttonEl.style.display =\n",
              "          google.colab.kernel.accessAllowed ? 'block' : 'none';\n",
              "\n",
              "        async function convertToInteractive(key) {\n",
              "          const element = document.querySelector('#df-bb259e5b-8583-44eb-bf41-f0c4d3825515');\n",
              "          const dataTable =\n",
              "            await google.colab.kernel.invokeFunction('convertToInteractive',\n",
              "                                                     [key], {});\n",
              "          if (!dataTable) return;\n",
              "\n",
              "          const docLinkHtml = 'Like what you see? Visit the ' +\n",
              "            '<a target=\"_blank\" href=https://colab.research.google.com/notebooks/data_table.ipynb>data table notebook</a>'\n",
              "            + ' to learn more about interactive tables.';\n",
              "          element.innerHTML = '';\n",
              "          dataTable['output_type'] = 'display_data';\n",
              "          await google.colab.output.renderOutput(dataTable, element);\n",
              "          const docLink = document.createElement('div');\n",
              "          docLink.innerHTML = docLinkHtml;\n",
              "          element.appendChild(docLink);\n",
              "        }\n",
              "      </script>\n",
              "    </div>\n",
              "  </div>\n",
              "  "
            ]
          },
          "metadata": {},
          "execution_count": 28
        }
      ]
    },
    {
      "cell_type": "code",
      "source": [
        "aspects = [\"food\", \"staff\", \"miscellaneous\", \"place\",\"service\",\"menu\",\"ambience\",\"price\"]"
      ],
      "metadata": {
        "id": "8Ft9HBVq2q9E"
      },
      "execution_count": null,
      "outputs": []
    },
    {
      "cell_type": "code",
      "source": [
        "\n",
        "text=[]\n",
        "food=[]\n",
        "staff=[]\n",
        "miscellaneous=[]\n",
        "place=[]\n",
        "service=[]\n",
        "menu=[]\n",
        "ambience=[]\n",
        "price=[]\n",
        "for i in range(0,len(df),8):\n",
        "      text.append(df.text[i])\n",
        "      food.append(df.polarity[i])\n",
        "      staff.append(df.polarity[i+1])\n",
        "      miscellaneous.append(df.polarity[i+2])\n",
        "      place.append(df.polarity[i+3])\n",
        "      service.append(df.polarity[i+4])\n",
        "      menu.append(df.polarity[i+5])\n",
        "      ambience.append(df.polarity[i+6])\n",
        "      \n",
        "      price.append(df.polarity[i+7])\n",
        "   \n",
        "\n",
        "new_df2 = pd.DataFrame(list(zip(text,food, staff,miscellaneous,place,service,menu,ambience,price,new_rat)),\n",
        "                       columns =['text', \"food\", \"staff\", \"miscellaneous\", \"place\",\"service\",\"menu\",\"ambience\",\"price\",\"Ratings\"])"
      ],
      "metadata": {
        "id": "hUtF9lJN7GQU"
      },
      "execution_count": null,
      "outputs": []
    },
    {
      "cell_type": "code",
      "source": [
        "new_df2.head()"
      ],
      "metadata": {
        "id": "vWK1Vpm8-xzI",
        "colab": {
          "base_uri": "https://localhost:8080/",
          "height": 206
        },
        "outputId": "c020a07c-979c-42b5-a87c-8b8e6b590463"
      },
      "execution_count": null,
      "outputs": [
        {
          "output_type": "execute_result",
          "data": {
            "text/plain": [
              "                                                text  food  staff  \\\n",
              "0  Thank you thank you thank you I want to thank ...     0      2   \n",
              "1  A Humane Society store at the Biltmore Interes...     2      0   \n",
              "2  Dont buy Nike sneaker if you want to return or...     2      1   \n",
              "3  I have to say I love most thing about Sprouts ...     0      2   \n",
              "4  The tire pressure light came on a day or so ag...     2      1   \n",
              "\n",
              "   miscellaneous  place  service  menu  ambience  price  Ratings  \n",
              "0              0      0        2     1         2      2        4  \n",
              "1              2      0        2     2         2      2        5  \n",
              "2              2      0        1     2         2      1        1  \n",
              "3              0      0        1     2         2      1        3  \n",
              "4              2      2        2     2         2      2        5  "
            ],
            "text/html": [
              "\n",
              "  <div id=\"df-73431a2c-63a6-4b99-ad05-6c331058fe50\">\n",
              "    <div class=\"colab-df-container\">\n",
              "      <div>\n",
              "<style scoped>\n",
              "    .dataframe tbody tr th:only-of-type {\n",
              "        vertical-align: middle;\n",
              "    }\n",
              "\n",
              "    .dataframe tbody tr th {\n",
              "        vertical-align: top;\n",
              "    }\n",
              "\n",
              "    .dataframe thead th {\n",
              "        text-align: right;\n",
              "    }\n",
              "</style>\n",
              "<table border=\"1\" class=\"dataframe\">\n",
              "  <thead>\n",
              "    <tr style=\"text-align: right;\">\n",
              "      <th></th>\n",
              "      <th>text</th>\n",
              "      <th>food</th>\n",
              "      <th>staff</th>\n",
              "      <th>miscellaneous</th>\n",
              "      <th>place</th>\n",
              "      <th>service</th>\n",
              "      <th>menu</th>\n",
              "      <th>ambience</th>\n",
              "      <th>price</th>\n",
              "      <th>Ratings</th>\n",
              "    </tr>\n",
              "  </thead>\n",
              "  <tbody>\n",
              "    <tr>\n",
              "      <th>0</th>\n",
              "      <td>Thank you thank you thank you I want to thank ...</td>\n",
              "      <td>0</td>\n",
              "      <td>2</td>\n",
              "      <td>0</td>\n",
              "      <td>0</td>\n",
              "      <td>2</td>\n",
              "      <td>1</td>\n",
              "      <td>2</td>\n",
              "      <td>2</td>\n",
              "      <td>4</td>\n",
              "    </tr>\n",
              "    <tr>\n",
              "      <th>1</th>\n",
              "      <td>A Humane Society store at the Biltmore Interes...</td>\n",
              "      <td>2</td>\n",
              "      <td>0</td>\n",
              "      <td>2</td>\n",
              "      <td>0</td>\n",
              "      <td>2</td>\n",
              "      <td>2</td>\n",
              "      <td>2</td>\n",
              "      <td>2</td>\n",
              "      <td>5</td>\n",
              "    </tr>\n",
              "    <tr>\n",
              "      <th>2</th>\n",
              "      <td>Dont buy Nike sneaker if you want to return or...</td>\n",
              "      <td>2</td>\n",
              "      <td>1</td>\n",
              "      <td>2</td>\n",
              "      <td>0</td>\n",
              "      <td>1</td>\n",
              "      <td>2</td>\n",
              "      <td>2</td>\n",
              "      <td>1</td>\n",
              "      <td>1</td>\n",
              "    </tr>\n",
              "    <tr>\n",
              "      <th>3</th>\n",
              "      <td>I have to say I love most thing about Sprouts ...</td>\n",
              "      <td>0</td>\n",
              "      <td>2</td>\n",
              "      <td>0</td>\n",
              "      <td>0</td>\n",
              "      <td>1</td>\n",
              "      <td>2</td>\n",
              "      <td>2</td>\n",
              "      <td>1</td>\n",
              "      <td>3</td>\n",
              "    </tr>\n",
              "    <tr>\n",
              "      <th>4</th>\n",
              "      <td>The tire pressure light came on a day or so ag...</td>\n",
              "      <td>2</td>\n",
              "      <td>1</td>\n",
              "      <td>2</td>\n",
              "      <td>2</td>\n",
              "      <td>2</td>\n",
              "      <td>2</td>\n",
              "      <td>2</td>\n",
              "      <td>2</td>\n",
              "      <td>5</td>\n",
              "    </tr>\n",
              "  </tbody>\n",
              "</table>\n",
              "</div>\n",
              "      <button class=\"colab-df-convert\" onclick=\"convertToInteractive('df-73431a2c-63a6-4b99-ad05-6c331058fe50')\"\n",
              "              title=\"Convert this dataframe to an interactive table.\"\n",
              "              style=\"display:none;\">\n",
              "        \n",
              "  <svg xmlns=\"http://www.w3.org/2000/svg\" height=\"24px\"viewBox=\"0 0 24 24\"\n",
              "       width=\"24px\">\n",
              "    <path d=\"M0 0h24v24H0V0z\" fill=\"none\"/>\n",
              "    <path d=\"M18.56 5.44l.94 2.06.94-2.06 2.06-.94-2.06-.94-.94-2.06-.94 2.06-2.06.94zm-11 1L8.5 8.5l.94-2.06 2.06-.94-2.06-.94L8.5 2.5l-.94 2.06-2.06.94zm10 10l.94 2.06.94-2.06 2.06-.94-2.06-.94-.94-2.06-.94 2.06-2.06.94z\"/><path d=\"M17.41 7.96l-1.37-1.37c-.4-.4-.92-.59-1.43-.59-.52 0-1.04.2-1.43.59L10.3 9.45l-7.72 7.72c-.78.78-.78 2.05 0 2.83L4 21.41c.39.39.9.59 1.41.59.51 0 1.02-.2 1.41-.59l7.78-7.78 2.81-2.81c.8-.78.8-2.07 0-2.86zM5.41 20L4 18.59l7.72-7.72 1.47 1.35L5.41 20z\"/>\n",
              "  </svg>\n",
              "      </button>\n",
              "      \n",
              "  <style>\n",
              "    .colab-df-container {\n",
              "      display:flex;\n",
              "      flex-wrap:wrap;\n",
              "      gap: 12px;\n",
              "    }\n",
              "\n",
              "    .colab-df-convert {\n",
              "      background-color: #E8F0FE;\n",
              "      border: none;\n",
              "      border-radius: 50%;\n",
              "      cursor: pointer;\n",
              "      display: none;\n",
              "      fill: #1967D2;\n",
              "      height: 32px;\n",
              "      padding: 0 0 0 0;\n",
              "      width: 32px;\n",
              "    }\n",
              "\n",
              "    .colab-df-convert:hover {\n",
              "      background-color: #E2EBFA;\n",
              "      box-shadow: 0px 1px 2px rgba(60, 64, 67, 0.3), 0px 1px 3px 1px rgba(60, 64, 67, 0.15);\n",
              "      fill: #174EA6;\n",
              "    }\n",
              "\n",
              "    [theme=dark] .colab-df-convert {\n",
              "      background-color: #3B4455;\n",
              "      fill: #D2E3FC;\n",
              "    }\n",
              "\n",
              "    [theme=dark] .colab-df-convert:hover {\n",
              "      background-color: #434B5C;\n",
              "      box-shadow: 0px 1px 3px 1px rgba(0, 0, 0, 0.15);\n",
              "      filter: drop-shadow(0px 1px 2px rgba(0, 0, 0, 0.3));\n",
              "      fill: #FFFFFF;\n",
              "    }\n",
              "  </style>\n",
              "\n",
              "      <script>\n",
              "        const buttonEl =\n",
              "          document.querySelector('#df-73431a2c-63a6-4b99-ad05-6c331058fe50 button.colab-df-convert');\n",
              "        buttonEl.style.display =\n",
              "          google.colab.kernel.accessAllowed ? 'block' : 'none';\n",
              "\n",
              "        async function convertToInteractive(key) {\n",
              "          const element = document.querySelector('#df-73431a2c-63a6-4b99-ad05-6c331058fe50');\n",
              "          const dataTable =\n",
              "            await google.colab.kernel.invokeFunction('convertToInteractive',\n",
              "                                                     [key], {});\n",
              "          if (!dataTable) return;\n",
              "\n",
              "          const docLinkHtml = 'Like what you see? Visit the ' +\n",
              "            '<a target=\"_blank\" href=https://colab.research.google.com/notebooks/data_table.ipynb>data table notebook</a>'\n",
              "            + ' to learn more about interactive tables.';\n",
              "          element.innerHTML = '';\n",
              "          dataTable['output_type'] = 'display_data';\n",
              "          await google.colab.output.renderOutput(dataTable, element);\n",
              "          const docLink = document.createElement('div');\n",
              "          docLink.innerHTML = docLinkHtml;\n",
              "          element.appendChild(docLink);\n",
              "        }\n",
              "      </script>\n",
              "    </div>\n",
              "  </div>\n",
              "  "
            ]
          },
          "metadata": {},
          "execution_count": 31
        }
      ]
    },
    {
      "cell_type": "code",
      "source": [
        "new_df2.to_csv(\"for_ppt.csv\",index=False)"
      ],
      "metadata": {
        "id": "TwGBGloyMLfj"
      },
      "execution_count": null,
      "outputs": []
    },
    {
      "cell_type": "code",
      "source": [
        "len(new_df2)"
      ],
      "metadata": {
        "colab": {
          "base_uri": "https://localhost:8080/"
        },
        "id": "tPo2gJnRaDXi",
        "outputId": "ceecdd53-2f6d-40a3-aca4-c1dc5f0514fa"
      },
      "execution_count": null,
      "outputs": [
        {
          "output_type": "execute_result",
          "data": {
            "text/plain": [
              "10000"
            ]
          },
          "metadata": {},
          "execution_count": 33
        }
      ]
    },
    {
      "cell_type": "code",
      "source": [
        "y= new_df2.Ratings\n",
        "X= new_df2.iloc[:,1:9]"
      ],
      "metadata": {
        "id": "l-W-AUdNEFCl"
      },
      "execution_count": null,
      "outputs": []
    },
    {
      "cell_type": "code",
      "source": [
        "from sklearn import svm\n",
        "from sklearn.preprocessing import StandardScaler\n",
        "from sklearn.metrics import roc_curve\n",
        "from sklearn.model_selection import train_test_split\n",
        "\n",
        "from sklearn.ensemble import RandomForestClassifier\n",
        "from sklearn.tree import DecisionTreeClassifier\n",
        "import xgboost as xgb"
      ],
      "metadata": {
        "id": "2phpxaHd_Q3E"
      },
      "execution_count": null,
      "outputs": []
    },
    {
      "cell_type": "code",
      "source": [
        "X_train, X_test, y_train, y_test = train_test_split(X, y, test_size=0.3, random_state=42)"
      ],
      "metadata": {
        "id": "bf_Q17HWCp5U"
      },
      "execution_count": null,
      "outputs": []
    },
    {
      "cell_type": "code",
      "source": [
        "len(X_train)"
      ],
      "metadata": {
        "id": "8pJiSmt4F8py"
      },
      "execution_count": null,
      "outputs": []
    },
    {
      "cell_type": "code",
      "source": [
        "def accuracy(y_true, y_pred):\n",
        "    accuracy = np.sum(y_true == y_pred) / len(y_true)\n",
        "    return accuracy\n",
        "\n"
      ],
      "metadata": {
        "id": "GQzGL2y8EuIS"
      },
      "execution_count": null,
      "outputs": []
    },
    {
      "cell_type": "markdown",
      "source": [
        "#SVM"
      ],
      "metadata": {
        "id": "owg3QOzTGc7U"
      }
    },
    {
      "cell_type": "code",
      "source": [
        "model = svm.SVC()\n",
        "svm_model = model.fit(X_train,y_train)"
      ],
      "metadata": {
        "id": "q5K0TBZXEcQU"
      },
      "execution_count": null,
      "outputs": []
    },
    {
      "cell_type": "code",
      "source": [
        "X_test_pred = svm_model.predict(X_test)\n",
        "X_train_pred = svm_model.predict(X_train)\n"
      ],
      "metadata": {
        "id": "rjdJ_N-aEm9n"
      },
      "execution_count": null,
      "outputs": []
    },
    {
      "cell_type": "code",
      "source": [
        "print(\"test Accuracy: \", accuracy(y_test, X_test_pred))\n",
        "print(\"train Accuracy: \", accuracy(y_train, X_train_pred))"
      ],
      "metadata": {
        "id": "EMnJLF-7H38N"
      },
      "execution_count": null,
      "outputs": []
    },
    {
      "cell_type": "markdown",
      "source": [
        "#Decision Tree"
      ],
      "metadata": {
        "id": "DWE88K1cGfFP"
      }
    },
    {
      "cell_type": "code",
      "source": [
        "clf = DecisionTreeClassifier(random_state=0)\n",
        "tree_model = clf.fit(X_train,y_train)"
      ],
      "metadata": {
        "id": "lQr2tk36Gbw_"
      },
      "execution_count": null,
      "outputs": []
    },
    {
      "cell_type": "code",
      "source": [
        "X_test_pred = tree_model.predict(X_test)\n",
        "X_train_pred = tree_model.predict(X_train)"
      ],
      "metadata": {
        "id": "6nSEhRGpGtws"
      },
      "execution_count": null,
      "outputs": []
    },
    {
      "cell_type": "code",
      "source": [
        "print(\"test Accuracy: \", accuracy(y_test, X_test_pred))\n",
        "print(\"train Accuracy: \", accuracy(y_train, X_train_pred))"
      ],
      "metadata": {
        "id": "MX3mBlA3E_Ek"
      },
      "execution_count": null,
      "outputs": []
    },
    {
      "cell_type": "markdown",
      "source": [
        "#Random Forest"
      ],
      "metadata": {
        "id": "JB_JoXPhHPp7"
      }
    },
    {
      "cell_type": "code",
      "source": [
        "clf_for = RandomForestClassifier(max_depth=10, random_state=0)\n"
      ],
      "metadata": {
        "id": "o7X75ofkG0wl"
      },
      "execution_count": null,
      "outputs": []
    },
    {
      "cell_type": "code",
      "source": [
        "clf_for.fit(X_train,y_train)"
      ],
      "metadata": {
        "id": "DH-Crjy3HcbL"
      },
      "execution_count": null,
      "outputs": []
    },
    {
      "cell_type": "code",
      "source": [
        "X_test_pred = clf_for.predict(X_test)\n",
        "X_train_pred = clf_for.predict(X_train)"
      ],
      "metadata": {
        "id": "JmJ6MOBlHhsQ"
      },
      "execution_count": null,
      "outputs": []
    },
    {
      "cell_type": "code",
      "source": [
        "print(\"test Accuracy: \", accuracy(y_test, X_test_pred))\n",
        "print(\"train Accuracy: \", accuracy(y_train, X_train_pred))"
      ],
      "metadata": {
        "id": "yVRCNqFOHjnl"
      },
      "execution_count": null,
      "outputs": []
    },
    {
      "cell_type": "code",
      "source": [],
      "metadata": {
        "id": "I93Zixc0IAwH"
      },
      "execution_count": null,
      "outputs": []
    },
    {
      "cell_type": "markdown",
      "source": [
        "#Xgboost"
      ],
      "metadata": {
        "id": "AELeAflbIBde"
      }
    },
    {
      "cell_type": "code",
      "source": [
        "xgb_model = xgb.XGBRegressor()"
      ],
      "metadata": {
        "id": "uZp4R-ARHnON"
      },
      "execution_count": null,
      "outputs": []
    },
    {
      "cell_type": "code",
      "source": [
        "xgb_model.fit(X_train,y_train)"
      ],
      "metadata": {
        "id": "tUtj63hQIDhu"
      },
      "execution_count": null,
      "outputs": []
    },
    {
      "cell_type": "code",
      "source": [
        "X_test_pred = xgb_model.predict(X_test)\n",
        "X_train_pred = xgb_model.predict(X_train)"
      ],
      "metadata": {
        "id": "E_wK6DxTIZWf"
      },
      "execution_count": null,
      "outputs": []
    },
    {
      "cell_type": "code",
      "source": [
        "print(\"test Accuracy: \", accuracy(y_test, X_test_pred))\n",
        "print(\"train Accuracy: \", accuracy(y_train, X_train_pred))"
      ],
      "metadata": {
        "id": "KQ40mOE8IZWg"
      },
      "execution_count": null,
      "outputs": []
    },
    {
      "cell_type": "code",
      "source": [],
      "metadata": {
        "id": "jgjOWujhIccR"
      },
      "execution_count": null,
      "outputs": []
    }
  ]
}