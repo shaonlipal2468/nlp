{
  "nbformat": 4,
  "nbformat_minor": 0,
  "metadata": {
    "colab": {
      "provenance": []
    },
    "kernelspec": {
      "name": "python3",
      "display_name": "Python 3"
    },
    "language_info": {
      "name": "python"
    }
  },
  "cells": [
    {
      "cell_type": "markdown",
      "source": [
        "#Google Drive Authetication\n",
        "\n"
      ],
      "metadata": {
        "id": "oatRl4-e4OwF"
      }
    },
    {
      "cell_type": "code",
      "source": [
        "!pip install -U -q PyDrive\n",
        "from pydrive.auth import GoogleAuth\n",
        "from pydrive.drive import GoogleDrive\n",
        "from google.colab import auth\n",
        "from oauth2client.client import GoogleCredentials\n",
        "\n",
        "auth.authenticate_user()\n",
        "gauth = GoogleAuth()\n",
        "gauth.credentials = GoogleCredentials.get_application_default()\n",
        "drive = GoogleDrive(gauth)"
      ],
      "metadata": {
        "id": "sk3UDAxcdBZq"
      },
      "execution_count": null,
      "outputs": []
    },
    {
      "cell_type": "code",
      "source": [
        "from google.colab import drive\n",
        "drive.mount('/content/drive')"
      ],
      "metadata": {
        "id": "r0KfWmZJdHrf",
        "colab": {
          "base_uri": "https://localhost:8080/"
        },
        "outputId": "d647f02a-9830-4358-d7b7-5bc65e8a1d18"
      },
      "execution_count": null,
      "outputs": [
        {
          "output_type": "stream",
          "name": "stdout",
          "text": [
            "Mounted at /content/drive\n"
          ]
        }
      ]
    },
    {
      "cell_type": "markdown",
      "source": [
        "#Installing Transformers"
      ],
      "metadata": {
        "id": "oEhEocbp4T1R"
      }
    },
    {
      "cell_type": "code",
      "source": [
        "!pip install transformers==3.0.0"
      ],
      "metadata": {
        "id": "QTEL3WijNQAQ",
        "colab": {
          "base_uri": "https://localhost:8080/"
        },
        "outputId": "51293eb9-8714-4f5a-954f-98a3255d5f11"
      },
      "execution_count": null,
      "outputs": [
        {
          "output_type": "stream",
          "name": "stdout",
          "text": [
            "Collecting transformers==3.0.0\n",
            "  Downloading transformers-3.0.0-py3-none-any.whl (754 kB)\n",
            "\u001b[K     |████████████████████████████████| 754 kB 9.7 MB/s \n",
            "\u001b[?25hCollecting sentencepiece\n",
            "  Downloading sentencepiece-0.1.96-cp37-cp37m-manylinux_2_17_x86_64.manylinux2014_x86_64.whl (1.2 MB)\n",
            "\u001b[K     |████████████████████████████████| 1.2 MB 61.5 MB/s \n",
            "\u001b[?25hRequirement already satisfied: filelock in /usr/local/lib/python3.7/dist-packages (from transformers==3.0.0) (3.6.0)\n",
            "Requirement already satisfied: packaging in /usr/local/lib/python3.7/dist-packages (from transformers==3.0.0) (21.3)\n",
            "Requirement already satisfied: numpy in /usr/local/lib/python3.7/dist-packages (from transformers==3.0.0) (1.21.5)\n",
            "Collecting sacremoses\n",
            "  Downloading sacremoses-0.0.49-py3-none-any.whl (895 kB)\n",
            "\u001b[K     |████████████████████████████████| 895 kB 60.4 MB/s \n",
            "\u001b[?25hRequirement already satisfied: regex!=2019.12.17 in /usr/local/lib/python3.7/dist-packages (from transformers==3.0.0) (2019.12.20)\n",
            "Requirement already satisfied: requests in /usr/local/lib/python3.7/dist-packages (from transformers==3.0.0) (2.23.0)\n",
            "Requirement already satisfied: tqdm>=4.27 in /usr/local/lib/python3.7/dist-packages (from transformers==3.0.0) (4.63.0)\n",
            "Collecting tokenizers==0.8.0-rc4\n",
            "  Downloading tokenizers-0.8.0rc4-cp37-cp37m-manylinux1_x86_64.whl (3.0 MB)\n",
            "\u001b[K     |████████████████████████████████| 3.0 MB 57.3 MB/s \n",
            "\u001b[?25hRequirement already satisfied: pyparsing!=3.0.5,>=2.0.2 in /usr/local/lib/python3.7/dist-packages (from packaging->transformers==3.0.0) (3.0.7)\n",
            "Requirement already satisfied: idna<3,>=2.5 in /usr/local/lib/python3.7/dist-packages (from requests->transformers==3.0.0) (2.10)\n",
            "Requirement already satisfied: certifi>=2017.4.17 in /usr/local/lib/python3.7/dist-packages (from requests->transformers==3.0.0) (2021.10.8)\n",
            "Requirement already satisfied: urllib3!=1.25.0,!=1.25.1,<1.26,>=1.21.1 in /usr/local/lib/python3.7/dist-packages (from requests->transformers==3.0.0) (1.24.3)\n",
            "Requirement already satisfied: chardet<4,>=3.0.2 in /usr/local/lib/python3.7/dist-packages (from requests->transformers==3.0.0) (3.0.4)\n",
            "Requirement already satisfied: joblib in /usr/local/lib/python3.7/dist-packages (from sacremoses->transformers==3.0.0) (1.1.0)\n",
            "Requirement already satisfied: six in /usr/local/lib/python3.7/dist-packages (from sacremoses->transformers==3.0.0) (1.15.0)\n",
            "Requirement already satisfied: click in /usr/local/lib/python3.7/dist-packages (from sacremoses->transformers==3.0.0) (7.1.2)\n",
            "Installing collected packages: tokenizers, sentencepiece, sacremoses, transformers\n",
            "Successfully installed sacremoses-0.0.49 sentencepiece-0.1.96 tokenizers-0.8.0rc4 transformers-3.0.0\n"
          ]
        }
      ]
    },
    {
      "cell_type": "code",
      "source": [
        "#@title Importing Libraries\n",
        "\n",
        "import torch\n",
        "import torch.nn as nn\n",
        "import pandas as pd\n",
        "import numpy as np\n",
        "import matplotlib.pyplot as plt\n",
        "import transformers\n",
        "from transformers import BertModel, BertTokenizer, AdamW, get_linear_schedule_with_warmup\n",
        "from torch.optim import lr_scheduler\n",
        "from sklearn.model_selection import train_test_split\n",
        "import pandas as pd\n",
        "import numpy as np\n",
        "import os\n",
        "import shutil\n",
        "import re\n",
        "import logging\n",
        "logging.basicConfig(level=logging.ERROR)\n",
        "\n",
        "#import warnings\n",
        "#warnings.filterwarnings(\"ignore\")"
      ],
      "metadata": {
        "id": "BsssU36yPik1"
      },
      "execution_count": null,
      "outputs": []
    },
    {
      "cell_type": "markdown",
      "source": [
        "#GPU device"
      ],
      "metadata": {
        "id": "pANApkVz42Qk"
      }
    },
    {
      "cell_type": "code",
      "source": [
        "device = torch.device(\"cuda:0\" if torch.cuda.is_available() else \"cpu\")\n",
        "print(f\"Device: {device}\")\n"
      ],
      "metadata": {
        "colab": {
          "base_uri": "https://localhost:8080/"
        },
        "id": "vtpfmJBbHNGx",
        "outputId": "980d8cb7-3475-4986-fb66-b2dab083c9ea"
      },
      "execution_count": null,
      "outputs": [
        {
          "output_type": "stream",
          "name": "stdout",
          "text": [
            "Device: cuda:0\n"
          ]
        }
      ]
    },
    {
      "cell_type": "markdown",
      "source": [
        "#REad data"
      ],
      "metadata": {
        "id": "b_xsI30UPvAR"
      }
    },
    {
      "cell_type": "code",
      "source": [
        "file = open(\"/content/drive/MyDrive/1-restaurant-train.csv\",'r')\n",
        "contents = file.read()\n"
      ],
      "metadata": {
        "id": "AN5VojAcxqb5"
      },
      "execution_count": null,
      "outputs": []
    },
    {
      "cell_type": "code",
      "source": [
        "x = contents.split(\"\\n\")\n",
        "x=x[:30001]"
      ],
      "metadata": {
        "id": "kdSRWAxH0Kcb"
      },
      "execution_count": null,
      "outputs": []
    },
    {
      "cell_type": "code",
      "source": [
        "text=[]\n",
        "ratings=[]\n",
        "id=[]\n",
        "count=1\n",
        "for i in range(len(x)-1):\n",
        "  temp = x[i].split(\"\\t\")\n",
        "  text.append(temp[1])\n",
        "  ratings.append(temp[0])\n",
        "  id.append(count)\n",
        "  count=count+1\n",
        "testing_set = pd.DataFrame(list(zip(id,text, ratings)),columns =['id','text', 'Ratings'])"
      ],
      "metadata": {
        "id": "Nawz4Xtv0ZGS"
      },
      "execution_count": null,
      "outputs": []
    },
    {
      "cell_type": "code",
      "source": [
        "polarity_new=[]\n",
        "for each_example in testing_set.itertuples():\n",
        "\n",
        "  if each_example.Ratings=='4' or each_example.Ratings=='5':\n",
        "    polarity_new.append(\"positive\")\n",
        "\n",
        "  elif each_example.Ratings=='3':\n",
        "    polarity_new.append(\"neutral\")\n",
        "\n",
        "  else:\n",
        "    polarity_new.append(\"negative\")\n",
        "\n",
        "testing_set['polarity']=polarity_new"
      ],
      "metadata": {
        "id": "dgnhE-VoS6n4"
      },
      "execution_count": null,
      "outputs": []
    },
    {
      "cell_type": "code",
      "source": [
        "testing_set.head()"
      ],
      "metadata": {
        "colab": {
          "base_uri": "https://localhost:8080/",
          "height": 206
        },
        "id": "mr8lfil-09RB",
        "outputId": "b0daa61b-0237-41c1-c5d3-f3b62dcb61dd"
      },
      "execution_count": null,
      "outputs": [
        {
          "output_type": "execute_result",
          "data": {
            "text/plain": [
              "   id                                               text Ratings  polarity\n",
              "0   1  Thank you thank you thank you !! I  want to th...       4  positive\n",
              "1   2  A Humane Society store at the Biltmore?  Inter...       5  positive\n",
              "2   3  Don't buy Nike sneakers if you want to return ...       1  negative\n",
              "3   4  I have to say I love most things about Sprouts...       3   neutral\n",
              "4   5  The tire pressure light came on a day or so ag...       5  positive"
            ],
            "text/html": [
              "\n",
              "  <div id=\"df-d74e11af-f51d-4997-88ce-5f5e94342af4\">\n",
              "    <div class=\"colab-df-container\">\n",
              "      <div>\n",
              "<style scoped>\n",
              "    .dataframe tbody tr th:only-of-type {\n",
              "        vertical-align: middle;\n",
              "    }\n",
              "\n",
              "    .dataframe tbody tr th {\n",
              "        vertical-align: top;\n",
              "    }\n",
              "\n",
              "    .dataframe thead th {\n",
              "        text-align: right;\n",
              "    }\n",
              "</style>\n",
              "<table border=\"1\" class=\"dataframe\">\n",
              "  <thead>\n",
              "    <tr style=\"text-align: right;\">\n",
              "      <th></th>\n",
              "      <th>id</th>\n",
              "      <th>text</th>\n",
              "      <th>Ratings</th>\n",
              "      <th>polarity</th>\n",
              "    </tr>\n",
              "  </thead>\n",
              "  <tbody>\n",
              "    <tr>\n",
              "      <th>0</th>\n",
              "      <td>1</td>\n",
              "      <td>Thank you thank you thank you !! I  want to th...</td>\n",
              "      <td>4</td>\n",
              "      <td>positive</td>\n",
              "    </tr>\n",
              "    <tr>\n",
              "      <th>1</th>\n",
              "      <td>2</td>\n",
              "      <td>A Humane Society store at the Biltmore?  Inter...</td>\n",
              "      <td>5</td>\n",
              "      <td>positive</td>\n",
              "    </tr>\n",
              "    <tr>\n",
              "      <th>2</th>\n",
              "      <td>3</td>\n",
              "      <td>Don't buy Nike sneakers if you want to return ...</td>\n",
              "      <td>1</td>\n",
              "      <td>negative</td>\n",
              "    </tr>\n",
              "    <tr>\n",
              "      <th>3</th>\n",
              "      <td>4</td>\n",
              "      <td>I have to say I love most things about Sprouts...</td>\n",
              "      <td>3</td>\n",
              "      <td>neutral</td>\n",
              "    </tr>\n",
              "    <tr>\n",
              "      <th>4</th>\n",
              "      <td>5</td>\n",
              "      <td>The tire pressure light came on a day or so ag...</td>\n",
              "      <td>5</td>\n",
              "      <td>positive</td>\n",
              "    </tr>\n",
              "  </tbody>\n",
              "</table>\n",
              "</div>\n",
              "      <button class=\"colab-df-convert\" onclick=\"convertToInteractive('df-d74e11af-f51d-4997-88ce-5f5e94342af4')\"\n",
              "              title=\"Convert this dataframe to an interactive table.\"\n",
              "              style=\"display:none;\">\n",
              "        \n",
              "  <svg xmlns=\"http://www.w3.org/2000/svg\" height=\"24px\"viewBox=\"0 0 24 24\"\n",
              "       width=\"24px\">\n",
              "    <path d=\"M0 0h24v24H0V0z\" fill=\"none\"/>\n",
              "    <path d=\"M18.56 5.44l.94 2.06.94-2.06 2.06-.94-2.06-.94-.94-2.06-.94 2.06-2.06.94zm-11 1L8.5 8.5l.94-2.06 2.06-.94-2.06-.94L8.5 2.5l-.94 2.06-2.06.94zm10 10l.94 2.06.94-2.06 2.06-.94-2.06-.94-.94-2.06-.94 2.06-2.06.94z\"/><path d=\"M17.41 7.96l-1.37-1.37c-.4-.4-.92-.59-1.43-.59-.52 0-1.04.2-1.43.59L10.3 9.45l-7.72 7.72c-.78.78-.78 2.05 0 2.83L4 21.41c.39.39.9.59 1.41.59.51 0 1.02-.2 1.41-.59l7.78-7.78 2.81-2.81c.8-.78.8-2.07 0-2.86zM5.41 20L4 18.59l7.72-7.72 1.47 1.35L5.41 20z\"/>\n",
              "  </svg>\n",
              "      </button>\n",
              "      \n",
              "  <style>\n",
              "    .colab-df-container {\n",
              "      display:flex;\n",
              "      flex-wrap:wrap;\n",
              "      gap: 12px;\n",
              "    }\n",
              "\n",
              "    .colab-df-convert {\n",
              "      background-color: #E8F0FE;\n",
              "      border: none;\n",
              "      border-radius: 50%;\n",
              "      cursor: pointer;\n",
              "      display: none;\n",
              "      fill: #1967D2;\n",
              "      height: 32px;\n",
              "      padding: 0 0 0 0;\n",
              "      width: 32px;\n",
              "    }\n",
              "\n",
              "    .colab-df-convert:hover {\n",
              "      background-color: #E2EBFA;\n",
              "      box-shadow: 0px 1px 2px rgba(60, 64, 67, 0.3), 0px 1px 3px 1px rgba(60, 64, 67, 0.15);\n",
              "      fill: #174EA6;\n",
              "    }\n",
              "\n",
              "    [theme=dark] .colab-df-convert {\n",
              "      background-color: #3B4455;\n",
              "      fill: #D2E3FC;\n",
              "    }\n",
              "\n",
              "    [theme=dark] .colab-df-convert:hover {\n",
              "      background-color: #434B5C;\n",
              "      box-shadow: 0px 1px 3px 1px rgba(0, 0, 0, 0.15);\n",
              "      filter: drop-shadow(0px 1px 2px rgba(0, 0, 0, 0.3));\n",
              "      fill: #FFFFFF;\n",
              "    }\n",
              "  </style>\n",
              "\n",
              "      <script>\n",
              "        const buttonEl =\n",
              "          document.querySelector('#df-d74e11af-f51d-4997-88ce-5f5e94342af4 button.colab-df-convert');\n",
              "        buttonEl.style.display =\n",
              "          google.colab.kernel.accessAllowed ? 'block' : 'none';\n",
              "\n",
              "        async function convertToInteractive(key) {\n",
              "          const element = document.querySelector('#df-d74e11af-f51d-4997-88ce-5f5e94342af4');\n",
              "          const dataTable =\n",
              "            await google.colab.kernel.invokeFunction('convertToInteractive',\n",
              "                                                     [key], {});\n",
              "          if (!dataTable) return;\n",
              "\n",
              "          const docLinkHtml = 'Like what you see? Visit the ' +\n",
              "            '<a target=\"_blank\" href=https://colab.research.google.com/notebooks/data_table.ipynb>data table notebook</a>'\n",
              "            + ' to learn more about interactive tables.';\n",
              "          element.innerHTML = '';\n",
              "          dataTable['output_type'] = 'display_data';\n",
              "          await google.colab.output.renderOutput(dataTable, element);\n",
              "          const docLink = document.createElement('div');\n",
              "          docLink.innerHTML = docLinkHtml;\n",
              "          element.appendChild(docLink);\n",
              "        }\n",
              "      </script>\n",
              "    </div>\n",
              "  </div>\n",
              "  "
            ]
          },
          "metadata": {},
          "execution_count": 135
        }
      ]
    },
    {
      "cell_type": "code",
      "source": [
        "import seaborn as sns\n",
        "import matplotlib.pyplot as plt\n"
      ],
      "metadata": {
        "id": "YRaWT4ULSMWY"
      },
      "execution_count": null,
      "outputs": []
    },
    {
      "cell_type": "code",
      "source": [
        "plt.figure(figsize=(10,5))\n",
        "sns.countplot(testing_set.polarity)\n",
        "plt.xlabel('Sentiments')\n",
        "plt.show()"
      ],
      "metadata": {
        "colab": {
          "base_uri": "https://localhost:8080/",
          "height": 390
        },
        "id": "nuGxF1LpR1dY",
        "outputId": "0c724b97-464c-43a0-e46b-a1494c253446"
      },
      "execution_count": null,
      "outputs": [
        {
          "output_type": "stream",
          "name": "stderr",
          "text": [
            "/usr/local/lib/python3.7/dist-packages/seaborn/_decorators.py:43: FutureWarning: Pass the following variable as a keyword arg: x. From version 0.12, the only valid positional argument will be `data`, and passing other arguments without an explicit keyword will result in an error or misinterpretation.\n",
            "  FutureWarning\n"
          ]
        },
        {
          "output_type": "display_data",
          "data": {
            "text/plain": [
              "<Figure size 720x360 with 1 Axes>"
            ],
            "image/png": "[encoded data removed]"
          },
          "metadata": {
            "needs_background": "light"
          }
        }
      ]
    },
    {
      "cell_type": "code",
      "source": [
        "positive_df = testing_set[testing_set['polarity']=='positive']\n",
        "negative_df = testing_set[testing_set['polarity']=='negative']\n",
        "neutral_df = testing_set[testing_set['polarity']=='neutral']\n",
        "\n"
      ],
      "metadata": {
        "id": "TyedaToEVlaH"
      },
      "execution_count": null,
      "outputs": []
    },
    {
      "cell_type": "code",
      "source": [
        "pos_df = positive_df.sample(n=len(negative_df),replace=False)"
      ],
      "metadata": {
        "id": "XaaFpiOdWGl7"
      },
      "execution_count": null,
      "outputs": []
    },
    {
      "cell_type": "code",
      "source": [
        "frames = [pos_df, negative_df, neutral_df]\n",
        "\n",
        "new_df = pd.concat(frames)"
      ],
      "metadata": {
        "id": "Ss9tm1brWZXq"
      },
      "execution_count": null,
      "outputs": []
    },
    {
      "cell_type": "code",
      "source": [
        "plt.figure(figsize=(10,5))\n",
        "sns.countplot(new_df.polarity)\n",
        "plt.xlabel('Sentiments')\n",
        "plt.show()"
      ],
      "metadata": {
        "colab": {
          "base_uri": "https://localhost:8080/",
          "height": 389
        },
        "id": "lrnoZqZ0WnzP",
        "outputId": "c4010d5d-026a-49de-9ed9-a293e95644e4"
      },
      "execution_count": null,
      "outputs": [
        {
          "output_type": "stream",
          "name": "stderr",
          "text": [
            "/usr/local/lib/python3.7/dist-packages/seaborn/_decorators.py:43: FutureWarning: Pass the following variable as a keyword arg: x. From version 0.12, the only valid positional argument will be `data`, and passing other arguments without an explicit keyword will result in an error or misinterpretation.\n",
            "  FutureWarning\n"
          ]
        },
        {
          "output_type": "display_data",
          "data": {
            "text/plain": [
              "<Figure size 720x360 with 1 Axes>"
            ],
            "image/png": "[encoded data removed]"
          },
          "metadata": {
            "needs_background": "light"
          }
        }
      ]
    },
    {
      "cell_type": "code",
      "source": [
        "new_df.head()"
      ],
      "metadata": {
        "colab": {
          "base_uri": "https://localhost:8080/",
          "height": 206
        },
        "id": "L23OEqpfWrW1",
        "outputId": "452055f4-3a17-4c9b-fc94-fb7574bbab9d"
      },
      "execution_count": null,
      "outputs": [
        {
          "output_type": "execute_result",
          "data": {
            "text/plain": [
              "          id                                               text Ratings  \\\n",
              "29977  29978  I love this Super Target so much I am compelle...       5   \n",
              "11617  11618  \"\"\"Four of us dined there on Christmas Eve and...       5   \n",
              "3556    3557  The only thing you can say critically about th...       4   \n",
              "14533  14534  The only thing that I would have liked better ...       4   \n",
              "3085    3086  Michael's is my favorite place to have things ...       5   \n",
              "\n",
              "       polarity  \n",
              "29977  positive  \n",
              "11617  positive  \n",
              "3556   positive  \n",
              "14533  positive  \n",
              "3085   positive  "
            ],
            "text/html": [
              "\n",
              "  <div id=\"df-4f14421e-dc6d-48b2-9937-dff6bd0675ea\">\n",
              "    <div class=\"colab-df-container\">\n",
              "      <div>\n",
              "<style scoped>\n",
              "    .dataframe tbody tr th:only-of-type {\n",
              "        vertical-align: middle;\n",
              "    }\n",
              "\n",
              "    .dataframe tbody tr th {\n",
              "        vertical-align: top;\n",
              "    }\n",
              "\n",
              "    .dataframe thead th {\n",
              "        text-align: right;\n",
              "    }\n",
              "</style>\n",
              "<table border=\"1\" class=\"dataframe\">\n",
              "  <thead>\n",
              "    <tr style=\"text-align: right;\">\n",
              "      <th></th>\n",
              "      <th>id</th>\n",
              "      <th>text</th>\n",
              "      <th>Ratings</th>\n",
              "      <th>polarity</th>\n",
              "    </tr>\n",
              "  </thead>\n",
              "  <tbody>\n",
              "    <tr>\n",
              "      <th>29977</th>\n",
              "      <td>29978</td>\n",
              "      <td>I love this Super Target so much I am compelle...</td>\n",
              "      <td>5</td>\n",
              "      <td>positive</td>\n",
              "    </tr>\n",
              "    <tr>\n",
              "      <th>11617</th>\n",
              "      <td>11618</td>\n",
              "      <td>\"\"\"Four of us dined there on Christmas Eve and...</td>\n",
              "      <td>5</td>\n",
              "      <td>positive</td>\n",
              "    </tr>\n",
              "    <tr>\n",
              "      <th>3556</th>\n",
              "      <td>3557</td>\n",
              "      <td>The only thing you can say critically about th...</td>\n",
              "      <td>4</td>\n",
              "      <td>positive</td>\n",
              "    </tr>\n",
              "    <tr>\n",
              "      <th>14533</th>\n",
              "      <td>14534</td>\n",
              "      <td>The only thing that I would have liked better ...</td>\n",
              "      <td>4</td>\n",
              "      <td>positive</td>\n",
              "    </tr>\n",
              "    <tr>\n",
              "      <th>3085</th>\n",
              "      <td>3086</td>\n",
              "      <td>Michael's is my favorite place to have things ...</td>\n",
              "      <td>5</td>\n",
              "      <td>positive</td>\n",
              "    </tr>\n",
              "  </tbody>\n",
              "</table>\n",
              "</div>\n",
              "      <button class=\"colab-df-convert\" onclick=\"convertToInteractive('df-4f14421e-dc6d-48b2-9937-dff6bd0675ea')\"\n",
              "              title=\"Convert this dataframe to an interactive table.\"\n",
              "              style=\"display:none;\">\n",
              "        \n",
              "  <svg xmlns=\"http://www.w3.org/2000/svg\" height=\"24px\"viewBox=\"0 0 24 24\"\n",
              "       width=\"24px\">\n",
              "    <path d=\"M0 0h24v24H0V0z\" fill=\"none\"/>\n",
              "    <path d=\"M18.56 5.44l.94 2.06.94-2.06 2.06-.94-2.06-.94-.94-2.06-.94 2.06-2.06.94zm-11 1L8.5 8.5l.94-2.06 2.06-.94-2.06-.94L8.5 2.5l-.94 2.06-2.06.94zm10 10l.94 2.06.94-2.06 2.06-.94-2.06-.94-.94-2.06-.94 2.06-2.06.94z\"/><path d=\"M17.41 7.96l-1.37-1.37c-.4-.4-.92-.59-1.43-.59-.52 0-1.04.2-1.43.59L10.3 9.45l-7.72 7.72c-.78.78-.78 2.05 0 2.83L4 21.41c.39.39.9.59 1.41.59.51 0 1.02-.2 1.41-.59l7.78-7.78 2.81-2.81c.8-.78.8-2.07 0-2.86zM5.41 20L4 18.59l7.72-7.72 1.47 1.35L5.41 20z\"/>\n",
              "  </svg>\n",
              "      </button>\n",
              "      \n",
              "  <style>\n",
              "    .colab-df-container {\n",
              "      display:flex;\n",
              "      flex-wrap:wrap;\n",
              "      gap: 12px;\n",
              "    }\n",
              "\n",
              "    .colab-df-convert {\n",
              "      background-color: #E8F0FE;\n",
              "      border: none;\n",
              "      border-radius: 50%;\n",
              "      cursor: pointer;\n",
              "      display: none;\n",
              "      fill: #1967D2;\n",
              "      height: 32px;\n",
              "      padding: 0 0 0 0;\n",
              "      width: 32px;\n",
              "    }\n",
              "\n",
              "    .colab-df-convert:hover {\n",
              "      background-color: #E2EBFA;\n",
              "      box-shadow: 0px 1px 2px rgba(60, 64, 67, 0.3), 0px 1px 3px 1px rgba(60, 64, 67, 0.15);\n",
              "      fill: #174EA6;\n",
              "    }\n",
              "\n",
              "    [theme=dark] .colab-df-convert {\n",
              "      background-color: #3B4455;\n",
              "      fill: #D2E3FC;\n",
              "    }\n",
              "\n",
              "    [theme=dark] .colab-df-convert:hover {\n",
              "      background-color: #434B5C;\n",
              "      box-shadow: 0px 1px 3px 1px rgba(0, 0, 0, 0.15);\n",
              "      filter: drop-shadow(0px 1px 2px rgba(0, 0, 0, 0.3));\n",
              "      fill: #FFFFFF;\n",
              "    }\n",
              "  </style>\n",
              "\n",
              "      <script>\n",
              "        const buttonEl =\n",
              "          document.querySelector('#df-4f14421e-dc6d-48b2-9937-dff6bd0675ea button.colab-df-convert');\n",
              "        buttonEl.style.display =\n",
              "          google.colab.kernel.accessAllowed ? 'block' : 'none';\n",
              "\n",
              "        async function convertToInteractive(key) {\n",
              "          const element = document.querySelector('#df-4f14421e-dc6d-48b2-9937-dff6bd0675ea');\n",
              "          const dataTable =\n",
              "            await google.colab.kernel.invokeFunction('convertToInteractive',\n",
              "                                                     [key], {});\n",
              "          if (!dataTable) return;\n",
              "\n",
              "          const docLinkHtml = 'Like what you see? Visit the ' +\n",
              "            '<a target=\"_blank\" href=https://colab.research.google.com/notebooks/data_table.ipynb>data table notebook</a>'\n",
              "            + ' to learn more about interactive tables.';\n",
              "          element.innerHTML = '';\n",
              "          dataTable['output_type'] = 'display_data';\n",
              "          await google.colab.output.renderOutput(dataTable, element);\n",
              "          const docLink = document.createElement('div');\n",
              "          docLink.innerHTML = docLinkHtml;\n",
              "          element.appendChild(docLink);\n",
              "        }\n",
              "      </script>\n",
              "    </div>\n",
              "  </div>\n",
              "  "
            ]
          },
          "metadata": {},
          "execution_count": 142
        }
      ]
    },
    {
      "cell_type": "code",
      "source": [
        "new_df = new_df.sample(frac = 1).reset_index(drop=True)"
      ],
      "metadata": {
        "id": "puLX3dHRW7io"
      },
      "execution_count": null,
      "outputs": []
    },
    {
      "cell_type": "code",
      "source": [
        "new_df.head()"
      ],
      "metadata": {
        "colab": {
          "base_uri": "https://localhost:8080/",
          "height": 206
        },
        "id": "97RKE5vvXRI7",
        "outputId": "efcaabd2-3d55-4948-8775-6aa62048e82f"
      },
      "execution_count": null,
      "outputs": [
        {
          "output_type": "execute_result",
          "data": {
            "text/plain": [
              "      id                                               text Ratings  polarity\n",
              "0  22181  I've only ordered once.  I had wonton soup, sh...       3   neutral\n",
              "1  20327  I wish I didn't have to give ONE STAR uhgg .. ...       1  negative\n",
              "2  12051  Dear Paradise Mall, \\n\\nOh you poor thing !! Y...       3   neutral\n",
              "3   8388  \"\"\"Terrible Customer Service.\\n\\nAs I was driv...       1  negative\n",
              "4  16859  \"\"\"The pool area is 5 star.  The beds, 1 star....       3   neutral"
            ],
            "text/html": [
              "\n",
              "  <div id=\"df-952ad667-6e47-4572-a327-4f307e912a1a\">\n",
              "    <div class=\"colab-df-container\">\n",
              "      <div>\n",
              "<style scoped>\n",
              "    .dataframe tbody tr th:only-of-type {\n",
              "        vertical-align: middle;\n",
              "    }\n",
              "\n",
              "    .dataframe tbody tr th {\n",
              "        vertical-align: top;\n",
              "    }\n",
              "\n",
              "    .dataframe thead th {\n",
              "        text-align: right;\n",
              "    }\n",
              "</style>\n",
              "<table border=\"1\" class=\"dataframe\">\n",
              "  <thead>\n",
              "    <tr style=\"text-align: right;\">\n",
              "      <th></th>\n",
              "      <th>id</th>\n",
              "      <th>text</th>\n",
              "      <th>Ratings</th>\n",
              "      <th>polarity</th>\n",
              "    </tr>\n",
              "  </thead>\n",
              "  <tbody>\n",
              "    <tr>\n",
              "      <th>0</th>\n",
              "      <td>22181</td>\n",
              "      <td>I've only ordered once.  I had wonton soup, sh...</td>\n",
              "      <td>3</td>\n",
              "      <td>neutral</td>\n",
              "    </tr>\n",
              "    <tr>\n",
              "      <th>1</th>\n",
              "      <td>20327</td>\n",
              "      <td>I wish I didn't have to give ONE STAR uhgg .. ...</td>\n",
              "      <td>1</td>\n",
              "      <td>negative</td>\n",
              "    </tr>\n",
              "    <tr>\n",
              "      <th>2</th>\n",
              "      <td>12051</td>\n",
              "      <td>Dear Paradise Mall, \\n\\nOh you poor thing !! Y...</td>\n",
              "      <td>3</td>\n",
              "      <td>neutral</td>\n",
              "    </tr>\n",
              "    <tr>\n",
              "      <th>3</th>\n",
              "      <td>8388</td>\n",
              "      <td>\"\"\"Terrible Customer Service.\\n\\nAs I was driv...</td>\n",
              "      <td>1</td>\n",
              "      <td>negative</td>\n",
              "    </tr>\n",
              "    <tr>\n",
              "      <th>4</th>\n",
              "      <td>16859</td>\n",
              "      <td>\"\"\"The pool area is 5 star.  The beds, 1 star....</td>\n",
              "      <td>3</td>\n",
              "      <td>neutral</td>\n",
              "    </tr>\n",
              "  </tbody>\n",
              "</table>\n",
              "</div>\n",
              "      <button class=\"colab-df-convert\" onclick=\"convertToInteractive('df-952ad667-6e47-4572-a327-4f307e912a1a')\"\n",
              "              title=\"Convert this dataframe to an interactive table.\"\n",
              "              style=\"display:none;\">\n",
              "        \n",
              "  <svg xmlns=\"http://www.w3.org/2000/svg\" height=\"24px\"viewBox=\"0 0 24 24\"\n",
              "       width=\"24px\">\n",
              "    <path d=\"M0 0h24v24H0V0z\" fill=\"none\"/>\n",
              "    <path d=\"M18.56 5.44l.94 2.06.94-2.06 2.06-.94-2.06-.94-.94-2.06-.94 2.06-2.06.94zm-11 1L8.5 8.5l.94-2.06 2.06-.94-2.06-.94L8.5 2.5l-.94 2.06-2.06.94zm10 10l.94 2.06.94-2.06 2.06-.94-2.06-.94-.94-2.06-.94 2.06-2.06.94z\"/><path d=\"M17.41 7.96l-1.37-1.37c-.4-.4-.92-.59-1.43-.59-.52 0-1.04.2-1.43.59L10.3 9.45l-7.72 7.72c-.78.78-.78 2.05 0 2.83L4 21.41c.39.39.9.59 1.41.59.51 0 1.02-.2 1.41-.59l7.78-7.78 2.81-2.81c.8-.78.8-2.07 0-2.86zM5.41 20L4 18.59l7.72-7.72 1.47 1.35L5.41 20z\"/>\n",
              "  </svg>\n",
              "      </button>\n",
              "      \n",
              "  <style>\n",
              "    .colab-df-container {\n",
              "      display:flex;\n",
              "      flex-wrap:wrap;\n",
              "      gap: 12px;\n",
              "    }\n",
              "\n",
              "    .colab-df-convert {\n",
              "      background-color: #E8F0FE;\n",
              "      border: none;\n",
              "      border-radius: 50%;\n",
              "      cursor: pointer;\n",
              "      display: none;\n",
              "      fill: #1967D2;\n",
              "      height: 32px;\n",
              "      padding: 0 0 0 0;\n",
              "      width: 32px;\n",
              "    }\n",
              "\n",
              "    .colab-df-convert:hover {\n",
              "      background-color: #E2EBFA;\n",
              "      box-shadow: 0px 1px 2px rgba(60, 64, 67, 0.3), 0px 1px 3px 1px rgba(60, 64, 67, 0.15);\n",
              "      fill: #174EA6;\n",
              "    }\n",
              "\n",
              "    [theme=dark] .colab-df-convert {\n",
              "      background-color: #3B4455;\n",
              "      fill: #D2E3FC;\n",
              "    }\n",
              "\n",
              "    [theme=dark] .colab-df-convert:hover {\n",
              "      background-color: #434B5C;\n",
              "      box-shadow: 0px 1px 3px 1px rgba(0, 0, 0, 0.15);\n",
              "      filter: drop-shadow(0px 1px 2px rgba(0, 0, 0, 0.3));\n",
              "      fill: #FFFFFF;\n",
              "    }\n",
              "  </style>\n",
              "\n",
              "      <script>\n",
              "        const buttonEl =\n",
              "          document.querySelector('#df-952ad667-6e47-4572-a327-4f307e912a1a button.colab-df-convert');\n",
              "        buttonEl.style.display =\n",
              "          google.colab.kernel.accessAllowed ? 'block' : 'none';\n",
              "\n",
              "        async function convertToInteractive(key) {\n",
              "          const element = document.querySelector('#df-952ad667-6e47-4572-a327-4f307e912a1a');\n",
              "          const dataTable =\n",
              "            await google.colab.kernel.invokeFunction('convertToInteractive',\n",
              "                                                     [key], {});\n",
              "          if (!dataTable) return;\n",
              "\n",
              "          const docLinkHtml = 'Like what you see? Visit the ' +\n",
              "            '<a target=\"_blank\" href=https://colab.research.google.com/notebooks/data_table.ipynb>data table notebook</a>'\n",
              "            + ' to learn more about interactive tables.';\n",
              "          element.innerHTML = '';\n",
              "          dataTable['output_type'] = 'display_data';\n",
              "          await google.colab.output.renderOutput(dataTable, element);\n",
              "          const docLink = document.createElement('div');\n",
              "          docLink.innerHTML = docLinkHtml;\n",
              "          element.appendChild(docLink);\n",
              "        }\n",
              "      </script>\n",
              "    </div>\n",
              "  </div>\n",
              "  "
            ]
          },
          "metadata": {},
          "execution_count": 144
        }
      ]
    },
    {
      "cell_type": "code",
      "source": [
        "polarity_new=[]\n",
        "for each_example in new_df.itertuples():\n",
        "\n",
        "  if each_example.polarity=='positive':\n",
        "    polarity_new.append(0)\n",
        "\n",
        "  elif each_example.polarity=='negative':\n",
        "    polarity_new.append(1)\n",
        "\n",
        "  else:\n",
        "    polarity_new.append(2)\n",
        "\n",
        "new_df['polarity_new']=polarity_new\n"
      ],
      "metadata": {
        "id": "ZO6ZGhVwdCwg"
      },
      "execution_count": null,
      "outputs": []
    },
    {
      "cell_type": "code",
      "source": [
        "new_df.head()"
      ],
      "metadata": {
        "colab": {
          "base_uri": "https://localhost:8080/",
          "height": 206
        },
        "id": "l_dHcMNNa_7K",
        "outputId": "26257e9b-0a11-47e7-e6ca-f5ffba6d5f88"
      },
      "execution_count": null,
      "outputs": [
        {
          "output_type": "execute_result",
          "data": {
            "text/plain": [
              "      id                                               text Ratings  polarity  \\\n",
              "0  22181  I've only ordered once.  I had wonton soup, sh...       3   neutral   \n",
              "1  20327  I wish I didn't have to give ONE STAR uhgg .. ...       1  negative   \n",
              "2  12051  Dear Paradise Mall, \\n\\nOh you poor thing !! Y...       3   neutral   \n",
              "3   8388  \"\"\"Terrible Customer Service.\\n\\nAs I was driv...       1  negative   \n",
              "4  16859  \"\"\"The pool area is 5 star.  The beds, 1 star....       3   neutral   \n",
              "\n",
              "   polarity_new  \n",
              "0             2  \n",
              "1             1  \n",
              "2             2  \n",
              "3             1  \n",
              "4             2  "
            ],
            "text/html": [
              "\n",
              "  <div id=\"df-86572fae-8c1e-494d-9ebe-d1d530ce2fdd\">\n",
              "    <div class=\"colab-df-container\">\n",
              "      <div>\n",
              "<style scoped>\n",
              "    .dataframe tbody tr th:only-of-type {\n",
              "        vertical-align: middle;\n",
              "    }\n",
              "\n",
              "    .dataframe tbody tr th {\n",
              "        vertical-align: top;\n",
              "    }\n",
              "\n",
              "    .dataframe thead th {\n",
              "        text-align: right;\n",
              "    }\n",
              "</style>\n",
              "<table border=\"1\" class=\"dataframe\">\n",
              "  <thead>\n",
              "    <tr style=\"text-align: right;\">\n",
              "      <th></th>\n",
              "      <th>id</th>\n",
              "      <th>text</th>\n",
              "      <th>Ratings</th>\n",
              "      <th>polarity</th>\n",
              "      <th>polarity_new</th>\n",
              "    </tr>\n",
              "  </thead>\n",
              "  <tbody>\n",
              "    <tr>\n",
              "      <th>0</th>\n",
              "      <td>22181</td>\n",
              "      <td>I've only ordered once.  I had wonton soup, sh...</td>\n",
              "      <td>3</td>\n",
              "      <td>neutral</td>\n",
              "      <td>2</td>\n",
              "    </tr>\n",
              "    <tr>\n",
              "      <th>1</th>\n",
              "      <td>20327</td>\n",
              "      <td>I wish I didn't have to give ONE STAR uhgg .. ...</td>\n",
              "      <td>1</td>\n",
              "      <td>negative</td>\n",
              "      <td>1</td>\n",
              "    </tr>\n",
              "    <tr>\n",
              "      <th>2</th>\n",
              "      <td>12051</td>\n",
              "      <td>Dear Paradise Mall, \\n\\nOh you poor thing !! Y...</td>\n",
              "      <td>3</td>\n",
              "      <td>neutral</td>\n",
              "      <td>2</td>\n",
              "    </tr>\n",
              "    <tr>\n",
              "      <th>3</th>\n",
              "      <td>8388</td>\n",
              "      <td>\"\"\"Terrible Customer Service.\\n\\nAs I was driv...</td>\n",
              "      <td>1</td>\n",
              "      <td>negative</td>\n",
              "      <td>1</td>\n",
              "    </tr>\n",
              "    <tr>\n",
              "      <th>4</th>\n",
              "      <td>16859</td>\n",
              "      <td>\"\"\"The pool area is 5 star.  The beds, 1 star....</td>\n",
              "      <td>3</td>\n",
              "      <td>neutral</td>\n",
              "      <td>2</td>\n",
              "    </tr>\n",
              "  </tbody>\n",
              "</table>\n",
              "</div>\n",
              "      <button class=\"colab-df-convert\" onclick=\"convertToInteractive('df-86572fae-8c1e-494d-9ebe-d1d530ce2fdd')\"\n",
              "              title=\"Convert this dataframe to an interactive table.\"\n",
              "              style=\"display:none;\">\n",
              "        \n",
              "  <svg xmlns=\"http://www.w3.org/2000/svg\" height=\"24px\"viewBox=\"0 0 24 24\"\n",
              "       width=\"24px\">\n",
              "    <path d=\"M0 0h24v24H0V0z\" fill=\"none\"/>\n",
              "    <path d=\"M18.56 5.44l.94 2.06.94-2.06 2.06-.94-2.06-.94-.94-2.06-.94 2.06-2.06.94zm-11 1L8.5 8.5l.94-2.06 2.06-.94-2.06-.94L8.5 2.5l-.94 2.06-2.06.94zm10 10l.94 2.06.94-2.06 2.06-.94-2.06-.94-.94-2.06-.94 2.06-2.06.94z\"/><path d=\"M17.41 7.96l-1.37-1.37c-.4-.4-.92-.59-1.43-.59-.52 0-1.04.2-1.43.59L10.3 9.45l-7.72 7.72c-.78.78-.78 2.05 0 2.83L4 21.41c.39.39.9.59 1.41.59.51 0 1.02-.2 1.41-.59l7.78-7.78 2.81-2.81c.8-.78.8-2.07 0-2.86zM5.41 20L4 18.59l7.72-7.72 1.47 1.35L5.41 20z\"/>\n",
              "  </svg>\n",
              "      </button>\n",
              "      \n",
              "  <style>\n",
              "    .colab-df-container {\n",
              "      display:flex;\n",
              "      flex-wrap:wrap;\n",
              "      gap: 12px;\n",
              "    }\n",
              "\n",
              "    .colab-df-convert {\n",
              "      background-color: #E8F0FE;\n",
              "      border: none;\n",
              "      border-radius: 50%;\n",
              "      cursor: pointer;\n",
              "      display: none;\n",
              "      fill: #1967D2;\n",
              "      height: 32px;\n",
              "      padding: 0 0 0 0;\n",
              "      width: 32px;\n",
              "    }\n",
              "\n",
              "    .colab-df-convert:hover {\n",
              "      background-color: #E2EBFA;\n",
              "      box-shadow: 0px 1px 2px rgba(60, 64, 67, 0.3), 0px 1px 3px 1px rgba(60, 64, 67, 0.15);\n",
              "      fill: #174EA6;\n",
              "    }\n",
              "\n",
              "    [theme=dark] .colab-df-convert {\n",
              "      background-color: #3B4455;\n",
              "      fill: #D2E3FC;\n",
              "    }\n",
              "\n",
              "    [theme=dark] .colab-df-convert:hover {\n",
              "      background-color: #434B5C;\n",
              "      box-shadow: 0px 1px 3px 1px rgba(0, 0, 0, 0.15);\n",
              "      filter: drop-shadow(0px 1px 2px rgba(0, 0, 0, 0.3));\n",
              "      fill: #FFFFFF;\n",
              "    }\n",
              "  </style>\n",
              "\n",
              "      <script>\n",
              "        const buttonEl =\n",
              "          document.querySelector('#df-86572fae-8c1e-494d-9ebe-d1d530ce2fdd button.colab-df-convert');\n",
              "        buttonEl.style.display =\n",
              "          google.colab.kernel.accessAllowed ? 'block' : 'none';\n",
              "\n",
              "        async function convertToInteractive(key) {\n",
              "          const element = document.querySelector('#df-86572fae-8c1e-494d-9ebe-d1d530ce2fdd');\n",
              "          const dataTable =\n",
              "            await google.colab.kernel.invokeFunction('convertToInteractive',\n",
              "                                                     [key], {});\n",
              "          if (!dataTable) return;\n",
              "\n",
              "          const docLinkHtml = 'Like what you see? Visit the ' +\n",
              "            '<a target=\"_blank\" href=https://colab.research.google.com/notebooks/data_table.ipynb>data table notebook</a>'\n",
              "            + ' to learn more about interactive tables.';\n",
              "          element.innerHTML = '';\n",
              "          dataTable['output_type'] = 'display_data';\n",
              "          await google.colab.output.renderOutput(dataTable, element);\n",
              "          const docLink = document.createElement('div');\n",
              "          docLink.innerHTML = docLinkHtml;\n",
              "          element.appendChild(docLink);\n",
              "        }\n",
              "      </script>\n",
              "    </div>\n",
              "  </div>\n",
              "  "
            ]
          },
          "metadata": {},
          "execution_count": 146
        }
      ]
    },
    {
      "cell_type": "code",
      "source": [
        "import string, nltk\n",
        "#nltk.download('stopwords')\n",
        "nltk.download('averaged_perceptron_tagger')\n",
        "nltk.download('punkt')\n",
        "nltk.download('wordnet')\n",
        "from bs4 import BeautifulSoup\n",
        "\n",
        "lemmatizer = nltk.stem.WordNetLemmatizer()\n",
        "def preprocess(text):\n",
        "    text = str(text)\n",
        "    soup = BeautifulSoup(text, \"html.parser\")\n",
        "    for data in soup(['script', 'style']):\n",
        "        data.decompose()\n",
        "    text = ' '.join(soup.stripped_strings)\n",
        "    #text = text.lower()\n",
        "    temp = \"\"\n",
        "    for i in text:\n",
        "        if i in string.punctuation:\n",
        "            continue\n",
        "        else:\n",
        "            temp+=i\n",
        "    temp = temp.split()\n",
        "    #temp = [w for w in temp if w not in nltk.corpus.stopwords.words('english')]\n",
        "    for i in range(len(temp)):\n",
        "        temp[i] = lemmatizer.lemmatize(temp[i])\n",
        "    return ' '.join(temp)\n",
        "new_df['text'] = new_df['text'].apply(preprocess)"
      ],
      "metadata": {
        "colab": {
          "base_uri": "https://localhost:8080/"
        },
        "id": "4GX8pvCx63-A",
        "outputId": "f480d31d-4796-4451-ba0e-fb10485af58d"
      },
      "execution_count": null,
      "outputs": [
        {
          "output_type": "stream",
          "name": "stdout",
          "text": [
            "[nltk_data] Downloading package averaged_perceptron_tagger to\n",
            "[nltk_data]     /root/nltk_data...\n",
            "[nltk_data]   Package averaged_perceptron_tagger is already up-to-\n",
            "[nltk_data]       date!\n",
            "[nltk_data] Downloading package punkt to /root/nltk_data...\n",
            "[nltk_data]   Package punkt is already up-to-date!\n",
            "[nltk_data] Downloading package wordnet to /root/nltk_data...\n",
            "[nltk_data]   Package wordnet is already up-to-date!\n"
          ]
        }
      ]
    },
    {
      "cell_type": "code",
      "source": [
        "new_df.head()"
      ],
      "metadata": {
        "colab": {
          "base_uri": "https://localhost:8080/",
          "height": 206
        },
        "id": "Dm5YXGyS7FfY",
        "outputId": "ccff1b45-cf23-4999-d6ad-4b87452f478c"
      },
      "execution_count": null,
      "outputs": [
        {
          "output_type": "execute_result",
          "data": {
            "text/plain": [
              "      id                                               text Ratings  polarity  \\\n",
              "0  22181  Ive only ordered once I had wonton soup shrimp...       3   neutral   \n",
              "1  20327  I wish I didnt have to give ONE STAR uhgg nnTh...       1  negative   \n",
              "2  12051  Dear Paradise Mall nnOh you poor thing You nee...       3   neutral   \n",
              "3   8388  Terrible Customer ServicennAs I wa driving pas...       1  negative   \n",
              "4  16859  The pool area is 5 star The bed 1 star Holy co...       3   neutral   \n",
              "\n",
              "   polarity_new  \n",
              "0             2  \n",
              "1             1  \n",
              "2             2  \n",
              "3             1  \n",
              "4             2  "
            ],
            "text/html": [
              "\n",
              "  <div id=\"df-79b877c3-f05d-45a2-9721-96d80a267484\">\n",
              "    <div class=\"colab-df-container\">\n",
              "      <div>\n",
              "<style scoped>\n",
              "    .dataframe tbody tr th:only-of-type {\n",
              "        vertical-align: middle;\n",
              "    }\n",
              "\n",
              "    .dataframe tbody tr th {\n",
              "        vertical-align: top;\n",
              "    }\n",
              "\n",
              "    .dataframe thead th {\n",
              "        text-align: right;\n",
              "    }\n",
              "</style>\n",
              "<table border=\"1\" class=\"dataframe\">\n",
              "  <thead>\n",
              "    <tr style=\"text-align: right;\">\n",
              "      <th></th>\n",
              "      <th>id</th>\n",
              "      <th>text</th>\n",
              "      <th>Ratings</th>\n",
              "      <th>polarity</th>\n",
              "      <th>polarity_new</th>\n",
              "    </tr>\n",
              "  </thead>\n",
              "  <tbody>\n",
              "    <tr>\n",
              "      <th>0</th>\n",
              "      <td>22181</td>\n",
              "      <td>Ive only ordered once I had wonton soup shrimp...</td>\n",
              "      <td>3</td>\n",
              "      <td>neutral</td>\n",
              "      <td>2</td>\n",
              "    </tr>\n",
              "    <tr>\n",
              "      <th>1</th>\n",
              "      <td>20327</td>\n",
              "      <td>I wish I didnt have to give ONE STAR uhgg nnTh...</td>\n",
              "      <td>1</td>\n",
              "      <td>negative</td>\n",
              "      <td>1</td>\n",
              "    </tr>\n",
              "    <tr>\n",
              "      <th>2</th>\n",
              "      <td>12051</td>\n",
              "      <td>Dear Paradise Mall nnOh you poor thing You nee...</td>\n",
              "      <td>3</td>\n",
              "      <td>neutral</td>\n",
              "      <td>2</td>\n",
              "    </tr>\n",
              "    <tr>\n",
              "      <th>3</th>\n",
              "      <td>8388</td>\n",
              "      <td>Terrible Customer ServicennAs I wa driving pas...</td>\n",
              "      <td>1</td>\n",
              "      <td>negative</td>\n",
              "      <td>1</td>\n",
              "    </tr>\n",
              "    <tr>\n",
              "      <th>4</th>\n",
              "      <td>16859</td>\n",
              "      <td>The pool area is 5 star The bed 1 star Holy co...</td>\n",
              "      <td>3</td>\n",
              "      <td>neutral</td>\n",
              "      <td>2</td>\n",
              "    </tr>\n",
              "  </tbody>\n",
              "</table>\n",
              "</div>\n",
              "      <button class=\"colab-df-convert\" onclick=\"convertToInteractive('df-79b877c3-f05d-45a2-9721-96d80a267484')\"\n",
              "              title=\"Convert this dataframe to an interactive table.\"\n",
              "              style=\"display:none;\">\n",
              "        \n",
              "  <svg xmlns=\"http://www.w3.org/2000/svg\" height=\"24px\"viewBox=\"0 0 24 24\"\n",
              "       width=\"24px\">\n",
              "    <path d=\"M0 0h24v24H0V0z\" fill=\"none\"/>\n",
              "    <path d=\"M18.56 5.44l.94 2.06.94-2.06 2.06-.94-2.06-.94-.94-2.06-.94 2.06-2.06.94zm-11 1L8.5 8.5l.94-2.06 2.06-.94-2.06-.94L8.5 2.5l-.94 2.06-2.06.94zm10 10l.94 2.06.94-2.06 2.06-.94-2.06-.94-.94-2.06-.94 2.06-2.06.94z\"/><path d=\"M17.41 7.96l-1.37-1.37c-.4-.4-.92-.59-1.43-.59-.52 0-1.04.2-1.43.59L10.3 9.45l-7.72 7.72c-.78.78-.78 2.05 0 2.83L4 21.41c.39.39.9.59 1.41.59.51 0 1.02-.2 1.41-.59l7.78-7.78 2.81-2.81c.8-.78.8-2.07 0-2.86zM5.41 20L4 18.59l7.72-7.72 1.47 1.35L5.41 20z\"/>\n",
              "  </svg>\n",
              "      </button>\n",
              "      \n",
              "  <style>\n",
              "    .colab-df-container {\n",
              "      display:flex;\n",
              "      flex-wrap:wrap;\n",
              "      gap: 12px;\n",
              "    }\n",
              "\n",
              "    .colab-df-convert {\n",
              "      background-color: #E8F0FE;\n",
              "      border: none;\n",
              "      border-radius: 50%;\n",
              "      cursor: pointer;\n",
              "      display: none;\n",
              "      fill: #1967D2;\n",
              "      height: 32px;\n",
              "      padding: 0 0 0 0;\n",
              "      width: 32px;\n",
              "    }\n",
              "\n",
              "    .colab-df-convert:hover {\n",
              "      background-color: #E2EBFA;\n",
              "      box-shadow: 0px 1px 2px rgba(60, 64, 67, 0.3), 0px 1px 3px 1px rgba(60, 64, 67, 0.15);\n",
              "      fill: #174EA6;\n",
              "    }\n",
              "\n",
              "    [theme=dark] .colab-df-convert {\n",
              "      background-color: #3B4455;\n",
              "      fill: #D2E3FC;\n",
              "    }\n",
              "\n",
              "    [theme=dark] .colab-df-convert:hover {\n",
              "      background-color: #434B5C;\n",
              "      box-shadow: 0px 1px 3px 1px rgba(0, 0, 0, 0.15);\n",
              "      filter: drop-shadow(0px 1px 2px rgba(0, 0, 0, 0.3));\n",
              "      fill: #FFFFFF;\n",
              "    }\n",
              "  </style>\n",
              "\n",
              "      <script>\n",
              "        const buttonEl =\n",
              "          document.querySelector('#df-79b877c3-f05d-45a2-9721-96d80a267484 button.colab-df-convert');\n",
              "        buttonEl.style.display =\n",
              "          google.colab.kernel.accessAllowed ? 'block' : 'none';\n",
              "\n",
              "        async function convertToInteractive(key) {\n",
              "          const element = document.querySelector('#df-79b877c3-f05d-45a2-9721-96d80a267484');\n",
              "          const dataTable =\n",
              "            await google.colab.kernel.invokeFunction('convertToInteractive',\n",
              "                                                     [key], {});\n",
              "          if (!dataTable) return;\n",
              "\n",
              "          const docLinkHtml = 'Like what you see? Visit the ' +\n",
              "            '<a target=\"_blank\" href=https://colab.research.google.com/notebooks/data_table.ipynb>data table notebook</a>'\n",
              "            + ' to learn more about interactive tables.';\n",
              "          element.innerHTML = '';\n",
              "          dataTable['output_type'] = 'display_data';\n",
              "          await google.colab.output.renderOutput(dataTable, element);\n",
              "          const docLink = document.createElement('div');\n",
              "          docLink.innerHTML = docLinkHtml;\n",
              "          element.appendChild(docLink);\n",
              "        }\n",
              "      </script>\n",
              "    </div>\n",
              "  </div>\n",
              "  "
            ]
          },
          "metadata": {},
          "execution_count": 148
        }
      ]
    },
    {
      "cell_type": "markdown",
      "source": [
        "#BERT Model"
      ],
      "metadata": {
        "id": "xfDBkcx_5GAv"
      }
    },
    {
      "cell_type": "code",
      "source": [
        "class SentimentClassifier(nn.Module):\n",
        "  \"\"\"\n",
        "  This class defines the model architecture which is simply a fully-connected\n",
        "  layer on top of a pre-trained BERT model. \n",
        "  \"\"\"\n",
        "\n",
        "  def __init__(self, BERT_MODEL):\n",
        "    super(SentimentClassifier, self).__init__()\n",
        "    self.bert = BertModel.from_pretrained(BERT_MODEL)\n",
        "    self.drop = nn.Dropout(p=0.3)\n",
        "    self.out = nn.Linear(self.bert.config.hidden_size, 3) # Number of output classes = 3\n",
        "\n",
        "  def forward(self, ids, mask, token_type_ids):\n",
        "    last_hidden_state, pooled_output = self.bert(ids, attention_mask=mask, token_type_ids=token_type_ids)\n",
        "    output = self.drop(pooled_output)\n",
        "    return self.out(output)"
      ],
      "metadata": {
        "id": "P-8muni8bEMP"
      },
      "execution_count": null,
      "outputs": []
    },
    {
      "cell_type": "code",
      "source": [
        "from torchsummary import summary\n",
        "BERT_MODEL = 'bert-base-uncased'\n",
        "model = SentimentClassifier(BERT_MODEL)\n",
        "model = model.to(device)\n"
      ],
      "metadata": {
        "id": "-B8LMW6rySGX"
      },
      "execution_count": null,
      "outputs": []
    },
    {
      "cell_type": "code",
      "source": [
        "class util_tokenizer:\n",
        "  \"\"\"\n",
        "  This class tokenizes the input text using the pre-trained BERT tokenizer \n",
        "  (wordpiece) and returns the corresponding tensors.\n",
        "  \"\"\"\n",
        "\n",
        "  def __init__(self, text, targets, tokenizer, max_len):\n",
        "    self.text = text\n",
        "    self.tokenizer = tokenizer\n",
        "    self.max_len = max_len\n",
        "    self.targets = targets\n",
        "\n",
        "  def __len__(self):\n",
        "    return len(self.targets)\n",
        "  \n",
        "  def __getitem__(self, item):\n",
        "    text = str(self.text[item])\n",
        "    targets = self.targets[item]\n",
        "\n",
        "    inputs = self.tokenizer.encode_plus(\n",
        "        text,\n",
        "        add_special_tokens = True,\n",
        "        max_length = self.max_len,\n",
        "        pad_to_max_length = True\n",
        "    )\n",
        "\n",
        "    ids = inputs[\"input_ids\"]\n",
        "    mask = inputs[\"attention_mask\"]\n",
        "    token_type_ids = inputs[\"token_type_ids\"]\n",
        "\n",
        "    return {\n",
        "        \"ids\": torch.tensor(ids, dtype=torch.long),\n",
        "        \"mask\": torch.tensor(mask, dtype=torch.long),\n",
        "        \"token_type_ids\": torch.tensor(token_type_ids, dtype=torch.long),\n",
        "        \"targets\": torch.tensor(targets, dtype=torch.long)\n",
        "    }"
      ],
      "metadata": {
        "id": "e24L5gpp57Ee"
      },
      "execution_count": null,
      "outputs": []
    },
    {
      "cell_type": "code",
      "source": [
        "def loss_function(outputs, targets):\n",
        "\t\"\"\"\n",
        "\tThis function defines the loss function which is used to train the model, i.e.\n",
        "\tCrossEntropy.\n",
        "\t\"\"\"\n",
        "\treturn nn.CrossEntropyLoss(reduction='mean')(outputs, targets)"
      ],
      "metadata": {
        "id": "4P00jvKN57Eh"
      },
      "execution_count": null,
      "outputs": []
    },
    {
      "cell_type": "code",
      "source": [
        "def validation(model, data):\n",
        "    #imgs, labels = data[0].to(device), data[1].to(device)\n",
        "    ids = data[\"ids\"].to(device, dtype=torch.long)\n",
        "    mask = data[\"mask\"].to(device, dtype=torch.long)\n",
        "    token_type_ids = data[\"token_type_ids\"].to(device, dtype=torch.long)\n",
        "\n",
        "    targets = data[\"targets\"].to(device, dtype=torch.long)\n",
        "    \n",
        "    pred =  model(ids=ids, mask=mask, token_type_ids=token_type_ids)\n",
        "    loss = loss_function(pred, targets)\n",
        "    return loss.item()"
      ],
      "metadata": {
        "id": "eDQMmrsM-HqS"
      },
      "execution_count": null,
      "outputs": []
    },
    {
      "cell_type": "code",
      "source": [
        "def train_loop_function(data_loader, model, optimizer, device):\n",
        "  \"\"\"\n",
        "  This function defines the training loop over the entire training set.\n",
        "  \"\"\"\n",
        "\n",
        "  model.train()\n",
        "  loss_list =[]\n",
        "\n",
        "  running_loss = 0.0\n",
        "  for bi, d in enumerate(data_loader):\n",
        "    ids = d[\"ids\"]\n",
        "    mask = d[\"mask\"]\n",
        "    token_type_ids = d[\"token_type_ids\"]\n",
        "    targets = d[\"targets\"]\n",
        "\n",
        "    ids = ids.to(device, dtype=torch.long)\n",
        "    mask = mask.to(device, dtype=torch.long)\n",
        "    token_type_ids = token_type_ids.to(device, dtype=torch.long)\n",
        "    targets = targets.to(device, dtype=torch.long)\n",
        "\n",
        "    optimizer.zero_grad()\n",
        "\n",
        "    outputs = model(ids=ids, mask=mask, token_type_ids=token_type_ids)\n",
        "    loss = loss_function(outputs, targets)\n",
        "\n",
        "    loss.backward()\n",
        "    optimizer.step()\n",
        "\n",
        "    running_loss += loss.item()\n",
        "\n",
        "\n",
        "    if bi % 10 == 0 and bi!=0:\n",
        "      temp = f'Batch index = {bi}\\tLoss = {running_loss/10}'\n",
        "      loss_list.append(running_loss/10)\n",
        "      running_loss = 0.0\n",
        "  return loss_list\n"
      ],
      "metadata": {
        "id": "1MVYT3gt57Ei"
      },
      "execution_count": null,
      "outputs": []
    },
    {
      "cell_type": "code",
      "source": [
        "def eval_loop_function(data_loader, model, device):\n",
        "  \"\"\"\n",
        "  This function defines the evaluation loop over the entire validation set.\n",
        "  It also computes accuracy of the trained model, which is used to select the \n",
        "  best model.\n",
        "  \"\"\"\n",
        "\n",
        "  model.eval()\n",
        "\n",
        "  corrects = 0\n",
        "  total = 0\n",
        "  for bi, d in enumerate(data_loader):\n",
        "    ids = d[\"ids\"]\n",
        "    mask = d[\"mask\"]\n",
        "    token_type_ids = d[\"token_type_ids\"]\n",
        "    targets = d[\"targets\"]\n",
        "\n",
        "    ids = ids.to(device, dtype=torch.long)\n",
        "    mask = mask.to(device, dtype=torch.long)\n",
        "    token_type_ids = token_type_ids.to(device, dtype=torch.long)\n",
        "    targets = targets.to(device, dtype=torch.long)\n",
        "\n",
        "    outputs = model(ids=ids, mask=mask, token_type_ids=token_type_ids)\n",
        "\n",
        "    _, predicted = torch.max(outputs, 1)\n",
        "    total = total + targets.size(0)\n",
        "    corrects = corrects + (predicted==targets).sum().item()\n",
        "\n",
        "    #print(f\"bi: {bi}\\tPredicted: {predicted}\\tTargets: {targets}\")\n",
        "\n",
        "  accuracy = corrects / total * 100\n",
        "  return accuracy"
      ],
      "metadata": {
        "id": "_G7psDS957Ei"
      },
      "execution_count": null,
      "outputs": []
    },
    {
      "cell_type": "code",
      "source": [
        "\n",
        "final_model=None\n",
        "TRAIN_MAX_LEN = 140\n",
        "VALID_MAX_LEN = 140\n",
        "TRAIN_BATCH_SIZE = 16\n",
        "VALID_BATCH_SIZE = 16\n",
        "EPOCHS = 10\n",
        "BERT_MODEL = 'bert-base-uncased'\n",
        "LEARNING_RATE = 3e-5\n",
        "\n",
        "\n",
        "\n",
        "df_train , df_test  = train_test_split(new_df, test_size = 0.2, random_state = 42, shuffle = True)\n",
        "df_valid , df_test  = train_test_split(df_test, test_size = 0.5, random_state = 42, shuffle = True)\n",
        "\n",
        "#print(train_df.shape , test_df.shape , val_df.shape)  \n",
        "\n",
        "tokenizer = transformers.BertTokenizer.from_pretrained(BERT_MODEL)\n",
        "\n",
        "train_dataset = util_tokenizer(\n",
        "    text = df_train['text'].values,\n",
        "    targets = df_train['polarity_new'].values,\n",
        "    tokenizer = tokenizer,\n",
        "    max_len = TRAIN_MAX_LEN\n",
        ")\n",
        "\n",
        "\n",
        "class_counts = []\n",
        "for i in range(3):\n",
        "  class_counts.append(df_train[df_train['polarity_new']==i].shape[0])\n",
        "\n",
        "\n",
        "num_samples = sum(class_counts)\n",
        "labels = df_train['polarity_new'].values\n",
        "\n",
        "\n",
        "class_counts=list(class_counts)\n",
        "class_weights = []\n",
        "\n",
        "for i in range(3):\n",
        "\n",
        "  if class_counts[i] != 0:\n",
        "    class_weights.append(num_samples/class_counts[i])\n",
        "  else:\n",
        "    class_weights.append(0)\n",
        "\n",
        "weights = [class_weights[labels[i]] for i in range(int(num_samples))]\n",
        "sampler = torch.utils.data.sampler.WeightedRandomSampler(torch.DoubleTensor(weights), int(num_samples))\n",
        "\n",
        "\n",
        "train_data_loader = torch.utils.data.DataLoader(\n",
        "    train_dataset,\n",
        "    batch_size = TRAIN_BATCH_SIZE,\n",
        "    shuffle = False,\n",
        "    sampler = sampler\n",
        ")\n",
        "\n",
        "valid_dataset = util_tokenizer(\n",
        "    text = df_valid['text'].values,\n",
        "    targets = df_valid['polarity_new'].values,\n",
        "    tokenizer = tokenizer,\n",
        "    max_len = VALID_MAX_LEN\n",
        ")\n",
        "\n",
        "valid_data_loader = torch.utils.data.DataLoader(\n",
        "    valid_dataset,\n",
        "    batch_size = VALID_BATCH_SIZE,\n",
        "    shuffle = False\n",
        ")\n",
        "\n",
        "model = SentimentClassifier(BERT_MODEL)\n",
        "model = model.to(device)\n",
        "\n",
        "\n",
        "\n",
        "num_train_steps = int(len(train_dataset) / TRAIN_BATCH_SIZE * EPOCHS)\n",
        "optimizer = AdamW(model.parameters(), lr=LEARNING_RATE)\n",
        "\n",
        "scheduler = lr_scheduler.StepLR(\n",
        "    optimizer,\n",
        "    step_size = 1,\n",
        "    gamma = 0.8\n",
        ")\n",
        "training_loss=[]\n",
        "validation_loss=[]\n",
        "\n",
        "max_accuracy = -999\n",
        "for epoch in range(EPOCHS):\n",
        "      val_loss=[]\n",
        "      print(epoch)\n",
        "      loss_list= train_loop_function(data_loader=train_data_loader, model=model,\n",
        "                                              optimizer=optimizer, device=device)\n",
        "      \n",
        "      training_loss.append(sum(loss_list)/len(loss_list))\n",
        "      print(\"Hi\")\n",
        "      val_loss = [validation(model, data) for data in valid_data_loader]\n",
        "  \n",
        "      validation_loss.append(sum(val_loss)/len(val_loss))\n",
        "      print(\"hello\")\n",
        "      accuracy = eval_loop_function(data_loader=valid_data_loader, model=model, device=device)\n",
        "      if accuracy>max_accuracy :\n",
        "                      max_accuracy=accuracy\n",
        "                      final_model = model\n",
        "                      model_name = '/content/drive/MyDrive/NLU2/module2/'+ str(epoch) + '.bin'\n",
        "                      best_loss_list = loss_list\n",
        "                      best_val_list = val_loss\n",
        "                      \n",
        "\n",
        "      print(f\"\\nEpoch = {epoch}\\tAccuracy Score = {accuracy}\")\n",
        "      print(f\"Learning Rate = {scheduler.get_lr()[0]}\\n\")\n",
        "      print(\"loss_list \",loss_list,sep= \" \")\n",
        "      print(\"Val loss list\",val_loss,sep=\" \")\n",
        "\n",
        "      scheduler.step()\n",
        "\n",
        "\n",
        "torch.save(final_model,model_name)     \n",
        "\n"
      ],
      "metadata": {
        "id": "x7yHoAFJ57Ej",
        "colab": {
          "base_uri": "https://localhost:8080/"
        },
        "outputId": "a430aeb2-a998-47a1-cbbb-0e589e21a169"
      },
      "execution_count": null,
      "outputs": [
        {
          "output_type": "stream",
          "name": "stdout",
          "text": [
            "0\n",
            "Hi\n",
            "hello\n",
            "\n",
            "Epoch = 0\tAccuracy Score = 69.68408262454435\n",
            "Learning Rate = 3e-05\n",
            "\n",
            "loss_list  [1.2324391841888427, 1.1303816139698029, 1.1075385928153991, 1.0882656037807465, 1.0424256443977356, 1.0568148016929626, 0.9380248010158538, 0.8401795029640198, 0.8799811244010926, 0.9282179176807404, 0.9896318256855011, 0.8482338786125183, 0.8675100803375244, 0.814940345287323, 0.9034456014633179, 0.7545141518115998, 0.7757190048694611, 0.7919434130191803, 0.7761144161224365, 0.7466035842895508, 0.6753473520278931, 0.6978271901607513, 0.693602055311203, 0.771434223651886, 0.749886828660965, 0.6951312184333801, 0.6937263369560241, 0.6892277210950851, 0.6087267696857452, 0.6806224048137665, 0.7060648798942566, 0.6408259481191635, 0.621559602022171, 0.6917488157749176, 0.656056261062622, 0.6696865230798721, 0.7013168871402741, 0.7953053772449493, 0.7632710814476014, 0.7074207782745361, 0.7474815100431442, 0.5277473390102386, 0.7035003870725631, 0.6996013283729553, 0.7664319097995758, 0.6447779029607773, 0.6868973448872566, 0.6267704010009766, 0.5755329757928849, 0.6837264478206635, 0.6642651259899139, 0.6041097819805146, 0.6162701040506363, 0.6486364513635635, 0.6749741613864899, 0.5905661046504974, 0.6522041529417038, 0.7091085463762283, 0.6685696363449096, 0.5062882453203201, 0.5717931151390075, 0.5917907536029816, 0.5631900027394294, 0.6081855416297912, 0.6104196697473526, 0.5778868407011032, 0.5764084011316299, 0.5811394497752189, 0.6192344546318054, 0.6136011481285095, 0.6107449382543564, 0.572068738937378, 0.6013485580682755, 0.5797661870718003, 0.5722238391637802, 0.6012232333421708, 0.5619086354970932, 0.42969735860824587, 0.5870329767465592, 0.5543197885155677, 0.5635067731142044, 0.49233710318803786]\n",
            "Val loss list [0.5884479880332947, 1.1127535104751587, 0.3822999596595764, 0.4073638916015625, 0.7368635535240173, 0.906132698059082, 0.6109040975570679, 0.7021893858909607, 0.5301244854927063, 0.45920366048812866, 0.5299478769302368, 0.6294726729393005, 0.8072100877761841, 0.9805368185043335, 0.6832858324050903, 0.7111002206802368, 0.49281299114227295, 0.416109561920166, 0.9637186527252197, 0.9494091272354126, 1.077531099319458, 0.8400305509567261, 0.7766419053077698, 0.7737003564834595, 1.1406605243682861, 0.5807459950447083, 0.8189249038696289, 0.7434056997299194, 0.6719252467155457, 0.6524466872215271, 0.5494496822357178, 0.8692303895950317, 0.4333113133907318, 0.48734498023986816, 0.766892671585083, 0.5490667223930359, 1.0432170629501343, 0.7582559585571289, 0.5093152523040771, 0.8218265771865845, 0.7626137733459473, 0.40383821725845337, 0.9974505305290222, 0.7668160200119019, 0.45994406938552856, 0.47057387232780457, 0.5276240110397339, 0.7273047566413879, 0.880781888961792, 0.850564181804657, 0.6967380046844482, 0.8678086400032043, 0.5845608711242676, 0.6558030843734741, 0.6199453473091125, 0.48756086826324463, 0.7777060866355896, 0.5701144933700562, 1.0672780275344849, 0.369089812040329, 1.195632815361023, 1.1628588438034058, 0.7714349627494812, 0.26022985577583313, 1.1005152463912964, 0.5559618473052979, 0.8155849575996399, 0.4174322783946991, 0.8233954906463623, 0.8890682458877563, 0.771019697189331, 0.6630724668502808, 0.5110383033752441, 0.7475093007087708, 0.800204336643219, 0.5433333516120911, 0.8053250908851624, 0.6428765058517456, 0.9209705591201782, 0.5820416212081909, 0.48549896478652954, 0.828030526638031, 1.0236377716064453, 0.9385090470314026, 0.5097993612289429, 0.9703993797302246, 0.7598766088485718, 0.7479138374328613, 0.43375810980796814, 0.7178258299827576, 0.9789755940437317, 0.5870264768600464, 0.703781008720398, 0.9257973432540894, 0.9184712171554565, 0.5309492945671082, 0.8637275099754333, 0.7836868166923523, 0.9796523451805115, 0.6761041283607483, 0.5564092993736267, 0.9809157252311707, 0.7684149146080017]\n",
            "1\n"
          ]
        },
        {
          "output_type": "stream",
          "name": "stderr",
          "text": [
            "/usr/local/lib/python3.7/dist-packages/torch/optim/lr_scheduler.py:370: UserWarning: To get the last learning rate computed by the scheduler, please use `get_last_lr()`.\n",
            "  \"please use `get_last_lr()`.\", UserWarning)\n"
          ]
        },
        {
          "output_type": "stream",
          "name": "stdout",
          "text": [
            "Hi\n",
            "hello\n",
            "\n",
            "Epoch = 1\tAccuracy Score = 69.5625759416768\n",
            "Learning Rate = 1.9200000000000003e-05\n",
            "\n",
            "loss_list  [0.6783526003360748, 0.6051653891801834, 0.582279446721077, 0.4932779908180237, 0.665027278661728, 0.47713536620140073, 0.5542127907276153, 0.5270244747400283, 0.48946087062358856, 0.5614976167678833, 0.5428221851587296, 0.41573145389556887, 0.5575920403003692, 0.5623569965362549, 0.48276021182537077, 0.4907993167638779, 0.5475274652242661, 0.5063873559236527, 0.46245393753051756, 0.5081786081194878, 0.47503151595592497, 0.5165760844945908, 0.5484783500432968, 0.5473757416009903, 0.5107003435492515, 0.3655793502926826, 0.42851842790842054, 0.4671899572014809, 0.4503639951348305, 0.517585501074791, 0.6084950715303421, 0.45617312788963316, 0.43433602079749106, 0.431534905731678, 0.5796054556965828, 0.4174249619245529, 0.49339752793312075, 0.4492377430200577, 0.3836245611310005, 0.4423541270196438, 0.5120647922158241, 0.3635591819882393, 0.5065790206193924, 0.4319205440580845, 0.5165305882692337, 0.4226790726184845, 0.5114210456609726, 0.37737005203962326, 0.4795140609145164, 0.3859058365225792, 0.4007216513156891, 0.4302303597331047, 0.5195176526904106, 0.4232922628521919, 0.41005795150995256, 0.3568491995334625, 0.3402189940214157, 0.46186368763446806, 0.40532452166080474, 0.4500765070319176, 0.40227078944444655, 0.45194798409938813, 0.4757893145084381, 0.5013676717877388, 0.47575737833976744, 0.40648145973682404, 0.42159048467874527, 0.36750771999359133, 0.25690937936306, 0.37894726544618607, 0.4122414320707321, 0.3438364252448082, 0.4457433670759201, 0.37107097879052164, 0.38967864215373993, 0.4486338526010513, 0.40079965591430666, 0.4072348356246948, 0.2593335181474686, 0.42068805918097496, 0.36627517864108083, 0.39424070417881013]\n",
            "Val loss list [0.76143878698349, 0.9560004472732544, 0.26636266708374023, 0.3567761778831482, 1.0828325748443604, 0.8413107991218567, 0.8496227860450745, 0.5493335723876953, 0.6196320056915283, 0.21285732090473175, 0.6725670695304871, 0.49798423051834106, 0.7892682552337646, 1.0223464965820312, 0.7855748534202576, 0.8207915425300598, 0.6638681888580322, 0.2690262198448181, 1.2800201177597046, 1.092790961265564, 0.8528051972389221, 0.8786032199859619, 0.7734900116920471, 1.0289130210876465, 1.2336333990097046, 0.7799336314201355, 0.9389963746070862, 0.7427477836608887, 0.8398324847221375, 0.7406325936317444, 0.5935103893280029, 1.1063978672027588, 0.42063021659851074, 0.5771620869636536, 0.7153964042663574, 0.38400277495384216, 0.9178470969200134, 0.7117646336555481, 0.4942869544029236, 0.8251386880874634, 0.626706600189209, 0.4406979978084564, 1.2227647304534912, 0.7895303964614868, 0.5731861591339111, 0.5151955485343933, 0.515200138092041, 0.6063253283500671, 0.8081912398338318, 0.9389892220497131, 0.8473694920539856, 0.9578787088394165, 0.5329551100730896, 0.6399002075195312, 0.8545231819152832, 0.776534914970398, 0.718586266040802, 0.6539796590805054, 0.9972367286682129, 0.5812005996704102, 1.360607385635376, 1.7276606559753418, 0.4458632171154022, 0.2944108545780182, 1.6532269716262817, 0.7229242920875549, 0.8351135849952698, 0.5295847654342651, 0.536152184009552, 0.8384799361228943, 1.057981252670288, 0.5840100646018982, 0.4234883487224579, 0.96950364112854, 0.7800847887992859, 0.8212974071502686, 0.9609857797622681, 0.6308614015579224, 0.8794819116592407, 0.5397793054580688, 0.45018845796585083, 0.8885184526443481, 1.3023065328598022, 1.2473151683807373, 0.6096919775009155, 1.048719048500061, 0.7062874436378479, 0.6731215715408325, 0.6698663830757141, 0.8425901532173157, 1.0150561332702637, 0.7280576229095459, 0.6400303244590759, 0.8735561370849609, 0.9067497253417969, 0.4045233428478241, 1.2359018325805664, 0.9946568012237549, 0.9871730804443359, 0.7525873780250549, 0.8353794813156128, 1.0432884693145752, 0.690287709236145]\n",
            "2\n",
            "Hi\n",
            "hello\n",
            "\n",
            "Epoch = 2\tAccuracy Score = 68.408262454435\n",
            "Learning Rate = 1.5360000000000002e-05\n",
            "\n",
            "loss_list  [0.37172008454799654, 0.395716167986393, 0.42738972306251527, 0.335614837706089, 0.4000223383307457, 0.4021132081747055, 0.4863481536507607, 0.2975886806845665, 0.3854179918766022, 0.2888872519135475, 0.3256558641791344, 0.3163534816354513, 0.36984403133392335, 0.41831415221095086, 0.2765523634850979, 0.3125112012028694, 0.30959688052535056, 0.43861307501792907, 0.30824310183525083, 0.29588343501091, 0.32371788620948794, 0.359563946723938, 0.36158458739519117, 0.35727802067995074, 0.37192021161317823, 0.22795789018273355, 0.25527042225003244, 0.3543155737221241, 0.4254409998655319, 0.33376153074204923, 0.25926568955183027, 0.2894772209227085, 0.28699119091033937, 0.30709773004055024, 0.36031303480267524, 0.29990110322833063, 0.30410052090883255, 0.2608685098588467, 0.31860321909189226, 0.37535537630319593, 0.22843373343348503, 0.30964731574058535, 0.3420745924115181, 0.27395616509020326, 0.21047591269016266, 0.27372988909482954, 0.3126417338848114, 0.2651403099298477, 0.25698440298438074, 0.3047058381140232, 0.2976533114910126, 0.23116234242916106, 0.3054893553256989, 0.25295125097036364, 0.24799216762185097, 0.2658376179635525, 0.29981988817453387, 0.28551585376262667, 0.26191422045230867, 0.29779383465647696, 0.2220475822687149, 0.3520197980105877, 0.20469057261943818, 0.2616887651383877, 0.26175025328993795, 0.2442632641643286, 0.179183629155159, 0.2014812681823969, 0.23669981807470322, 0.3063970360904932, 0.2944304898381233, 0.27815071418881415, 0.3400715745985508, 0.29784826189279556, 0.22214373312890529, 0.33455653190612794, 0.32065390795469284, 0.293321580439806, 0.23265809789299965, 0.24491682425141334, 0.14533940963447095, 0.22105174660682678]\n",
            "Val loss list [0.8988268971443176, 1.5130250453948975, 0.7330530881881714, 0.8532266020774841, 1.1336337327957153, 1.5675009489059448, 0.8046850562095642, 1.2124077081680298, 0.5552893877029419, 0.6859213709831238, 0.7031886577606201, 0.5826544761657715, 0.8921887874603271, 1.1215009689331055, 1.097883939743042, 1.3343377113342285, 0.9494961500167847, 0.2540253698825836, 1.4217170476913452, 1.072472333908081, 1.200196385383606, 1.7567901611328125, 0.8475029468536377, 1.052923560142517, 1.738289713859558, 0.6724112629890442, 1.2766202688217163, 1.3300113677978516, 0.8266282677650452, 1.1679637432098389, 0.3533485233783722, 1.031982421875, 0.3394273817539215, 0.49994564056396484, 0.6252979636192322, 0.4965793192386627, 0.9488211870193481, 0.9188018441200256, 0.7433354258537292, 1.1479629278182983, 0.8890158534049988, 0.5465785264968872, 1.1221143007278442, 0.8584578037261963, 0.6129614114761353, 0.5365214943885803, 0.537146270275116, 1.1434471607208252, 1.2964762449264526, 1.2646656036376953, 0.9027863144874573, 1.182066559791565, 0.9234690070152283, 0.8553330302238464, 0.536205530166626, 0.49166616797447205, 0.6237173080444336, 0.6601287722587585, 1.7065190076828003, 0.6612275838851929, 1.7474371194839478, 2.01842999458313, 0.5956545472145081, 0.2200702577829361, 1.9246690273284912, 0.5195379257202148, 0.6852254271507263, 0.6516293287277222, 0.9264177680015564, 1.1320961713790894, 1.18799889087677, 0.2867071330547333, 0.6637115478515625, 1.4297757148742676, 1.0836913585662842, 0.9867905974388123, 1.588477611541748, 0.8607794046401978, 1.01172935962677, 0.873848557472229, 0.5461367964744568, 1.055785059928894, 1.5227216482162476, 1.6525206565856934, 0.4820762574672699, 1.3609439134597778, 0.8955420851707458, 0.9891486763954163, 0.9710337519645691, 1.015689730644226, 1.297560691833496, 0.924224853515625, 0.8904779553413391, 1.310859203338623, 1.1083159446716309, 0.9262250065803528, 1.225398302078247, 1.02860426902771, 1.2482272386550903, 0.8637596368789673, 1.1458498239517212, 1.4254391193389893, 0.7982469797134399]\n",
            "3\n"
          ]
        }
      ]
    },
    {
      "cell_type": "code",
      "source": [
        "accuracy =[64.37269372693727,66.92619926199262,67.81918819188192,69.55719557195572,70.74169741697416]"
      ],
      "metadata": {
        "id": "1PlAhK9euR33"
      },
      "execution_count": null,
      "outputs": []
    },
    {
      "cell_type": "code",
      "source": [
        "validation_loss[1]= 0.6836977573352701\n",
        "validation_loss[2] = 0.6004381174550337\n",
        "validation_loss[3] = 0.5520813757005859\n",
        "validation_loss[4] = 0.4814376967794754\n",
        "\n"
      ],
      "metadata": {
        "id": "8b2tTaDosOZa"
      },
      "execution_count": null,
      "outputs": []
    },
    {
      "cell_type": "code",
      "source": [
        "plt.plot(range(1,6),training_loss,label=\"Training loss\")\n",
        "plt.plot(range(1,6),validation_loss,label=\"Validation loss\")\n",
        "\n",
        "\n",
        "plt.xlabel(\"Epoch\") \n",
        "plt.ylabel(\"Loss\")\n",
        "title= \"Training vs Validation Loss\"\n",
        "plt.title(title)\n",
        "plt.legend()\n",
        "plt.show()\n"
      ],
      "metadata": {
        "colab": {
          "base_uri": "https://localhost:8080/",
          "height": 295
        },
        "id": "rtdcnltyfwlt",
        "outputId": "1c843c39-d3d9-4327-f6b7-802d98d8c4f6"
      },
      "execution_count": null,
      "outputs": [
        {
          "output_type": "display_data",
          "data": {
            "text/plain": [
              "<Figure size 432x288 with 1 Axes>"
            ],
            "image/png": "[encoded data removed]"
          },
          "metadata": {
            "needs_background": "light"
          }
        }
      ]
    },
    {
      "cell_type": "code",
      "source": [
        "plt.plot(range(1,6),accuracy,label=\"Validation Accuracy\")\n",
        "\n",
        "\n",
        "plt.xlabel(\"Epoch\") \n",
        "plt.ylabel(\"Validation accuracy\")\n",
        "title= \"Validation accuracy vs epoch\"\n",
        "plt.title(title)\n",
        "plt.legend()\n",
        "plt.show()\n"
      ],
      "metadata": {
        "colab": {
          "base_uri": "https://localhost:8080/",
          "height": 295
        },
        "id": "iHBYmse5uho2",
        "outputId": "56df73cd-caf6-401f-a9ff-ad29d4f134ea"
      },
      "execution_count": null,
      "outputs": [
        {
          "output_type": "display_data",
          "data": {
            "text/plain": [
              "<Figure size 432x288 with 1 Axes>"
            ],
            "image/png": "[encoded data removed]"
          },
          "metadata": {
            "needs_background": "light"
          }
        }
      ]
    },
    {
      "cell_type": "code",
      "source": [
        "len(df_test)"
      ],
      "metadata": {
        "colab": {
          "base_uri": "https://localhost:8080/"
        },
        "id": "yoMjYXw9zj54",
        "outputId": "adaa05fb-1291-4231-c2ba-e65924f2cf11"
      },
      "execution_count": null,
      "outputs": [
        {
          "output_type": "execute_result",
          "data": {
            "text/plain": [
              "543"
            ]
          },
          "metadata": {},
          "execution_count": 96
        }
      ]
    },
    {
      "cell_type": "code",
      "source": [
        "BERT_MODEL = 'bert-base-uncased'\n",
        "MAX_LEN = 160\n",
        "\n",
        "tokenizer = transformers.BertTokenizer.from_pretrained(BERT_MODEL)\n",
        "\n",
        "score=[]\n",
        "text_list=[]\n",
        "test_id=[]\n",
        "polarity=[]\n",
        "ratings = df_test.Ratings\n",
        "\n",
        "\n",
        "path = \"/content/drive/MyDrive/NLU2/module2/\"\n",
        "dir_list = os.listdir(path)\n",
        "path=path+dir_list[0]\n",
        "model = torch.load(path, map_location='cpu')\n",
        "model= model.to(device)\n",
        "\n",
        "\n",
        "for each_example in df_test.itertuples():\n",
        "\n",
        "  id = int(each_example.id)\n",
        "  text=each_example.text\n",
        "  #each_example=list(each_example)\n",
        "  #print(each_example)\n",
        "  \n",
        "  \n",
        "  inputs = tokenizer.encode_plus(\n",
        "      text,\n",
        "      add_special_tokens = True,\n",
        "      max_length = MAX_LEN,\n",
        "      pad_to_max_length = True\n",
        "  )\n",
        "  ids = torch.tensor(inputs[\"input_ids\"], dtype=torch.long).unsqueeze(0)\n",
        "  mask = torch.tensor(inputs[\"attention_mask\"], dtype=torch.long).unsqueeze(0)\n",
        "  token_type_ids = torch.tensor(inputs[\"token_type_ids\"], dtype=torch.long).unsqueeze(0)\n",
        "\n",
        "  ids = ids.to(device, dtype=torch.long)\n",
        "  mask = mask.to(device, dtype=torch.long)\n",
        "  token_type_ids = token_type_ids.to(device, dtype=torch.long)\n",
        "\n",
        "\n",
        "\n",
        "  outputs = model(ids=ids, mask=mask, token_type_ids=token_type_ids)\n",
        "  \n",
        "  _, predicted = torch.max(outputs, 1)\n",
        "  \n",
        "  predicted = predicted.detach().cpu().numpy()\n",
        " \n",
        "  predict_polarity=predicted[0]\n",
        "  predict_score=outputs[0][predict_polarity].item()\n",
        "  \n",
        "  #append  print(predicted)\n",
        "  score.append(predict_score)\n",
        "  test_id.append(id)\n",
        "  text_list.append(text)\n",
        "\n",
        "  polarity.append(predicted[0])\n",
        "\n",
        "  \n"
      ],
      "metadata": {
        "id": "jeDmPS9Iu5Oi"
      },
      "execution_count": null,
      "outputs": []
    },
    {
      "cell_type": "code",
      "source": [
        "dict_ = {'id': test_id, 'text': text_list, \n",
        "         'polarity_score':score,'polarity':polarity,'ratings':ratings} \n",
        "df = pd.DataFrame(dict_)"
      ],
      "metadata": {
        "id": "25qCB1ZEDBRg"
      },
      "execution_count": null,
      "outputs": []
    },
    {
      "cell_type": "code",
      "source": [
        "df.to_csv(\"interim_output_without_normalized.csv\",index=False)"
      ],
      "metadata": {
        "id": "r8ROHmNq5b1v"
      },
      "execution_count": null,
      "outputs": []
    },
    {
      "cell_type": "code",
      "source": [
        "list(df.polarity_score)"
      ],
      "metadata": {
        "id": "Dun-sg7D0rUB"
      },
      "execution_count": null,
      "outputs": []
    },
    {
      "cell_type": "code",
      "source": [
        "df.polarity_score = (df.polarity_score - np.min(df.polarity_score))/(np.max(df.polarity_score)-np.min(df.polarity_score))\n",
        "print(df)"
      ],
      "metadata": {
        "colab": {
          "base_uri": "https://localhost:8080/"
        },
        "id": "RX3zhFVST0LC",
        "outputId": "90dc0890-bc73-44a5-bc9f-01ec6043a956"
      },
      "execution_count": null,
      "outputs": [
        {
          "output_type": "stream",
          "name": "stdout",
          "text": [
            "        id                                               text  polarity_score  \\\n",
            "1509  1965  Ordered the seafood curry and it looked delici...        0.993576   \n",
            "4612  3250  Same as the other locations, except that this ...        0.563739   \n",
            "322      8  Its nice to support the locals vs the big chai...        0.597876   \n",
            "1890  3533  \"\"\"If I could give this place a negative star,...        0.751804   \n",
            "2998  9699  Just left the restaurant , pretty decent frien...        0.665758   \n",
            "...    ...                                                ...             ...   \n",
            "1335  2430  \"\"\"I used to like blue wasabi.\\n\\nAdmittedly, ...        0.904497   \n",
            "4918  7630  **I'm posting this again, because I guess I po...        0.316672   \n",
            "2414   757  The BF and I went here this morning after thin...        0.105427   \n",
            "106   3857  I like their food & drinks and they have some ...        0.560699   \n",
            "1129  4018  Epic fail for this place. \\n\\nI was just out w...        0.912641   \n",
            "\n",
            "      polarity ratings  \n",
            "1509         1       2  \n",
            "4612         2       3  \n",
            "322          2       3  \n",
            "1890         1       2  \n",
            "2998         0       5  \n",
            "...        ...     ...  \n",
            "1335         1       1  \n",
            "4918         2       2  \n",
            "2414         1       2  \n",
            "106          1       2  \n",
            "1129         1       1  \n",
            "\n",
            "[543 rows x 5 columns]\n"
          ]
        }
      ]
    },
    {
      "cell_type": "code",
      "source": [
        "df.to_csv(\"interim_output.csv\",index=False)"
      ],
      "metadata": {
        "id": "Pj7BLd3Q0qHs"
      },
      "execution_count": null,
      "outputs": []
    },
    {
      "cell_type": "code",
      "source": [
        "df.head()"
      ],
      "metadata": {
        "colab": {
          "base_uri": "https://localhost:8080/",
          "height": 206
        },
        "id": "i-01cdq_lAOj",
        "outputId": "3ac0ffb1-184f-4226-af59-b0a91de7e27b"
      },
      "execution_count": null,
      "outputs": [
        {
          "output_type": "execute_result",
          "data": {
            "text/plain": [
              "        id                                               text  polarity_score  \\\n",
              "1509  1965  Ordered the seafood curry and it looked delici...        0.993576   \n",
              "4612  3250  Same as the other locations, except that this ...        0.563739   \n",
              "322      8  Its nice to support the locals vs the big chai...        0.597876   \n",
              "1890  3533  \"\"\"If I could give this place a negative star,...        0.751804   \n",
              "2998  9699  Just left the restaurant , pretty decent frien...        0.665758   \n",
              "\n",
              "      polarity ratings  \n",
              "1509         1       2  \n",
              "4612         2       3  \n",
              "322          2       3  \n",
              "1890         1       2  \n",
              "2998         0       5  "
            ],
            "text/html": [
              "\n",
              "  <div id=\"df-97c9d138-c0a5-4ae3-9c96-1753d39ad53d\">\n",
              "    <div class=\"colab-df-container\">\n",
              "      <div>\n",
              "<style scoped>\n",
              "    .dataframe tbody tr th:only-of-type {\n",
              "        vertical-align: middle;\n",
              "    }\n",
              "\n",
              "    .dataframe tbody tr th {\n",
              "        vertical-align: top;\n",
              "    }\n",
              "\n",
              "    .dataframe thead th {\n",
              "        text-align: right;\n",
              "    }\n",
              "</style>\n",
              "<table border=\"1\" class=\"dataframe\">\n",
              "  <thead>\n",
              "    <tr style=\"text-align: right;\">\n",
              "      <th></th>\n",
              "      <th>id</th>\n",
              "      <th>text</th>\n",
              "      <th>polarity_score</th>\n",
              "      <th>polarity</th>\n",
              "      <th>ratings</th>\n",
              "    </tr>\n",
              "  </thead>\n",
              "  <tbody>\n",
              "    <tr>\n",
              "      <th>1509</th>\n",
              "      <td>1965</td>\n",
              "      <td>Ordered the seafood curry and it looked delici...</td>\n",
              "      <td>0.993576</td>\n",
              "      <td>1</td>\n",
              "      <td>2</td>\n",
              "    </tr>\n",
              "    <tr>\n",
              "      <th>4612</th>\n",
              "      <td>3250</td>\n",
              "      <td>Same as the other locations, except that this ...</td>\n",
              "      <td>0.563739</td>\n",
              "      <td>2</td>\n",
              "      <td>3</td>\n",
              "    </tr>\n",
              "    <tr>\n",
              "      <th>322</th>\n",
              "      <td>8</td>\n",
              "      <td>Its nice to support the locals vs the big chai...</td>\n",
              "      <td>0.597876</td>\n",
              "      <td>2</td>\n",
              "      <td>3</td>\n",
              "    </tr>\n",
              "    <tr>\n",
              "      <th>1890</th>\n",
              "      <td>3533</td>\n",
              "      <td>\"\"\"If I could give this place a negative star,...</td>\n",
              "      <td>0.751804</td>\n",
              "      <td>1</td>\n",
              "      <td>2</td>\n",
              "    </tr>\n",
              "    <tr>\n",
              "      <th>2998</th>\n",
              "      <td>9699</td>\n",
              "      <td>Just left the restaurant , pretty decent frien...</td>\n",
              "      <td>0.665758</td>\n",
              "      <td>0</td>\n",
              "      <td>5</td>\n",
              "    </tr>\n",
              "  </tbody>\n",
              "</table>\n",
              "</div>\n",
              "      <button class=\"colab-df-convert\" onclick=\"convertToInteractive('df-97c9d138-c0a5-4ae3-9c96-1753d39ad53d')\"\n",
              "              title=\"Convert this dataframe to an interactive table.\"\n",
              "              style=\"display:none;\">\n",
              "        \n",
              "  <svg xmlns=\"http://www.w3.org/2000/svg\" height=\"24px\"viewBox=\"0 0 24 24\"\n",
              "       width=\"24px\">\n",
              "    <path d=\"M0 0h24v24H0V0z\" fill=\"none\"/>\n",
              "    <path d=\"M18.56 5.44l.94 2.06.94-2.06 2.06-.94-2.06-.94-.94-2.06-.94 2.06-2.06.94zm-11 1L8.5 8.5l.94-2.06 2.06-.94-2.06-.94L8.5 2.5l-.94 2.06-2.06.94zm10 10l.94 2.06.94-2.06 2.06-.94-2.06-.94-.94-2.06-.94 2.06-2.06.94z\"/><path d=\"M17.41 7.96l-1.37-1.37c-.4-.4-.92-.59-1.43-.59-.52 0-1.04.2-1.43.59L10.3 9.45l-7.72 7.72c-.78.78-.78 2.05 0 2.83L4 21.41c.39.39.9.59 1.41.59.51 0 1.02-.2 1.41-.59l7.78-7.78 2.81-2.81c.8-.78.8-2.07 0-2.86zM5.41 20L4 18.59l7.72-7.72 1.47 1.35L5.41 20z\"/>\n",
              "  </svg>\n",
              "      </button>\n",
              "      \n",
              "  <style>\n",
              "    .colab-df-container {\n",
              "      display:flex;\n",
              "      flex-wrap:wrap;\n",
              "      gap: 12px;\n",
              "    }\n",
              "\n",
              "    .colab-df-convert {\n",
              "      background-color: #E8F0FE;\n",
              "      border: none;\n",
              "      border-radius: 50%;\n",
              "      cursor: pointer;\n",
              "      display: none;\n",
              "      fill: #1967D2;\n",
              "      height: 32px;\n",
              "      padding: 0 0 0 0;\n",
              "      width: 32px;\n",
              "    }\n",
              "\n",
              "    .colab-df-convert:hover {\n",
              "      background-color: #E2EBFA;\n",
              "      box-shadow: 0px 1px 2px rgba(60, 64, 67, 0.3), 0px 1px 3px 1px rgba(60, 64, 67, 0.15);\n",
              "      fill: #174EA6;\n",
              "    }\n",
              "\n",
              "    [theme=dark] .colab-df-convert {\n",
              "      background-color: #3B4455;\n",
              "      fill: #D2E3FC;\n",
              "    }\n",
              "\n",
              "    [theme=dark] .colab-df-convert:hover {\n",
              "      background-color: #434B5C;\n",
              "      box-shadow: 0px 1px 3px 1px rgba(0, 0, 0, 0.15);\n",
              "      filter: drop-shadow(0px 1px 2px rgba(0, 0, 0, 0.3));\n",
              "      fill: #FFFFFF;\n",
              "    }\n",
              "  </style>\n",
              "\n",
              "      <script>\n",
              "        const buttonEl =\n",
              "          document.querySelector('#df-97c9d138-c0a5-4ae3-9c96-1753d39ad53d button.colab-df-convert');\n",
              "        buttonEl.style.display =\n",
              "          google.colab.kernel.accessAllowed ? 'block' : 'none';\n",
              "\n",
              "        async function convertToInteractive(key) {\n",
              "          const element = document.querySelector('#df-97c9d138-c0a5-4ae3-9c96-1753d39ad53d');\n",
              "          const dataTable =\n",
              "            await google.colab.kernel.invokeFunction('convertToInteractive',\n",
              "                                                     [key], {});\n",
              "          if (!dataTable) return;\n",
              "\n",
              "          const docLinkHtml = 'Like what you see? Visit the ' +\n",
              "            '<a target=\"_blank\" href=https://colab.research.google.com/notebooks/data_table.ipynb>data table notebook</a>'\n",
              "            + ' to learn more about interactive tables.';\n",
              "          element.innerHTML = '';\n",
              "          dataTable['output_type'] = 'display_data';\n",
              "          await google.colab.output.renderOutput(dataTable, element);\n",
              "          const docLink = document.createElement('div');\n",
              "          docLink.innerHTML = docLinkHtml;\n",
              "          element.appendChild(docLink);\n",
              "        }\n",
              "      </script>\n",
              "    </div>\n",
              "  </div>\n",
              "  "
            ]
          },
          "metadata": {},
          "execution_count": 35
        }
      ]
    },
    {
      "cell_type": "code",
      "source": [
        "'''\n",
        "polarity =2 ratings =3\n",
        "polarity =0 and poalrity_score >=0.75  ratings=5\n",
        "polarity=0 and polarity_score>=0.4 and polarity_score<0.75 ratings = 4\n",
        "polarity =1 and poalrity_score >=0.75  ratings=1\n",
        "polarity=1 and polarity_score>=0.4 and polarity_score<0.75 ratings = 2\n",
        "'''"
      ],
      "metadata": {
        "id": "5F884aY52pSk"
      },
      "execution_count": null,
      "outputs": []
    },
    {
      "cell_type": "code",
      "source": [
        "predicted_ratings=[]\n",
        "for each_example in df.itertuples():\n",
        "\n",
        "  if each_example.polarity=='2':\n",
        "    predicted_ratings.append(3)\n",
        "\n",
        "  elif each_example.polarity=='0' and each_example.polarity_score >=0.75:\n",
        "    predicted_ratings.append(5)\n",
        "  \n",
        "  elif each_example.polarity=='0'  and each_example.polarity_score >=0.4  and each_example.polarity_score <0.75:\n",
        "    predicted_ratings.append(4)\n",
        "  \n",
        "  elif each_example.polarity=='1' and each_example.polarity_score >=0.75:\n",
        "    predicted_ratings.append(1)\n",
        "\n",
        "  elif each_example.polarity=='1'  and each_example.polarity_score >=0.4  and each_example.polarity_score <0.75:\n",
        "    predicted_ratings.append(2)\n",
        "\n",
        "\n",
        "  else:\n",
        "    predicted_ratings.append(2)\n",
        "\n",
        "df['predicted_ratings']=predicted_ratings"
      ],
      "metadata": {
        "id": "-DZriYL34QjN"
      },
      "execution_count": null,
      "outputs": []
    },
    {
      "cell_type": "code",
      "source": [
        "df.to_csv(\"final_result.csv\",index=False)"
      ],
      "metadata": {
        "id": "Cqd75UyCn1T-"
      },
      "execution_count": null,
      "outputs": []
    },
    {
      "cell_type": "code",
      "source": [],
      "metadata": {
        "id": "xsFB0Qt_n5D9"
      },
      "execution_count": null,
      "outputs": []
    }
  ]
}